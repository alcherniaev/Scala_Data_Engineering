{
 "cells": [
  {
   "cell_type": "code",
   "execution_count": 1,
   "metadata": {},
   "outputs": [],
   "source": [
    "import sys.process._"
   ]
  },
  {
   "cell_type": "code",
   "execution_count": 2,
   "metadata": {},
   "outputs": [
    {
     "data": {
      "text/plain": [
       "Name: Syntax Error.\n",
       "Message: \n",
       "StackTrace: "
      ]
     },
     "execution_count": 2,
     "metadata": {},
     "output_type": "execute_result"
    }
   ],
   "source": [
    "//\"hdfs dfs -ls /user\".!"
   ]
  },
  {
   "cell_type": "code",
   "execution_count": 3,
   "metadata": {},
   "outputs": [
    {
     "data": {
      "text/plain": [
       "Name: Syntax Error.\n",
       "Message: \n",
       "StackTrace: "
      ]
     },
     "execution_count": 3,
     "metadata": {},
     "output_type": "execute_result"
    }
   ],
   "source": [
    "//\"hdfs dfs -ls /tmp/\".!"
   ]
  },
  {
   "cell_type": "markdown",
   "metadata": {},
   "source": [
    "## Cassandra"
   ]
  },
  {
   "cell_type": "code",
   "execution_count": 4,
   "metadata": {},
   "outputs": [
    {
     "name": "stdout",
     "output_type": "stream",
     "text": [
      "Using cached version of spark-cassandra-connector_2.11-2.4.3.jar\n"
     ]
    }
   ],
   "source": [
    "%AddJar https://repo1.maven.org/maven2/com/datastax/spark/spark-cassandra-connector_2.11/2.4.3/spark-cassandra-connector_2.11-2.4.3.jar"
   ]
  },
  {
   "cell_type": "markdown",
   "metadata": {},
   "source": [
    "## Elasticsearch"
   ]
  },
  {
   "cell_type": "code",
   "execution_count": 5,
   "metadata": {},
   "outputs": [
    {
     "name": "stdout",
     "output_type": "stream",
     "text": [
      "Using cached version of elasticsearch-spark-20_2.11-7.7.0.jar\n"
     ]
    }
   ],
   "source": [
    "%AddJar file:///data/home/alexey.chernyaev2/elasticsearch-spark-20_2.11-7.7.0.jar"
   ]
  },
  {
   "cell_type": "markdown",
   "metadata": {},
   "source": [
    "## Postgres"
   ]
  },
  {
   "cell_type": "code",
   "execution_count": 6,
   "metadata": {},
   "outputs": [
    {
     "name": "stdout",
     "output_type": "stream",
     "text": [
      "Using cached version of postgresql-42.2.12.jre6.jar\n"
     ]
    }
   ],
   "source": [
    "%AddJar file:///data/home/alexey.chernyaev2/postgresql-42.2.12.jre6.jar"
   ]
  },
  {
   "cell_type": "markdown",
   "metadata": {},
   "source": []
  },
  {
   "cell_type": "code",
   "execution_count": 7,
   "metadata": {},
   "outputs": [
    {
     "name": "stdout",
     "output_type": "stream",
     "text": [
      "Starting Spark Session...\n",
      "Spark Session was started\n"
     ]
    },
    {
     "data": {
      "text/plain": [
       "username = alexey_chernyaev2\n",
       "password = fuiBpd2S\n",
       "hostname = 10.0.0.5\n",
       "postgreUrl = jdbc:postgresql://10.0.0.5:5432\n",
       "conf = org.apache.spark.SparkConf@581191e\n",
       "sparkSession = org.apache.spark.sql.SparkSession@374494b6\n"
      ]
     },
     "metadata": {},
     "output_type": "display_data"
    },
    {
     "data": {
      "text/plain": [
       "org.apache.spark.sql.SparkSession@374494b6"
      ]
     },
     "execution_count": 7,
     "metadata": {},
     "output_type": "execute_result"
    }
   ],
   "source": [
    "import org.apache.spark.{SparkContext, SparkConf}\n",
    "\n",
    "println(\"Starting Spark Session...\")\n",
    "\n",
    "val username = \"alexey_chernyaev2\"\n",
    "val password = \"fuiBpd2S\"\n",
    "val hostname = \"10.0.0.5\"\n",
    "\n",
    "val postgreUrl = s\"jdbc:postgresql://$hostname:5432\"\n",
    "\n",
    "val conf = new SparkConf()\n",
    "                    .set(\"spark.cassandra.connection.host\", hostname)\n",
    "                    .set(\"spark.cassandra.connection.port\", \"9042\")\n",
    "                    .set(\"spark.cassandra.auth.username\", \"alexey.chernyaev2\")\n",
    "                    .set(\"spark.cassandra.auth.password\", password)\n",
    "                    .set(\"spark.cassandra.output.consistency.level\", \"ANY\")\n",
    "                    .set(\"spark.cassandra.input.consistency.level\", \"ONE\")\n",
    "    \n",
    "val sparkSession = SparkSession.builder()\n",
    "                        .appName(\"Lab03\")\n",
    "                        .config(conf=conf)\n",
    "                        .getOrCreate()\n",
    "\n",
    "println(\"Spark Session was started\")"
   ]
  },
  {
   "cell_type": "code",
   "execution_count": 8,
   "metadata": {},
   "outputs": [
    {
     "name": "stdout",
     "output_type": "stream",
     "text": [
      "+--------------------+---+------+\n",
      "|                 uid|age|gender|\n",
      "+--------------------+---+------+\n",
      "|075bdfc4-cfa6-4f0...| 39|     F|\n",
      "|a1096800-f5d8-4f1...| 52|     M|\n",
      "|594d59f5-22db-4c2...| 39|     M|\n",
      "|e60a27f7-9c8e-4c6...| 30|     M|\n",
      "|bf620165-604f-4ea...| 65|     F|\n",
      "|97fd1ca4-b2b6-4f8...| 20|     F|\n",
      "|d219a21c-af6d-484...| 39|     M|\n",
      "|0e38d915-ed29-4ab...| 49|     M|\n",
      "|9f968029-11c0-429...| 39|     F|\n",
      "|1784f7ee-f8fa-419...| 19|     F|\n",
      "|400a54aa-51dd-4e3...| 32|     F|\n",
      "|1ffe78da-81b1-4ea...| 39|     M|\n",
      "|58fd46de-2e9d-4b8...| 26|     M|\n",
      "|d066f4cb-fa3f-4a9...| 30|     F|\n",
      "|8608a863-1abe-47f...| 26|     M|\n",
      "|a4404d1c-9d82-451...| 31|     F|\n",
      "|d226a5bf-287d-47c...| 36|     M|\n",
      "|2d256dd9-771d-4e8...| 29|     M|\n",
      "|b9ad76d6-b20f-4e5...| 34|     F|\n",
      "|eee0b882-a6a8-4f3...| 25|     M|\n",
      "+--------------------+---+------+\n",
      "only showing top 20 rows\n",
      "\n"
     ]
    },
    {
     "data": {
      "text/plain": [
       "tableOpts = Map(table -> clients, keyspace -> labdata)\n",
       "clients = [uid: string, age: int ... 1 more field]\n"
      ]
     },
     "metadata": {},
     "output_type": "display_data"
    },
    {
     "data": {
      "text/plain": [
       "[uid: string, age: int ... 1 more field]"
      ]
     },
     "execution_count": 8,
     "metadata": {},
     "output_type": "execute_result"
    }
   ],
   "source": [
    "// read cassandra \n",
    "\n",
    "val tableOpts = Map(\"table\" -> \"clients\", \"keyspace\" -> \"labdata\")\n",
    "val clients = spark\n",
    "  .read\n",
    "  .format(\"org.apache.spark.sql.cassandra\")\n",
    "  .options(tableOpts)\n",
    "  .load()\n",
    "clients.show()"
   ]
  },
  {
   "cell_type": "code",
   "execution_count": 9,
   "metadata": {},
   "outputs": [
    {
     "name": "stdout",
     "output_type": "stream",
     "text": [
      "+--------------------+------+-------+------------+-------------+--------------+--------------+----------------------------+---------------------+------------------------------+-------------------------+------------------------+-----------------------+---------------------+------------+------------------+----------+---------------------+---------+\n",
      "|                 uid|gender|age_cat|shop_cameras|shop_clothing|shop_computers|shop_cosmetics|shop_entertainment_equipment|shop_everyday_jewelry|shop_house_repairs_paint_tools|shop_household_appliances|shop_household_furniture|shop_kitchen_appliances|shop_kitchen_utensils|shop_luggage|shop_mobile_phones|shop_shoes|shop_sports_equipment|shop_toys|\n",
      "+--------------------+------+-------+------------+-------------+--------------+--------------+----------------------------+---------------------+------------------------------+-------------------------+------------------------+-----------------------+---------------------+------------+------------------+----------+---------------------+---------+\n",
      "|0392f398-ea7e-4a1...|     F|   >=55|           1|         null|             1|          null|                           1|                 null|                          null|                     null|                    null|                   null|                 null|        null|                 1|      null|                 null|     null|\n",
      "|094b1e7e-97a6-441...|     F|  18-24|        null|         null|             1|          null|                           1|                 null|                          null|                     null|                    null|                   null|                 null|        null|                 2|      null|                 null|     null|\n",
      "|095544a2-64f7-422...|     F|  25-34|        null|         null|             1|          null|                           1|                 null|                          null|                     null|                       1|                      1|                 null|        null|              null|      null|                 null|     null|\n",
      "|098a0e00-8597-475...|     F|   >=55|        null|         null|             2|          null|                           1|                 null|                          null|                     null|                    null|                   null|                 null|        null|                 1|      null|                 null|     null|\n",
      "|0a595fa1-bae0-41d...|     M|   >=55|           1|         null|             1|          null|                        null|                 null|                          null|                     null|                    null|                      1|                    1|        null|              null|      null|                 null|     null|\n",
      "+--------------------+------+-------+------------+-------------+--------------+--------------+----------------------------+---------------------+------------------------------+-------------------------+------------------------+-----------------------+---------------------+------------+------------------+----------+---------------------+---------+\n",
      "only showing top 5 rows\n",
      "\n"
     ]
    },
    {
     "data": {
      "text/plain": [
       "shopStatsDF = [uid: string, gender: string ... 17 more fields]\n"
      ]
     },
     "metadata": {},
     "output_type": "display_data"
    },
    {
     "data": {
      "text/plain": [
       "[uid: string, gender: string ... 17 more fields]"
      ]
     },
     "execution_count": 9,
     "metadata": {},
     "output_type": "execute_result"
    }
   ],
   "source": [
    "import org.apache.spark.sql.functions.when\n",
    "\n",
    "val shopStatsDF = clients\n",
    "                        .withColumn(\"age_cat\", when($\"age\" >= 55, \">=55\")\n",
    "                                              .when($\"age\" >= 45, \"45-54\")\n",
    "                                              .when($\"age\" >= 35, \"35-44\")\n",
    "                                              .when($\"age\" >= 25, \"25-34\")\n",
    "                                              .when($\"age\" >= 18, \"18-24\"))\n",
    "                        .join(visitStatsDF, Seq(\"uid\"), \"left\")\n",
    "                        .groupBy($\"uid\", $\"gender\", $\"age_cat\")\n",
    "                        .pivot($\"shop_group\")\n",
    "                        .sum(\"count\")\n",
    "                        .drop($\"null\")\n",
    "\n",
    "shopStatsDF.show(5)"
   ]
  },
  {
   "cell_type": "code",
   "execution_count": 10,
   "metadata": {},
   "outputs": [
    {
     "name": "stdout",
     "output_type": "stream",
     "text": [
      "root\n",
      " |-- uid: string (nullable = true)\n",
      " |-- visits: array (nullable = true)\n",
      " |    |-- element: struct (containsNull = true)\n",
      " |    |    |-- timestamp: long (nullable = true)\n",
      " |    |    |-- url: string (nullable = true)\n",
      "\n",
      "-RECORD 0----------------------------------------------------------------------------------------------------------------------------------------------------------------------------------------------------------\n",
      " uid    | 39d8aded-2111-42ab-9393-37c4f781d030                                                                                                                                                                     \n",
      " visits | [[1419590902274, http://go.mail.ru/], [1419590344372, http://thephilanews.com/ru/wawa-welcome-america-begins-with-reading-…-and-the-runway-32987.htm], [1419590203997, http://visitorsworth.com/www.w... \n",
      "-RECORD 1----------------------------------------------------------------------------------------------------------------------------------------------------------------------------------------------------------\n",
      " uid    | 39d9ba9f-bf37-4fa7-b698-abc45d5930d2                                                                                                                                                                     \n",
      " visits | [[1419861042745, http://www.nexplorer.ru/news__11325.htm], [1419764569495, http://www.nexplorer.ru/news__11325.htm], [1419758650205, http://www.artemida-hunter.ru/items/17856], [1418875853533, http... \n",
      "-RECORD 2----------------------------------------------------------------------------------------------------------------------------------------------------------------------------------------------------------\n",
      " uid    | 39da2825-1f0d-4500-b3ec-1470f82e10a1                                                                                                                                                                     \n",
      " visits | [[1427187917000, http://greenstree.ru./view.php?ad=86570919]]                                                                                                                                            \n",
      "only showing top 3 rows\n",
      "\n"
     ]
    },
    {
     "data": {
      "text/plain": [
       "webLogsDF = [uid: string, visits: array<struct<timestamp:bigint,url:string>>]\n"
      ]
     },
     "metadata": {},
     "output_type": "display_data"
    },
    {
     "data": {
      "text/plain": [
       "[uid: string, visits: array<struct<timestamp:bigint,url:string>>]"
      ]
     },
     "execution_count": 10,
     "metadata": {},
     "output_type": "execute_result"
    }
   ],
   "source": [
    "// read HDFS\n",
    "\n",
    "val webLogsDF = spark.read.parquet(\"/labs/laba03/weblogs.parquet\")\n",
    "\n",
    "webLogsDF.printSchema\n",
    "webLogsDF.show(3, 200, true)"
   ]
  },
  {
   "cell_type": "code",
   "execution_count": 11,
   "metadata": {},
   "outputs": [
    {
     "name": "stdout",
     "output_type": "stream",
     "text": [
      "572694\n",
      "root\n",
      " |-- uid: string (nullable = true)\n",
      " |-- domain: string (nullable = true)\n",
      " |-- count: long (nullable = false)\n",
      "\n",
      "+--------------------+----------------+-----+\n",
      "|                 uid|          domain|count|\n",
      "+--------------------+----------------+-----+\n",
      "|3a081c72-5c55-4c7...|videograbber.net|    1|\n",
      "|3a48922d-4621-455...|      umeltsi.ru|    4|\n",
      "|63046a3d-830e-44b...|      intvua.com|    2|\n",
      "|6305c993-f1e7-4fc...|     parasola.ru|    1|\n",
      "|6307cb7e-2b98-4be...|  kontaktlife.ru|    1|\n",
      "+--------------------+----------------+-----+\n",
      "only showing top 5 rows\n",
      "\n"
     ]
    },
    {
     "data": {
      "text/plain": [
       "webLogsStatsDF = [uid: string, domain: string ... 1 more field]\n"
      ]
     },
     "metadata": {},
     "output_type": "display_data"
    },
    {
     "data": {
      "text/plain": [
       "[uid: string, domain: string ... 1 more field]"
      ]
     },
     "execution_count": 11,
     "metadata": {},
     "output_type": "execute_result"
    }
   ],
   "source": [
    "import org.apache.spark.sql.functions._\n",
    "\n",
    "val webLogsStatsDF = webLogsDF\n",
    "                        .select($\"uid\", explode($\"visits\").as(\"visit\"))\n",
    "                        .withColumn(\"host\", lower(callUDF(\"parse_url\", $\"visit.url\", lit(\"HOST\"))))\n",
    "                        .withColumn(\"domain\", regexp_replace(lower($\"host\"), \"www.\", \"\"))\n",
    "                        .where($\"uid\".isNotNull)\n",
    "                        .groupBy($\"uid\", $\"domain\").count\n",
    "\n",
    "println(webLogsStatsDF.cache.count)\n",
    "webLogsStatsDF.printSchema\n",
    "webLogsStatsDF.show(5)"
   ]
  },
  {
   "cell_type": "code",
   "execution_count": 12,
   "metadata": {},
   "outputs": [
    {
     "name": "stdout",
     "output_type": "stream",
     "text": [
      "root\n",
      " |-- domain: string (nullable = true)\n",
      " |-- category: string (nullable = true)\n",
      "\n",
      "+--------------------+--------+\n",
      "|              domain|category|\n",
      "+--------------------+--------+\n",
      "|national-lottery....|gambling|\n",
      "|          rivalo.com|gambling|\n",
      "|             xoso.me|gambling|\n",
      "|         betin.co.ke|gambling|\n",
      "|          skybet.com|gambling|\n",
      "|              fdj.fr|gambling|\n",
      "|     minhngoc.net.vn|gambling|\n",
      "|   hollywoodbets.net|gambling|\n",
      "|           tipico.de|gambling|\n",
      "|       betpawa.co.ke|gambling|\n",
      "|           bet365.it|gambling|\n",
      "|          bet365.com|gambling|\n",
      "|loteriasdominican...|gambling|\n",
      "|            hkjc.com|gambling|\n",
      "|        sunmaker.com|gambling|\n",
      "|     williamhill.com|gambling|\n",
      "|       parimatch.com|gambling|\n",
      "|        freebitco.in|gambling|\n",
      "|   mismarcadores.com|gambling|\n",
      "|      flashscore.com|gambling|\n",
      "+--------------------+--------+\n",
      "only showing top 20 rows\n",
      "\n"
     ]
    },
    {
     "data": {
      "text/plain": [
       "domainCatsDF = [domain: string, category: string]\n"
      ]
     },
     "metadata": {},
     "output_type": "display_data"
    },
    {
     "data": {
      "text/plain": [
       "[domain: string, category: string]"
      ]
     },
     "execution_count": 12,
     "metadata": {},
     "output_type": "execute_result"
    }
   ],
   "source": [
    "// read postrgres\n",
    "\n",
    "val domainCatsDF = spark.read\n",
    "                                .format(\"jdbc\")\n",
    "                                .option(\"driver\", \"org.postgresql.Driver\")\n",
    "                                .option(\"url\", s\"$postgreUrl/labdata\")\n",
    "                                .option(\"dbtable\", \"domain_cats\")\n",
    "                                .option(\"user\", username)\n",
    "                                .option(\"password\", password)\n",
    "                                .load()\n",
    "\n",
    "domainCatsDF.printSchema\n",
    "domainCatsDF.show()"
   ]
  },
  {
   "cell_type": "code",
   "execution_count": 13,
   "metadata": {},
   "outputs": [
    {
     "name": "stdout",
     "output_type": "stream",
     "text": [
      "+--------------------+--------------------------+----------------------+----------------------+------------------------+-------------------------+------------------------+----------------------------+-----------+------------------+------------+---------+----------+-------------------+------------------------+----------------------+------------------+--------------------+--------------------------+-------------+-----------+------------+----------+----------+\n",
      "|                 uid|web_arts_and_entertainment|web_autos_and_vehicles|web_beauty_and_fitness|web_books_and_literature|web_business_and_industry|web_career_and_education|web_computer_and_electronics|web_finance|web_food_and_drink|web_gambling|web_games|web_health|web_home_and_garden|web_internet_and_telecom|web_law_and_government|web_news_and_media|web_pets_and_animals|web_recreation_and_hobbies|web_reference|web_science|web_shopping|web_sports|web_travel|\n",
      "+--------------------+--------------------------+----------------------+----------------------+------------------------+-------------------------+------------------------+----------------------------+-----------+------------------+------------+---------+----------+-------------------+------------------------+----------------------+------------------+--------------------+--------------------------+-------------+-----------+------------+----------+----------+\n",
      "|a7193805-fd23-450...|                        28|                  null|                     4|                    null|                     null|                    null|                        null|       null|              null|        null|     null|      null|               null|                    null|                  null|              null|                null|                      null|         null|       null|        null|      null|      null|\n",
      "|d1b25e00-e63e-4e6...|                         4|                  null|                  null|                    null|                        2|                    null|                        null|         85|              null|        null|     null|         1|               null|                       1|                  null|                77|                null|                      null|            2|       null|           2|      null|      null|\n",
      "|853148d9-6fff-4c4...|                         2|                  null|                  null|                    null|                     null|                    null|                        null|          2|              null|        null|     null|      null|               null|                    null|                  null|                 7|                null|                      null|         null|       null|           1|      null|         3|\n",
      "|4dbddd13-ece7-4c7...|                      null|                  null|                  null|                    null|                     null|                    null|                        null|       null|              null|        null|     null|      null|               null|                    null|                  null|                16|                null|                      null|         null|       null|        null|      null|      null|\n",
      "|55872f59-b3bb-4e6...|                        94|                     1|                  null|                    null|                     null|                    null|                        null|       null|              null|        null|     null|      null|               null|                      60|                  null|               215|                null|                      null|            1|       null|         775|      null|      null|\n",
      "+--------------------+--------------------------+----------------------+----------------------+------------------------+-------------------------+------------------------+----------------------------+-----------+------------------+------------+---------+----------+-------------------+------------------------+----------------------+------------------+--------------------+--------------------------+-------------+-----------+------------+----------+----------+\n",
      "only showing top 5 rows\n",
      "\n"
     ]
    },
    {
     "data": {
      "text/plain": [
       "webStatsDF = [uid: string, web_arts_and_entertainment: bigint ... 22 more fields]\n"
      ]
     },
     "metadata": {},
     "output_type": "display_data"
    },
    {
     "data": {
      "text/plain": [
       "[uid: string, web_arts_and_entertainment: bigint ... 22 more fields]"
      ]
     },
     "execution_count": 13,
     "metadata": {},
     "output_type": "execute_result"
    }
   ],
   "source": [
    "val webStatsDF = webLogsStatsDF\n",
    "                        .join(domainCatsDF, Seq(\"domain\"), \"left\")\n",
    "                        .withColumn(\"web_cat\", concat(lit(\"web_\"), regexp_replace(lower($\"category\"), \"[ -]\", \"_\")))\n",
    "                        .where($\"web_cat\".isNotNull)\n",
    "                        .groupBy($\"uid\")\n",
    "                        .pivot($\"web_cat\")\n",
    "                        .sum(\"count\")\n",
    "\n",
    "\n",
    "webStatsDF.show(5)"
   ]
  },
  {
   "cell_type": "code",
   "execution_count": 14,
   "metadata": {},
   "outputs": [
    {
     "name": "stdout",
     "output_type": "stream",
     "text": [
      "+--------------------+----------+--------------------+----------+-------------------+--------------------+\n",
      "|            category|event_type|             item_id|item_price|          timestamp|                 uid|\n",
      "+--------------------+----------+--------------------+----------+-------------------+--------------------+\n",
      "|Entertainment-equ...|       buy|Entertainment-equ...|      2529|2020-01-01 11:00:00|40b29579-e845-45c...|\n",
      "|    Everyday-jewelry|       buy|  Everyday-jewelry-0|      4320|2020-01-01 11:01:00|                null|\n",
      "|             Cameras|      view|           Cameras-1|      1856|2020-01-01 11:02:00|ab0e7dd1-5899-488...|\n",
      "|             Luggage|      view|           Luggage-7|      4975|2020-01-01 11:02:00|                null|\n",
      "|       Mobile-phones|      view|    Mobile-phones-10|      3981|2020-01-01 11:03:00|d1206327-0e9f-410...|\n",
      "+--------------------+----------+--------------------+----------+-------------------+--------------------+\n",
      "only showing top 5 rows\n",
      "\n",
      "root\n",
      " |-- category: string (nullable = true)\n",
      " |-- event_type: string (nullable = true)\n",
      " |-- item_id: string (nullable = true)\n",
      " |-- item_price: long (nullable = true)\n",
      " |-- timestamp: timestamp (nullable = true)\n",
      " |-- uid: string (nullable = true)\n",
      "\n"
     ]
    },
    {
     "data": {
      "text/plain": [
       "esOptions = Map(es.nodes.wan.only -> true, es.net.http.auth.user -> alexey.chernyaev2, es.net.http.auth.pass -> fuiBpd2S, es.batch.write.refresh -> false, es.nodes -> 10.0.0.5:9200)\n",
       "visitsDF = [category: string, event_type: string ... 4 more fields]\n"
      ]
     },
     "metadata": {},
     "output_type": "display_data"
    },
    {
     "data": {
      "text/plain": [
       "[category: string, event_type: string ... 4 more fields]"
      ]
     },
     "execution_count": 14,
     "metadata": {},
     "output_type": "execute_result"
    }
   ],
   "source": [
    "// read elasticsearch\n",
    "\n",
    "val esOptions =\n",
    "  Map(\n",
    "    \"es.nodes\" -> \"10.0.0.5:9200\",\n",
    "    \"es.batch.write.refresh\" -> \"false\",\n",
    "    \"es.nodes.wan.only\" -> \"true\",\n",
    "    \"es.net.http.auth.user\" -> \"alexey.chernyaev2\",\n",
    "    \"es.net.http.auth.pass\" -> password\n",
    "  )\n",
    "var visitsDF = spark.read.format(\"org.elasticsearch.spark.sql\").options(esOptions).load(\"visits*\")\n",
    "\n",
    "\n",
    "visitsDF.show(5)\n",
    "visitsDF.printSchema"
   ]
  },
  {
   "cell_type": "code",
   "execution_count": 15,
   "metadata": {},
   "outputs": [
    {
     "name": "stdout",
     "output_type": "stream",
     "text": [
      "+--------------------+--------------------+-----+\n",
      "|                 uid|          shop_group|count|\n",
      "+--------------------+--------------------+-----+\n",
      "|75fcbe0c-ef8a-452...|      shop_computers|    1|\n",
      "|9e241ecb-af15-49a...|        shop_cameras|    1|\n",
      "|372c086a-c53d-45f...|  shop_mobile_phones|    1|\n",
      "|fcd5dccb-6efc-447...|shop_entertainmen...|    1|\n",
      "|b065187e-5ab9-46c...|        shop_luggage|    1|\n",
      "+--------------------+--------------------+-----+\n",
      "only showing top 5 rows\n",
      "\n"
     ]
    },
    {
     "data": {
      "text/plain": [
       "visitStatsDF = [uid: string, shop_group: string ... 1 more field]\n"
      ]
     },
     "metadata": {},
     "output_type": "display_data"
    },
    {
     "data": {
      "text/plain": [
       "[uid: string, shop_group: string ... 1 more field]"
      ]
     },
     "execution_count": 15,
     "metadata": {},
     "output_type": "execute_result"
    }
   ],
   "source": [
    "val visitStatsDF = visitsDF\n",
    "                    .filter($\"uid\".isNotNull)\n",
    "                    .withColumn(\"shop_group\", concat(lit(\"shop_\"), regexp_replace(lower($\"category\"), \"[ -]\", \"_\")))\n",
    "                    .groupBy($\"uid\", $\"shop_group\")\n",
    "                    .count()\n",
    "\n",
    "visitStatsDF.show(5)"
   ]
  },
  {
   "cell_type": "code",
   "execution_count": null,
   "metadata": {},
   "outputs": [],
   "source": []
  },
  {
   "cell_type": "code",
   "execution_count": null,
   "metadata": {},
   "outputs": [],
   "source": []
  },
  {
   "cell_type": "markdown",
   "metadata": {},
   "source": [
    "## DataMart"
   ]
  },
  {
   "cell_type": "code",
   "execution_count": 16,
   "metadata": {},
   "outputs": [
    {
     "name": "stdout",
     "output_type": "stream",
     "text": [
      "36138\n",
      "root\n",
      " |-- uid: string (nullable = true)\n",
      " |-- gender: string (nullable = true)\n",
      " |-- age_cat: string (nullable = true)\n",
      " |-- shop_cameras: long (nullable = true)\n",
      " |-- shop_clothing: long (nullable = true)\n",
      " |-- shop_computers: long (nullable = true)\n",
      " |-- shop_cosmetics: long (nullable = true)\n",
      " |-- shop_entertainment_equipment: long (nullable = true)\n",
      " |-- shop_everyday_jewelry: long (nullable = true)\n",
      " |-- shop_house_repairs_paint_tools: long (nullable = true)\n",
      " |-- shop_household_appliances: long (nullable = true)\n",
      " |-- shop_household_furniture: long (nullable = true)\n",
      " |-- shop_kitchen_appliances: long (nullable = true)\n",
      " |-- shop_kitchen_utensils: long (nullable = true)\n",
      " |-- shop_luggage: long (nullable = true)\n",
      " |-- shop_mobile_phones: long (nullable = true)\n",
      " |-- shop_shoes: long (nullable = true)\n",
      " |-- shop_sports_equipment: long (nullable = true)\n",
      " |-- shop_toys: long (nullable = true)\n",
      " |-- web_arts_and_entertainment: long (nullable = true)\n",
      " |-- web_autos_and_vehicles: long (nullable = true)\n",
      " |-- web_beauty_and_fitness: long (nullable = true)\n",
      " |-- web_books_and_literature: long (nullable = true)\n",
      " |-- web_business_and_industry: long (nullable = true)\n",
      " |-- web_career_and_education: long (nullable = true)\n",
      " |-- web_computer_and_electronics: long (nullable = true)\n",
      " |-- web_finance: long (nullable = true)\n",
      " |-- web_food_and_drink: long (nullable = true)\n",
      " |-- web_gambling: long (nullable = true)\n",
      " |-- web_games: long (nullable = true)\n",
      " |-- web_health: long (nullable = true)\n",
      " |-- web_home_and_garden: long (nullable = true)\n",
      " |-- web_internet_and_telecom: long (nullable = true)\n",
      " |-- web_law_and_government: long (nullable = true)\n",
      " |-- web_news_and_media: long (nullable = true)\n",
      " |-- web_pets_and_animals: long (nullable = true)\n",
      " |-- web_recreation_and_hobbies: long (nullable = true)\n",
      " |-- web_reference: long (nullable = true)\n",
      " |-- web_science: long (nullable = true)\n",
      " |-- web_shopping: long (nullable = true)\n",
      " |-- web_sports: long (nullable = true)\n",
      " |-- web_travel: long (nullable = true)\n",
      "\n",
      "-RECORD 0--------------------------------------------------------------\n",
      " uid                            | 03001878-d923-4880-9c69-8b6884c7ad0e \n",
      " gender                         | F                                    \n",
      " age_cat                        | 18-24                                \n",
      " shop_cameras                   | 1                                    \n",
      " shop_clothing                  | null                                 \n",
      " shop_computers                 | 1                                    \n",
      " shop_cosmetics                 | null                                 \n",
      " shop_entertainment_equipment   | 1                                    \n",
      " shop_everyday_jewelry          | null                                 \n",
      " shop_house_repairs_paint_tools | null                                 \n",
      " shop_household_appliances      | null                                 \n",
      " shop_household_furniture       | null                                 \n",
      " shop_kitchen_appliances        | null                                 \n",
      " shop_kitchen_utensils          | null                                 \n",
      " shop_luggage                   | null                                 \n",
      " shop_mobile_phones             | 1                                    \n",
      " shop_shoes                     | null                                 \n",
      " shop_sports_equipment          | null                                 \n",
      " shop_toys                      | null                                 \n",
      " web_arts_and_entertainment     | null                                 \n",
      " web_autos_and_vehicles         | null                                 \n",
      " web_beauty_and_fitness         | null                                 \n",
      " web_books_and_literature       | null                                 \n",
      " web_business_and_industry      | null                                 \n",
      " web_career_and_education       | null                                 \n",
      " web_computer_and_electronics   | null                                 \n",
      " web_finance                    | null                                 \n",
      " web_food_and_drink             | null                                 \n",
      " web_gambling                   | null                                 \n",
      " web_games                      | null                                 \n",
      " web_health                     | null                                 \n",
      " web_home_and_garden            | null                                 \n",
      " web_internet_and_telecom       | null                                 \n",
      " web_law_and_government         | null                                 \n",
      " web_news_and_media             | null                                 \n",
      " web_pets_and_animals           | null                                 \n",
      " web_recreation_and_hobbies     | null                                 \n",
      " web_reference                  | null                                 \n",
      " web_science                    | null                                 \n",
      " web_shopping                   | null                                 \n",
      " web_sports                     | null                                 \n",
      " web_travel                     | null                                 \n",
      "-RECORD 1--------------------------------------------------------------\n",
      " uid                            | 030124f5-12f9-4d74-934c-1c6ea2f5c5c7 \n",
      " gender                         | M                                    \n",
      " age_cat                        | 18-24                                \n",
      " shop_cameras                   | null                                 \n",
      " shop_clothing                  | null                                 \n",
      " shop_computers                 | null                                 \n",
      " shop_cosmetics                 | null                                 \n",
      " shop_entertainment_equipment   | null                                 \n",
      " shop_everyday_jewelry          | null                                 \n",
      " shop_house_repairs_paint_tools | 1                                    \n",
      " shop_household_appliances      | null                                 \n",
      " shop_household_furniture       | null                                 \n",
      " shop_kitchen_appliances        | 1                                    \n",
      " shop_kitchen_utensils          | null                                 \n",
      " shop_luggage                   | null                                 \n",
      " shop_mobile_phones             | null                                 \n",
      " shop_shoes                     | null                                 \n",
      " shop_sports_equipment          | null                                 \n",
      " shop_toys                      | null                                 \n",
      " web_arts_and_entertainment     | 5                                    \n",
      " web_autos_and_vehicles         | null                                 \n",
      " web_beauty_and_fitness         | null                                 \n",
      " web_books_and_literature       | null                                 \n",
      " web_business_and_industry      | 1                                    \n",
      " web_career_and_education       | null                                 \n",
      " web_computer_and_electronics   | null                                 \n",
      " web_finance                    | null                                 \n",
      " web_food_and_drink             | 7                                    \n",
      " web_gambling                   | null                                 \n",
      " web_games                      | null                                 \n",
      " web_health                     | null                                 \n",
      " web_home_and_garden            | null                                 \n",
      " web_internet_and_telecom       | null                                 \n",
      " web_law_and_government         | null                                 \n",
      " web_news_and_media             | null                                 \n",
      " web_pets_and_animals           | null                                 \n",
      " web_recreation_and_hobbies     | null                                 \n",
      " web_reference                  | null                                 \n",
      " web_science                    | null                                 \n",
      " web_shopping                   | 50                                   \n",
      " web_sports                     | null                                 \n",
      " web_travel                     | null                                 \n",
      "-RECORD 2--------------------------------------------------------------\n",
      " uid                            | 0302a0a9-8ad0-4a4f-9dbf-9eae34f8ed84 \n",
      " gender                         | F                                    \n",
      " age_cat                        | 18-24                                \n",
      " shop_cameras                   | 1                                    \n",
      " shop_clothing                  | null                                 \n",
      " shop_computers                 | 1                                    \n",
      " shop_cosmetics                 | null                                 \n",
      " shop_entertainment_equipment   | 1                                    \n",
      " shop_everyday_jewelry          | null                                 \n",
      " shop_house_repairs_paint_tools | null                                 \n",
      " shop_household_appliances      | null                                 \n",
      " shop_household_furniture       | null                                 \n",
      " shop_kitchen_appliances        | null                                 \n",
      " shop_kitchen_utensils          | null                                 \n",
      " shop_luggage                   | null                                 \n",
      " shop_mobile_phones             | 1                                    \n",
      " shop_shoes                     | null                                 \n",
      " shop_sports_equipment          | null                                 \n",
      " shop_toys                      | null                                 \n",
      " web_arts_and_entertainment     | 1                                    \n",
      " web_autos_and_vehicles         | null                                 \n",
      " web_beauty_and_fitness         | null                                 \n",
      " web_books_and_literature       | null                                 \n",
      " web_business_and_industry      | 11                                   \n",
      " web_career_and_education       | 4                                    \n",
      " web_computer_and_electronics   | null                                 \n",
      " web_finance                    | 1                                    \n",
      " web_food_and_drink             | null                                 \n",
      " web_gambling                   | null                                 \n",
      " web_games                      | null                                 \n",
      " web_health                     | null                                 \n",
      " web_home_and_garden            | null                                 \n",
      " web_internet_and_telecom       | 109                                  \n",
      " web_law_and_government         | null                                 \n",
      " web_news_and_media             | null                                 \n",
      " web_pets_and_animals           | null                                 \n",
      " web_recreation_and_hobbies     | null                                 \n",
      " web_reference                  | null                                 \n",
      " web_science                    | null                                 \n",
      " web_shopping                   | null                                 \n",
      " web_sports                     | null                                 \n",
      " web_travel                     | null                                 \n",
      "only showing top 3 rows\n",
      "\n"
     ]
    },
    {
     "data": {
      "text/plain": [
       "datamartDF = [uid: string, gender: string ... 40 more fields]\n"
      ]
     },
     "metadata": {},
     "output_type": "display_data"
    },
    {
     "data": {
      "text/plain": [
       "[uid: string, gender: string ... 40 more fields]"
      ]
     },
     "execution_count": 16,
     "metadata": {},
     "output_type": "execute_result"
    }
   ],
   "source": [
    "val datamartDF = shopStatsDF\n",
    "                        .join(webStatsDF, Seq(\"uid\"), \"left\")\n",
    "                        .orderBy($\"uid\")\n",
    "println(datamartDF.cache.count)\n",
    "datamartDF.printSchema\n",
    "datamartDF.show(3, 200, true)"
   ]
  },
  {
   "cell_type": "code",
   "execution_count": 17,
   "metadata": {},
   "outputs": [
    {
     "name": "stdout",
     "output_type": "stream",
     "text": [
      "36138\n",
      "root\n",
      " |-- uid: string (nullable = true)\n",
      " |-- gender: string (nullable = true)\n",
      " |-- age_cat: string (nullable = true)\n",
      " |-- shop_cameras: long (nullable = true)\n",
      " |-- shop_clothing: long (nullable = true)\n",
      " |-- shop_computers: long (nullable = true)\n",
      " |-- shop_cosmetics: long (nullable = true)\n",
      " |-- shop_entertainment_equipment: long (nullable = true)\n",
      " |-- shop_everyday_jewelry: long (nullable = true)\n",
      " |-- shop_house_repairs_paint_tools: long (nullable = true)\n",
      " |-- shop_household_appliances: long (nullable = true)\n",
      " |-- shop_household_furniture: long (nullable = true)\n",
      " |-- shop_kitchen_appliances: long (nullable = true)\n",
      " |-- shop_kitchen_utensils: long (nullable = true)\n",
      " |-- shop_luggage: long (nullable = true)\n",
      " |-- shop_mobile_phones: long (nullable = true)\n",
      " |-- shop_shoes: long (nullable = true)\n",
      " |-- shop_sports_equipment: long (nullable = true)\n",
      " |-- shop_toys: long (nullable = true)\n",
      " |-- web_arts_and_entertainment: long (nullable = true)\n",
      " |-- web_autos_and_vehicles: long (nullable = true)\n",
      " |-- web_beauty_and_fitness: long (nullable = true)\n",
      " |-- web_books_and_literature: long (nullable = true)\n",
      " |-- web_business_and_industry: long (nullable = true)\n",
      " |-- web_career_and_education: long (nullable = true)\n",
      " |-- web_computer_and_electronics: long (nullable = true)\n",
      " |-- web_finance: long (nullable = true)\n",
      " |-- web_food_and_drink: long (nullable = true)\n",
      " |-- web_gambling: long (nullable = true)\n",
      " |-- web_games: long (nullable = true)\n",
      " |-- web_health: long (nullable = true)\n",
      " |-- web_home_and_garden: long (nullable = true)\n",
      " |-- web_internet_and_telecom: long (nullable = true)\n",
      " |-- web_law_and_government: long (nullable = true)\n",
      " |-- web_news_and_media: long (nullable = true)\n",
      " |-- web_pets_and_animals: long (nullable = true)\n",
      " |-- web_recreation_and_hobbies: long (nullable = true)\n",
      " |-- web_reference: long (nullable = true)\n",
      " |-- web_science: long (nullable = true)\n",
      " |-- web_shopping: long (nullable = true)\n",
      " |-- web_sports: long (nullable = true)\n",
      " |-- web_travel: long (nullable = true)\n",
      "\n",
      "+--------------------+------+-------+------------+-------------+--------------+--------------+----------------------------+---------------------+------------------------------+-------------------------+------------------------+-----------------------+---------------------+------------+------------------+----------+---------------------+---------+--------------------------+----------------------+----------------------+------------------------+-------------------------+------------------------+----------------------------+-----------+------------------+------------+---------+----------+-------------------+------------------------+----------------------+------------------+--------------------+--------------------------+-------------+-----------+------------+----------+----------+\n",
      "|                 uid|gender|age_cat|shop_cameras|shop_clothing|shop_computers|shop_cosmetics|shop_entertainment_equipment|shop_everyday_jewelry|shop_house_repairs_paint_tools|shop_household_appliances|shop_household_furniture|shop_kitchen_appliances|shop_kitchen_utensils|shop_luggage|shop_mobile_phones|shop_shoes|shop_sports_equipment|shop_toys|web_arts_and_entertainment|web_autos_and_vehicles|web_beauty_and_fitness|web_books_and_literature|web_business_and_industry|web_career_and_education|web_computer_and_electronics|web_finance|web_food_and_drink|web_gambling|web_games|web_health|web_home_and_garden|web_internet_and_telecom|web_law_and_government|web_news_and_media|web_pets_and_animals|web_recreation_and_hobbies|web_reference|web_science|web_shopping|web_sports|web_travel|\n",
      "+--------------------+------+-------+------------+-------------+--------------+--------------+----------------------------+---------------------+------------------------------+-------------------------+------------------------+-----------------------+---------------------+------------+------------------+----------+---------------------+---------+--------------------------+----------------------+----------------------+------------------------+-------------------------+------------------------+----------------------------+-----------+------------------+------------+---------+----------+-------------------+------------------------+----------------------+------------------+--------------------+--------------------------+-------------+-----------+------------+----------+----------+\n",
      "|03001878-d923-488...|     F|  18-24|           1|         null|             1|          null|                           1|                 null|                          null|                     null|                    null|                   null|                 null|        null|                 1|      null|                 null|     null|                      null|                  null|                  null|                    null|                     null|                    null|                        null|       null|              null|        null|     null|      null|               null|                    null|                  null|              null|                null|                      null|         null|       null|        null|      null|      null|\n",
      "|030124f5-12f9-4d7...|     M|  18-24|        null|         null|          null|          null|                        null|                 null|                             1|                     null|                    null|                      1|                 null|        null|              null|      null|                 null|     null|                         5|                  null|                  null|                    null|                        1|                    null|                        null|       null|                 7|        null|     null|      null|               null|                    null|                  null|              null|                null|                      null|         null|       null|          50|      null|      null|\n",
      "|0302a0a9-8ad0-4a4...|     F|  18-24|           1|         null|             1|          null|                           1|                 null|                          null|                     null|                    null|                   null|                 null|        null|                 1|      null|                 null|     null|                         1|                  null|                  null|                    null|                       11|                       4|                        null|          1|              null|        null|     null|      null|               null|                     109|                  null|              null|                null|                      null|         null|       null|        null|      null|      null|\n",
      "|03031b44-2a67-47a...|     F|  45-54|        null|            1|          null|          null|                           1|                 null|                          null|                     null|                       1|                   null|                 null|        null|              null|      null|                    1|     null|                      null|                  null|                  null|                    null|                     null|                    null|                        null|       null|              null|        null|     null|      null|               null|                    null|                  null|              null|                null|                      null|         null|       null|          46|      null|      null|\n",
      "|03035735-d244-454...|     M|  45-54|        null|         null|          null|          null|                        null|                 null|                          null|                     null|                    null|                      1|                 null|        null|              null|      null|                 null|     null|                      null|                  null|                  null|                    null|                     null|                    null|                        null|       null|              null|        null|     null|         1|               null|                    null|                  null|              null|                null|                      null|         null|       null|        null|      null|      null|\n",
      "+--------------------+------+-------+------------+-------------+--------------+--------------+----------------------------+---------------------+------------------------------+-------------------------+------------------------+-----------------------+---------------------+------------+------------------+----------+---------------------+---------+--------------------------+----------------------+----------------------+------------------------+-------------------------+------------------------+----------------------------+-----------+------------------+------------+---------+----------+-------------------+------------------------+----------------------+------------------+--------------------+--------------------------+-------------+-----------+------------+----------+----------+\n",
      "only showing top 5 rows\n",
      "\n"
     ]
    },
    {
     "data": {
      "text/plain": [
       "datamartDF = [uid: string, gender: string ... 40 more fields]\n"
      ]
     },
     "metadata": {},
     "output_type": "display_data"
    },
    {
     "data": {
      "text/plain": [
       "[uid: string, gender: string ... 40 more fields]"
      ]
     },
     "execution_count": 17,
     "metadata": {},
     "output_type": "execute_result"
    }
   ],
   "source": [
    "val datamartDF = shopStatsDF\n",
    "                        .join(webStatsDF, Seq(\"uid\"), \"left\")\n",
    "                        .orderBy($\"uid\")\n",
    "println(datamartDF.cache.count)\n",
    "datamartDF.printSchema\n",
    "datamartDF.show(5)"
   ]
  },
  {
   "cell_type": "markdown",
   "metadata": {},
   "source": [
    "## Save"
   ]
  },
  {
   "cell_type": "code",
   "execution_count": 18,
   "metadata": {},
   "outputs": [
    {
     "data": {
      "text/plain": [
       "options = Map(url -> jdbc:postgresql://10.0.0.5:5432/alexey_chernyaev2, driver -> org.postgresql.Driver, dbtable -> clients, mode -> overwrite, user -> alexey_chernyaev2, password -> fuiBpd2S)\n"
      ]
     },
     "metadata": {},
     "output_type": "display_data"
    },
    {
     "data": {
      "text/plain": [
       "Map(url -> jdbc:postgresql://10.0.0.5:5432/alexey_chernyaev2, driver -> org.postgresql.Driver, dbtable -> clients, mode -> overwrite, user -> alexey_chernyaev2, password -> fuiBpd2S)"
      ]
     },
     "execution_count": 18,
     "metadata": {},
     "output_type": "execute_result"
    }
   ],
   "source": [
    "val options = Map(\n",
    "                 \"url\" -> s\"$postgreUrl/$username\",\n",
    "                 \"user\" -> username,\n",
    "                 \"password\" -> password,\n",
    "                 \"mode\" -> \"overwrite\",\n",
    "                 \"driver\" -> \"org.postgresql.Driver\",\n",
    "                 \"dbtable\" -> \"clients\")\n",
    "\n",
    "datamartDF.write.format(\"jdbc\").options(options).mode(\"overwrite\").save()"
   ]
  },
  {
   "cell_type": "code",
   "execution_count": null,
   "metadata": {},
   "outputs": [],
   "source": []
  }
 ],
 "metadata": {
  "kernelspec": {
   "display_name": "Apache Toree - Scala",
   "language": "scala",
   "name": "apache_toree_scala"
  },
  "language_info": {
   "codemirror_mode": "text/x-scala",
   "file_extension": ".scala",
   "mimetype": "text/x-scala",
   "name": "scala",
   "pygments_lexer": "scala",
   "version": "2.11.12"
  }
 },
 "nbformat": 4,
 "nbformat_minor": 2
}
