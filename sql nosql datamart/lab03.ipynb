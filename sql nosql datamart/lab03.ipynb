{
 "cells": [
  {
   "cell_type": "code",
   "execution_count": 33,
   "metadata": {},
   "outputs": [
    {
     "name": "stdout",
     "output_type": "stream",
     "text": [
      "Starting Spark Session...\n",
      "Spark Session was started\n"
     ]
    },
    {
     "data": {
      "text/plain": [
       "username = alexey_chernyaev2\n",
       "password = fuiBpd2S\n",
       "hostname = 10.0.0.5\n",
       "postgreUrl = jdbc:postgresql://10.0.0.5:5432\n",
       "conf = org.apache.spark.SparkConf@35ae572e\n",
       "sparkSession = org.apache.spark.sql.SparkSession@4c4fb9dd\n"
      ]
     },
     "metadata": {},
     "output_type": "display_data"
    },
    {
     "data": {
      "text/plain": [
       "lastException: Throwable = null\n"
      ]
     },
     "metadata": {},
     "output_type": "display_data"
    },
    {
     "data": {
      "text/plain": [
       "org.apache.spark.sql.SparkSession@4c4fb9dd"
      ]
     },
     "execution_count": 33,
     "metadata": {},
     "output_type": "execute_result"
    }
   ],
   "source": [
    "import org.apache.spark.{SparkContext, SparkConf}\n",
    "\n",
    "println(\"Starting Spark Session...\")\n",
    "\n",
    "val username = \"alexey_chernyaev2\"\n",
    "val password = \"fuiBpd2S\"\n",
    "val hostname = \"10.0.0.5\"\n",
    "\n",
    "val postgreUrl = s\"jdbc:postgresql://$hostname:5432\"\n",
    "\n",
    "val conf = new SparkConf()\n",
    "                    .set(\"spark.cassandra.connection.host\", hostname)\n",
    "                    .set(\"spark.cassandra.connection.port\", \"9042\")\n",
    "                    .set(\"spark.cassandra.auth.username\", \"alexey.chernyaev2\")\n",
    "                    .set(\"spark.cassandra.auth.password\", password)\n",
    "                    .set(\"spark.cassandra.output.consistency.level\", \"ANY\")\n",
    "                    .set(\"spark.cassandra.input.consistency.level\", \"ONE\")\n",
    "    \n",
    "val sparkSession = SparkSession.builder()\n",
    "                        .appName(\"lag-custom\")\n",
    "                        .config(conf=conf)\n",
    "                        .getOrCreate()\n",
    "\n",
    "println(\"Spark Session was started\")\n",
    "\n",
    "\n",
    "\n"
   ]
  },
  {
   "cell_type": "markdown",
   "metadata": {},
   "source": [
    "# HDFS"
   ]
  },
  {
   "cell_type": "code",
   "execution_count": 34,
   "metadata": {
    "scrolled": true
   },
   "outputs": [
    {
     "name": "stdout",
     "output_type": "stream",
     "text": [
      "36138\n",
      "root\n",
      " |-- uid: string (nullable = true)\n",
      " |-- visits: array (nullable = true)\n",
      " |    |-- element: struct (containsNull = true)\n",
      " |    |    |-- timestamp: long (nullable = true)\n",
      " |    |    |-- url: string (nullable = true)\n",
      "\n",
      "-RECORD 0----------------------------------------------------------------------------------------------------------------------------------------------------------------------------------------------------------\n",
      " uid    | 39d8aded-2111-42ab-9393-37c4f781d030                                                                                                                                                                     \n",
      " visits | [[1419590902274, http://go.mail.ru/], [1419590344372, http://thephilanews.com/ru/wawa-welcome-america-begins-with-reading-…-and-the-runway-32987.htm], [1419590203997, http://visitorsworth.com/www.w... \n",
      "-RECORD 1----------------------------------------------------------------------------------------------------------------------------------------------------------------------------------------------------------\n",
      " uid    | 39d9ba9f-bf37-4fa7-b698-abc45d5930d2                                                                                                                                                                     \n",
      " visits | [[1419861042745, http://www.nexplorer.ru/news__11325.htm], [1419764569495, http://www.nexplorer.ru/news__11325.htm], [1419758650205, http://www.artemida-hunter.ru/items/17856], [1418875853533, http... \n",
      "-RECORD 2----------------------------------------------------------------------------------------------------------------------------------------------------------------------------------------------------------\n",
      " uid    | 39da2825-1f0d-4500-b3ec-1470f82e10a1                                                                                                                                                                     \n",
      " visits | [[1427187917000, http://greenstree.ru./view.php?ad=86570919]]                                                                                                                                            \n",
      "only showing top 3 rows\n",
      "\n"
     ]
    },
    {
     "data": {
      "text/plain": [
       "webLogsDF = [uid: string, visits: array<struct<timestamp:bigint,url:string>>]\n"
      ]
     },
     "metadata": {},
     "output_type": "display_data"
    },
    {
     "data": {
      "text/plain": [
       "[uid: string, visits: array<struct<timestamp:bigint,url:string>>]"
      ]
     },
     "execution_count": 34,
     "metadata": {},
     "output_type": "execute_result"
    }
   ],
   "source": [
    "val webLogsDF = spark.read.parquet(\"/labs/laba03/weblogs.parquet\")\n",
    "\n",
    "println(webLogsDF.cache.count)\n",
    "webLogsDF.printSchema\n",
    "webLogsDF.show(3, 200, true)"
   ]
  },
  {
   "cell_type": "code",
   "execution_count": 35,
   "metadata": {
    "scrolled": true
   },
   "outputs": [
    {
     "name": "stdout",
     "output_type": "stream",
     "text": [
      "572694\n",
      "root\n",
      " |-- uid: string (nullable = true)\n",
      " |-- domain: string (nullable = true)\n",
      " |-- count: long (nullable = false)\n",
      "\n",
      "-RECORD 0--------------------------------------\n",
      " uid    | 3a081c72-5c55-4c7b-bf52-b56201d85b55 \n",
      " domain | videograbber.net                     \n",
      " count  | 1                                    \n",
      "-RECORD 1--------------------------------------\n",
      " uid    | 3a48922d-4621-455e-ba68-f273b95807fb \n",
      " domain | umeltsi.ru                           \n",
      " count  | 4                                    \n",
      "-RECORD 2--------------------------------------\n",
      " uid    | 63046a3d-830e-44b3-b580-a16db013234d \n",
      " domain | intvua.com                           \n",
      " count  | 2                                    \n",
      "only showing top 3 rows\n",
      "\n"
     ]
    },
    {
     "data": {
      "text/plain": [
       "webLogsStatsDF = [uid: string, domain: string ... 1 more field]\n"
      ]
     },
     "metadata": {},
     "output_type": "display_data"
    },
    {
     "data": {
      "text/plain": [
       "[uid: string, domain: string ... 1 more field]"
      ]
     },
     "execution_count": 35,
     "metadata": {},
     "output_type": "execute_result"
    }
   ],
   "source": [
    "import org.apache.spark.sql.functions._\n",
    "\n",
    "val webLogsStatsDF = webLogsDF\n",
    "                        .select($\"uid\", explode($\"visits\").as(\"visit\"))\n",
    "                        .withColumn(\"host\", lower(callUDF(\"parse_url\", $\"visit.url\", lit(\"HOST\"))))\n",
    "                        .withColumn(\"domain\", regexp_replace(lower($\"host\"), \"www.\", \"\"))\n",
    "                        .where($\"uid\".isNotNull)\n",
    "                        .groupBy($\"uid\", $\"domain\").count\n",
    "\n",
    "println(webLogsStatsDF.cache.count)\n",
    "webLogsStatsDF.printSchema\n",
    "webLogsStatsDF.show(3, 200, true)"
   ]
  },
  {
   "cell_type": "markdown",
   "metadata": {},
   "source": [
    "# postgreSql"
   ]
  },
  {
   "cell_type": "code",
   "execution_count": 7,
   "metadata": {},
   "outputs": [
    {
     "name": "stdout",
     "output_type": "stream",
     "text": [
      "Using cached version of postgresql-42.2.12.jre6.jar\n"
     ]
    }
   ],
   "source": [
    "%AddJar file:///data/home/alexey.chernyaev2/postgresql-42.2.12.jre6.jar"
   ]
  },
  {
   "cell_type": "code",
   "execution_count": 36,
   "metadata": {
    "scrolled": false
   },
   "outputs": [
    {
     "name": "stdout",
     "output_type": "stream",
     "text": [
      "245981\n",
      "root\n",
      " |-- domain: string (nullable = true)\n",
      " |-- category: string (nullable = true)\n",
      "\n",
      "-RECORD 0--------------------------\n",
      " domain   | national-lottery.co.uk \n",
      " category | gambling               \n",
      "-RECORD 1--------------------------\n",
      " domain   | rivalo.com             \n",
      " category | gambling               \n",
      "-RECORD 2--------------------------\n",
      " domain   | xoso.me                \n",
      " category | gambling               \n",
      "only showing top 3 rows\n",
      "\n"
     ]
    },
    {
     "data": {
      "text/plain": [
       "domainCatsDF = [domain: string, category: string]\n"
      ]
     },
     "metadata": {},
     "output_type": "display_data"
    },
    {
     "data": {
      "text/plain": [
       "[domain: string, category: string]"
      ]
     },
     "execution_count": 36,
     "metadata": {},
     "output_type": "execute_result"
    }
   ],
   "source": [
    "val domainCatsDF = spark.read\n",
    "                                .format(\"jdbc\")\n",
    "                                .option(\"driver\", \"org.postgresql.Driver\")\n",
    "                                .option(\"url\", s\"$postgreUrl/labdata\")\n",
    "                                .option(\"dbtable\", \"domain_cats\")\n",
    "                                .option(\"user\", username)\n",
    "                                .option(\"password\", password)\n",
    "                                .load()\n",
    "println(domainCatsDF.cache.count)\n",
    "domainCatsDF.printSchema\n",
    "domainCatsDF.show(3, 200, true)"
   ]
  },
  {
   "cell_type": "code",
   "execution_count": 37,
   "metadata": {},
   "outputs": [
    {
     "name": "stdout",
     "output_type": "stream",
     "text": [
      "27802\n",
      "root\n",
      " |-- uid: string (nullable = true)\n",
      " |-- web_arts_and_entertainment: long (nullable = true)\n",
      " |-- web_autos_and_vehicles: long (nullable = true)\n",
      " |-- web_beauty_and_fitness: long (nullable = true)\n",
      " |-- web_books_and_literature: long (nullable = true)\n",
      " |-- web_business_and_industry: long (nullable = true)\n",
      " |-- web_career_and_education: long (nullable = true)\n",
      " |-- web_computer_and_electronics: long (nullable = true)\n",
      " |-- web_finance: long (nullable = true)\n",
      " |-- web_food_and_drink: long (nullable = true)\n",
      " |-- web_gambling: long (nullable = true)\n",
      " |-- web_games: long (nullable = true)\n",
      " |-- web_health: long (nullable = true)\n",
      " |-- web_home_and_garden: long (nullable = true)\n",
      " |-- web_internet_and_telecom: long (nullable = true)\n",
      " |-- web_law_and_government: long (nullable = true)\n",
      " |-- web_news_and_media: long (nullable = true)\n",
      " |-- web_pets_and_animals: long (nullable = true)\n",
      " |-- web_recreation_and_hobbies: long (nullable = true)\n",
      " |-- web_reference: long (nullable = true)\n",
      " |-- web_science: long (nullable = true)\n",
      " |-- web_shopping: long (nullable = true)\n",
      " |-- web_sports: long (nullable = true)\n",
      " |-- web_travel: long (nullable = true)\n",
      "\n",
      "-RECORD 0------------------------------------------------------------\n",
      " uid                          | d1b25e00-e63e-4e6d-9b76-cc8cb6cbec77 \n",
      " web_arts_and_entertainment   | 4                                    \n",
      " web_autos_and_vehicles       | null                                 \n",
      " web_beauty_and_fitness       | null                                 \n",
      " web_books_and_literature     | null                                 \n",
      " web_business_and_industry    | 2                                    \n",
      " web_career_and_education     | null                                 \n",
      " web_computer_and_electronics | null                                 \n",
      " web_finance                  | 85                                   \n",
      " web_food_and_drink           | null                                 \n",
      " web_gambling                 | null                                 \n",
      " web_games                    | null                                 \n",
      " web_health                   | 1                                    \n",
      " web_home_and_garden          | null                                 \n",
      " web_internet_and_telecom     | 1                                    \n",
      " web_law_and_government       | null                                 \n",
      " web_news_and_media           | 77                                   \n",
      " web_pets_and_animals         | null                                 \n",
      " web_recreation_and_hobbies   | null                                 \n",
      " web_reference                | 2                                    \n",
      " web_science                  | null                                 \n",
      " web_shopping                 | 2                                    \n",
      " web_sports                   | null                                 \n",
      " web_travel                   | null                                 \n",
      "-RECORD 1------------------------------------------------------------\n",
      " uid                          | 4dbddd13-ece7-4c7e-93c9-d02e86e990bd \n",
      " web_arts_and_entertainment   | null                                 \n",
      " web_autos_and_vehicles       | null                                 \n",
      " web_beauty_and_fitness       | null                                 \n",
      " web_books_and_literature     | null                                 \n",
      " web_business_and_industry    | null                                 \n",
      " web_career_and_education     | null                                 \n",
      " web_computer_and_electronics | null                                 \n",
      " web_finance                  | null                                 \n",
      " web_food_and_drink           | null                                 \n",
      " web_gambling                 | null                                 \n",
      " web_games                    | null                                 \n",
      " web_health                   | null                                 \n",
      " web_home_and_garden          | null                                 \n",
      " web_internet_and_telecom     | null                                 \n",
      " web_law_and_government       | null                                 \n",
      " web_news_and_media           | 16                                   \n",
      " web_pets_and_animals         | null                                 \n",
      " web_recreation_and_hobbies   | null                                 \n",
      " web_reference                | null                                 \n",
      " web_science                  | null                                 \n",
      " web_shopping                 | null                                 \n",
      " web_sports                   | null                                 \n",
      " web_travel                   | null                                 \n",
      "-RECORD 2------------------------------------------------------------\n",
      " uid                          | a7193805-fd23-450f-8070-73a42f41b472 \n",
      " web_arts_and_entertainment   | 28                                   \n",
      " web_autos_and_vehicles       | null                                 \n",
      " web_beauty_and_fitness       | 4                                    \n",
      " web_books_and_literature     | null                                 \n",
      " web_business_and_industry    | null                                 \n",
      " web_career_and_education     | null                                 \n",
      " web_computer_and_electronics | null                                 \n",
      " web_finance                  | null                                 \n",
      " web_food_and_drink           | null                                 \n",
      " web_gambling                 | null                                 \n",
      " web_games                    | null                                 \n",
      " web_health                   | null                                 \n",
      " web_home_and_garden          | null                                 \n",
      " web_internet_and_telecom     | null                                 \n",
      " web_law_and_government       | null                                 \n",
      " web_news_and_media           | null                                 \n",
      " web_pets_and_animals         | null                                 \n",
      " web_recreation_and_hobbies   | null                                 \n",
      " web_reference                | null                                 \n",
      " web_science                  | null                                 \n",
      " web_shopping                 | null                                 \n",
      " web_sports                   | null                                 \n",
      " web_travel                   | null                                 \n",
      "only showing top 3 rows\n",
      "\n"
     ]
    },
    {
     "data": {
      "text/plain": [
       "webStatsDF = [uid: string, web_arts_and_entertainment: bigint ... 22 more fields]\n"
      ]
     },
     "metadata": {},
     "output_type": "display_data"
    },
    {
     "data": {
      "text/plain": [
       "[uid: string, web_arts_and_entertainment: bigint ... 22 more fields]"
      ]
     },
     "execution_count": 37,
     "metadata": {},
     "output_type": "execute_result"
    }
   ],
   "source": [
    "val webStatsDF = webLogsStatsDF\n",
    "                        .join(domainCatsDF, Seq(\"domain\"), \"left\")\n",
    "                        .withColumn(\"web_cat\", concat(lit(\"web_\"), regexp_replace(lower($\"category\"), \"[ -]\", \"_\")))\n",
    "                        .where($\"web_cat\".isNotNull)\n",
    "                        .groupBy($\"uid\")\n",
    "                        .pivot($\"web_cat\")\n",
    "                        .sum(\"count\")\n",
    "\n",
    "println(webStatsDF.cache.count)\n",
    "webStatsDF.printSchema\n",
    "webStatsDF.show(3, 200, true)\n"
   ]
  },
  {
   "cell_type": "markdown",
   "metadata": {},
   "source": [
    "# ES"
   ]
  },
  {
   "cell_type": "code",
   "execution_count": 11,
   "metadata": {},
   "outputs": [
    {
     "name": "stdout",
     "output_type": "stream",
     "text": [
      "Using cached version of elasticsearch-spark-20_2.11-7.7.0.jar\n"
     ]
    }
   ],
   "source": [
    "%AddJar file:///data/home/alexey.chernyaev2/elasticsearch-spark-20_2.11-7.7.0.jar"
   ]
  },
  {
   "cell_type": "code",
   "execution_count": 40,
   "metadata": {},
   "outputs": [
    {
     "name": "stdout",
     "output_type": "stream",
     "text": [
      "182540\n",
      "root\n",
      " |-- category: string (nullable = true)\n",
      " |-- event_type: string (nullable = true)\n",
      " |-- item_id: string (nullable = true)\n",
      " |-- item_price: long (nullable = true)\n",
      " |-- timestamp: timestamp (nullable = true)\n",
      " |-- uid: string (nullable = true)\n",
      "\n",
      "-RECORD 0------------------------------------------\n",
      " category   | Entertainment-equipment              \n",
      " event_type | buy                                  \n",
      " item_id    | Entertainment-equipment-2            \n",
      " item_price | 2529                                 \n",
      " timestamp  | 2020-01-01 11:00:00                  \n",
      " uid        | 40b29579-e845-45c0-a34d-03630d296a81 \n",
      "-RECORD 1------------------------------------------\n",
      " category   | Everyday-jewelry                     \n",
      " event_type | buy                                  \n",
      " item_id    | Everyday-jewelry-0                   \n",
      " item_price | 4320                                 \n",
      " timestamp  | 2020-01-01 11:01:00                  \n",
      " uid        | null                                 \n",
      "-RECORD 2------------------------------------------\n",
      " category   | Cameras                              \n",
      " event_type | view                                 \n",
      " item_id    | Cameras-1                            \n",
      " item_price | 1856                                 \n",
      " timestamp  | 2020-01-01 11:02:00                  \n",
      " uid        | ab0e7dd1-5899-4889-a609-bdb67ab48bd6 \n",
      "only showing top 3 rows\n",
      "\n"
     ]
    },
    {
     "data": {
      "text/plain": [
       "esOptions = Map(es.nodes.wan.only -> true, es.net.http.auth.user -> alexey.chernyaev2, es.net.http.auth.pass -> fuiBpd2S, es.batch.write.refresh -> false, es.nodes -> 10.0.0.5:9200)\n",
       "visitsDF = [category: string, event_type: string ... 4 more fields]\n"
      ]
     },
     "metadata": {},
     "output_type": "display_data"
    },
    {
     "data": {
      "text/plain": [
       "[category: string, event_type: string ... 4 more fields]"
      ]
     },
     "execution_count": 40,
     "metadata": {},
     "output_type": "execute_result"
    }
   ],
   "source": [
    "\n",
    "val esOptions =\n",
    "  Map(\n",
    "    \"es.nodes\" -> \"10.0.0.5:9200\",\n",
    "    \"es.batch.write.refresh\" -> \"false\",\n",
    "    \"es.nodes.wan.only\" -> \"true\",\n",
    "    \"es.net.http.auth.user\" -> \"alexey.chernyaev2\",\n",
    "    \"es.net.http.auth.pass\" -> password\n",
    "  )\n",
    "var visitsDF = spark.read.format(\"org.elasticsearch.spark.sql\").options(esOptions).load(\"visits*\")\n",
    "\n",
    "println(visitsDF.cache.count)\n",
    "visitsDF.printSchema\n",
    "visitsDF.show(3, 200, true)"
   ]
  },
  {
   "cell_type": "code",
   "execution_count": 41,
   "metadata": {
    "scrolled": true
   },
   "outputs": [
    {
     "name": "stdout",
     "output_type": "stream",
     "text": [
      "86507\n",
      "root\n",
      " |-- uid: string (nullable = true)\n",
      " |-- shop_cat: string (nullable = true)\n",
      " |-- count: long (nullable = false)\n",
      "\n",
      "-RECORD 0----------------------------------------\n",
      " uid      | 75fcbe0c-ef8a-452f-8864-ea3a4f376ae2 \n",
      " shop_cat | shop_computers                       \n",
      " count    | 1                                    \n",
      "-RECORD 1----------------------------------------\n",
      " uid      | 9e241ecb-af15-49a7-8fef-516aaae0456d \n",
      " shop_cat | shop_cameras                         \n",
      " count    | 1                                    \n",
      "-RECORD 2----------------------------------------\n",
      " uid      | 372c086a-c53d-45fd-b947-abc96612030a \n",
      " shop_cat | shop_mobile_phones                   \n",
      " count    | 1                                    \n",
      "only showing top 3 rows\n",
      "\n"
     ]
    },
    {
     "data": {
      "text/plain": [
       "visitStatsDF = [uid: string, shop_cat: string ... 1 more field]\n"
      ]
     },
     "metadata": {},
     "output_type": "display_data"
    },
    {
     "data": {
      "text/plain": [
       "[uid: string, shop_cat: string ... 1 more field]"
      ]
     },
     "execution_count": 41,
     "metadata": {},
     "output_type": "execute_result"
    }
   ],
   "source": [
    "val visitStatsDF = visitsDF\n",
    "                    .filter($\"uid\".isNotNull)\n",
    "                    .withColumn(\"shop_cat\", concat(lit(\"shop_\"), regexp_replace(lower($\"category\"), \"[ -]\", \"_\")))\n",
    "                    .groupBy($\"uid\", $\"shop_cat\")\n",
    "                    .count()\n",
    "println(visitStatsDF.cache.count)\n",
    "visitStatsDF.printSchema\n",
    "visitStatsDF.show(3, 200, true)\n"
   ]
  },
  {
   "cell_type": "markdown",
   "metadata": {},
   "source": [
    "# cassandra"
   ]
  },
  {
   "cell_type": "code",
   "execution_count": 42,
   "metadata": {},
   "outputs": [
    {
     "name": "stdout",
     "output_type": "stream",
     "text": [
      "Using cached version of spark-cassandra-connector_2.11-2.4.3.jar\n"
     ]
    }
   ],
   "source": [
    "%AddJar file:///data/home/alexey.chernyaev2/spark-cassandra-connector_2.11-2.4.3.jar"
   ]
  },
  {
   "cell_type": "code",
   "execution_count": 43,
   "metadata": {},
   "outputs": [
    {
     "data": {
      "text/plain": [
       "Name: java.lang.NoClassDefFoundError\n",
       "Message: com/datastax/spark/connector/TableRef\n",
       "StackTrace:   at org.apache.spark.sql.cassandra.DefaultSource$.TableRefAndOptions(DefaultSource.scala:142)\n",
       "  at org.apache.spark.sql.cassandra.DefaultSource.createRelation(DefaultSource.scala:56)\n",
       "  at org.apache.spark.sql.execution.datasources.DataSource.resolveRelation(DataSource.scala:332)\n",
       "  at org.apache.spark.sql.DataFrameReader.loadV1Source(DataFrameReader.scala:242)\n",
       "  at org.apache.spark.sql.DataFrameReader.load(DataFrameReader.scala:230)\n",
       "  at org.apache.spark.sql.DataFrameReader.load(DataFrameReader.scala:186)"
      ]
     },
     "execution_count": 43,
     "metadata": {},
     "output_type": "execute_result"
    }
   ],
   "source": [
    "\n",
    "    val clientsOpts = Map(\"table\" -> \"clients\",\"keyspace\" -> \"labdata\")\n",
    "    val clients = spark.read\n",
    "      .format(\"org.apache.spark.sql.cassandra\")\n",
    "      .options(clientsOpts)\n",
    "      .load()"
   ]
  },
  {
   "cell_type": "code",
   "execution_count": 44,
   "metadata": {
    "scrolled": true
   },
   "outputs": [
    {
     "data": {
      "text/plain": [
       "Name: Unknown Error\n",
       "Message: lastException: Throwable = null\n",
       "<console>:379: error: Symbol 'term com.datastax.oss' is missing from the classpath.\n",
       "This symbol is required by 'method com.datastax.spark.connector.cql.CassandraConnector.openSession'.\n",
       "Make sure that term oss is in your classpath and check for conflicting dependencies with `-Ylog-classpath`.\n",
       "A full rebuild may help if 'CassandraConnector.class' was compiled against an incompatible version of com.datastax.\n",
       "       val clientsDF = spark.read\n",
       "                       ^\n",
       "\n",
       "StackTrace: "
      ]
     },
     "execution_count": 44,
     "metadata": {},
     "output_type": "execute_result"
    }
   ],
   "source": [
    "import com.datastax.spark.connector._\n",
    "import com.datastax.spark.connector.cql.CassandraConnector\n",
    "\n",
    "val connector = CassandraConnector(sc.getConf)\n",
    "\n",
    "val clientsDF = spark.read\n",
    "                            .format(\"org.apache.spark.sql.cassandra\")\n",
    "                            .options(Map(\"table\" -> \"clients\", \"keyspace\" -> \"labdata\"))\n",
    "                            .load()\n",
    "println(clientsDF.cache.count)\n",
    "clientsDF.printSchema\n",
    "clientsDF.show(5, 200, true)"
   ]
  },
  {
   "cell_type": "code",
   "execution_count": 45,
   "metadata": {},
   "outputs": [
    {
     "data": {
      "text/plain": [
       "Name: java.lang.NoClassDefFoundError\n",
       "Message: com/datastax/spark/connector/TableRef\n",
       "StackTrace:   at org.apache.spark.sql.cassandra.DefaultSource$.TableRefAndOptions(DefaultSource.scala:142)\n",
       "  at org.apache.spark.sql.cassandra.DefaultSource.createRelation(DefaultSource.scala:56)\n",
       "  at org.apache.spark.sql.execution.datasources.DataSource.resolveRelation(DataSource.scala:332)\n",
       "  at org.apache.spark.sql.DataFrameReader.loadV1Source(DataFrameReader.scala:242)\n",
       "  at org.apache.spark.sql.DataFrameReader.load(DataFrameReader.scala:230)\n",
       "  at org.apache.spark.sql.DataFrameReader.load(DataFrameReader.scala:186)"
      ]
     },
     "execution_count": 45,
     "metadata": {},
     "output_type": "execute_result"
    }
   ],
   "source": [
    "\n",
    "val tableOpts = Map(\"table\" -> \"clients\", \"keyspace\" -> \"labdata\")\n",
    "val clients = spark\n",
    "  .read\n",
    "  .format(\"org.apache.spark.sql.cassandra\")\n",
    "  .options(tableOpts)\n",
    "  .load()\n",
    "clients.show()"
   ]
  },
  {
   "cell_type": "code",
   "execution_count": 46,
   "metadata": {
    "scrolled": true
   },
   "outputs": [
    {
     "data": {
      "text/plain": [
       "lastException = null\n"
      ]
     },
     "metadata": {},
     "output_type": "display_data"
    },
    {
     "data": {
      "text/plain": [
       "Name: java.lang.NoClassDefFoundError\n",
       "Message: com/datastax/spark/connector/TableRef\n",
       "StackTrace:   at org.apache.spark.sql.cassandra.DefaultSource$.TableRefAndOptions(DefaultSource.scala:142)\n",
       "  at org.apache.spark.sql.cassandra.DefaultSource.createRelation(DefaultSource.scala:56)\n",
       "  at org.apache.spark.sql.execution.datasources.DataSource.resolveRelation(DataSource.scala:332)\n",
       "  at org.apache.spark.sql.DataFrameReader.loadV1Source(DataFrameReader.scala:242)\n",
       "  at org.apache.spark.sql.DataFrameReader.load(DataFrameReader.scala:230)\n",
       "  at org.apache.spark.sql.DataFrameReader.load(DataFrameReader.scala:186)"
      ]
     },
     "execution_count": 46,
     "metadata": {},
     "output_type": "execute_result"
    }
   ],
   "source": [
    "val spark = SparkSession\n",
    "  .builder()\n",
    "  .appName(\"Lab03\")\n",
    "  .config(\"spark.cassandra.connection.host\", \"10.0.0.5\")\n",
    "  .config(\"spark.cassandra.connection.port\", \"9042\")\n",
    "  .config(\"spark.cassandra.output.consistency.level\", \"ANY\")\n",
    "  .config(\"spark.cassandra.input.consistency.level\", \"ONE\")\n",
    "  .getOrCreate()\n",
    "import spark.implicits._\n",
    "val tableOpts = Map(\"table\" -> \"clients\", \"keyspace\" -> \"labdata\")\n",
    "val clients = spark\n",
    "  .read\n",
    "  .format(\"org.apache.spark.sql.cassandra\")\n",
    "  .options(tableOpts)\n",
    "  .load()\n",
    "clients.show()"
   ]
  },
  {
   "cell_type": "code",
   "execution_count": null,
   "metadata": {},
   "outputs": [],
   "source": []
  },
  {
   "cell_type": "code",
   "execution_count": null,
   "metadata": {},
   "outputs": [],
   "source": []
  },
  {
   "cell_type": "code",
   "execution_count": null,
   "metadata": {
    "scrolled": true
   },
   "outputs": [],
   "source": [
    "import org.apache.spark.sql.functions.when\n",
    "\n",
    "val shopStatsDF = clientsDF\n",
    "                        .withColumn(\"age_cat\", when($\"age\" >= 55, \">=55\")\n",
    "                                              .when($\"age\" >= 45, \"45-54\")\n",
    "                                              .when($\"age\" >= 35, \"35-44\")\n",
    "                                              .when($\"age\" >= 25, \"25-34\")\n",
    "                                              .when($\"age\" >= 18, \"18-24\"))\n",
    "                        .join(visitStatsDF, Seq(\"uid\"), \"left\")\n",
    "                        .groupBy($\"uid\", $\"gender\", $\"age_cat\")\n",
    "                        .pivot($\"shop_cat\")\n",
    "                        .sum(\"count\")\n",
    "                        .drop($\"null\")\n",
    "println(shopStatsDF.cache.count)\n",
    "shopStatsDF.printSchema\n",
    "shopStatsDF.show(3, 200, true)\n"
   ]
  },
  {
   "cell_type": "markdown",
   "metadata": {},
   "source": [
    "# create DataMart"
   ]
  },
  {
   "cell_type": "code",
   "execution_count": null,
   "metadata": {},
   "outputs": [],
   "source": [
    "val datamartDF = shopStatsDF\n",
    "                        .join(webStatsDF, Seq(\"uid\"), \"left\")\n",
    "                        .orderBy($\"uid\")\n",
    "println(datamartDF.cache.count)\n",
    "datamartDF.printSchema\n",
    "datamartDF.show(3, 200, true)\n"
   ]
  },
  {
   "cell_type": "code",
   "execution_count": null,
   "metadata": {},
   "outputs": [],
   "source": [
    "val options = Map(\n",
    "                 \"url\" -> s\"$postgreUrl/$username\",\n",
    "                 \"user\" -> username,\n",
    "                 \"password\" -> password,\n",
    "                 \"mode\" -> \"overwrite\",\n",
    "                 \"driver\" -> \"org.postgresql.Driver\",\n",
    "                 \"dbtable\" -> \"clients\")\n",
    "\n",
    "datamartDF.write.format(\"jdbc\").options(options).mode(\"overwrite\").save()"
   ]
  },
  {
   "cell_type": "code",
   "execution_count": null,
   "metadata": {},
   "outputs": [],
   "source": []
  }
 ],
 "metadata": {
  "kernelspec": {
   "display_name": "Apache Toree - Scala",
   "language": "scala",
   "name": "apache_toree_scala"
  },
  "language_info": {
   "codemirror_mode": "text/x-scala",
   "file_extension": ".scala",
   "mimetype": "text/x-scala",
   "name": "scala",
   "pygments_lexer": "scala",
   "version": "2.11.12"
  }
 },
 "nbformat": 4,
 "nbformat_minor": 2
}
