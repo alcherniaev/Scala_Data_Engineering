{
 "cells": [
  {
   "cell_type": "code",
   "execution_count": 1,
   "metadata": {},
   "outputs": [
    {
     "name": "stdout",
     "output_type": "stream",
     "text": [
      "Using cached version of spark-cassandra-connector_2.11-2.4.3.jar\n"
     ]
    }
   ],
   "source": [
    "%AddJar https://repo1.maven.org/maven2/com/datastax/spark/spark-cassandra-connector_2.11/2.4.3/spark-cassandra-connector_2.11-2.4.3.jar"
   ]
  },
  {
   "cell_type": "code",
   "execution_count": 2,
   "metadata": {},
   "outputs": [
    {
     "name": "stdout",
     "output_type": "stream",
     "text": [
      "Starting Spark Session...\n",
      "Spark Session was started\n"
     ]
    },
    {
     "data": {
      "text/plain": [
       "username = alexey_chernyaev2\n",
       "password = fuiBpd2S\n",
       "hostname = 10.0.0.5\n",
       "postgreUrl = jdbc:postgresql://10.0.0.5:5432\n",
       "conf = org.apache.spark.SparkConf@1e8866da\n",
       "sparkSession = org.apache.spark.sql.SparkSession@6f62a97a\n"
      ]
     },
     "metadata": {},
     "output_type": "display_data"
    },
    {
     "data": {
      "text/plain": [
       "org.apache.spark.sql.SparkSession@6f62a97a"
      ]
     },
     "execution_count": 2,
     "metadata": {},
     "output_type": "execute_result"
    }
   ],
   "source": [
    "import org.apache.spark.{SparkContext, SparkConf}\n",
    "\n",
    "println(\"Starting Spark Session...\")\n",
    "\n",
    "val username = \"alexey_chernyaev2\"\n",
    "val password = \"fuiBpd2S\"\n",
    "val hostname = \"10.0.0.5\"\n",
    "\n",
    "val postgreUrl = s\"jdbc:postgresql://$hostname:5432\"\n",
    "\n",
    "val conf = new SparkConf()\n",
    "                    .set(\"spark.cassandra.connection.host\", \"10.0.0.5\")\n",
    "                    .set(\"spark.cassandra.connection.port\", \"9042\")\n",
    "                    .set(\"spark.cassandra.auth.username\", \"alexey.chernyaev2\")\n",
    "                    .set(\"spark.cassandra.auth.password\", password)\n",
    "                    .set(\"spark.cassandra.output.consistency.level\", \"ANY\")\n",
    "                    .set(\"spark.cassandra.input.consistency.level\", \"ONE\")\n",
    "    \n",
    "val sparkSession = SparkSession.builder()\n",
    "                        .appName(\"Lab03\")\n",
    "                        .config(conf=conf)\n",
    "                        .getOrCreate()\n",
    "\n",
    "println(\"Spark Session was started\")\n",
    "\n",
    "\n"
   ]
  },
  {
   "cell_type": "markdown",
   "metadata": {},
   "source": [
    "# HDFS"
   ]
  },
  {
   "cell_type": "code",
   "execution_count": 3,
   "metadata": {
    "scrolled": true
   },
   "outputs": [
    {
     "name": "stdout",
     "output_type": "stream",
     "text": [
      "36138\n",
      "root\n",
      " |-- uid: string (nullable = true)\n",
      " |-- visits: array (nullable = true)\n",
      " |    |-- element: struct (containsNull = true)\n",
      " |    |    |-- timestamp: long (nullable = true)\n",
      " |    |    |-- url: string (nullable = true)\n",
      "\n",
      "-RECORD 0----------------------------------------------------------------------------------------------------------------------------------------------------------------------------------------------------------\n",
      " uid    | 39d8aded-2111-42ab-9393-37c4f781d030                                                                                                                                                                     \n",
      " visits | [[1419590902274, http://go.mail.ru/], [1419590344372, http://thephilanews.com/ru/wawa-welcome-america-begins-with-reading-…-and-the-runway-32987.htm], [1419590203997, http://visitorsworth.com/www.w... \n",
      "-RECORD 1----------------------------------------------------------------------------------------------------------------------------------------------------------------------------------------------------------\n",
      " uid    | 39d9ba9f-bf37-4fa7-b698-abc45d5930d2                                                                                                                                                                     \n",
      " visits | [[1419861042745, http://www.nexplorer.ru/news__11325.htm], [1419764569495, http://www.nexplorer.ru/news__11325.htm], [1419758650205, http://www.artemida-hunter.ru/items/17856], [1418875853533, http... \n",
      "-RECORD 2----------------------------------------------------------------------------------------------------------------------------------------------------------------------------------------------------------\n",
      " uid    | 39da2825-1f0d-4500-b3ec-1470f82e10a1                                                                                                                                                                     \n",
      " visits | [[1427187917000, http://greenstree.ru./view.php?ad=86570919]]                                                                                                                                            \n",
      "only showing top 3 rows\n",
      "\n"
     ]
    },
    {
     "data": {
      "text/plain": [
       "webLogsDF = [uid: string, visits: array<struct<timestamp:bigint,url:string>>]\n"
      ]
     },
     "metadata": {},
     "output_type": "display_data"
    },
    {
     "data": {
      "text/plain": [
       "[uid: string, visits: array<struct<timestamp:bigint,url:string>>]"
      ]
     },
     "execution_count": 3,
     "metadata": {},
     "output_type": "execute_result"
    }
   ],
   "source": [
    "val webLogsDF = spark.read.parquet(\"/labs/laba03/weblogs.parquet\")\n",
    "\n",
    "println(webLogsDF.cache.count)\n",
    "webLogsDF.printSchema\n",
    "webLogsDF.show(3, 200, true)"
   ]
  },
  {
   "cell_type": "code",
   "execution_count": 4,
   "metadata": {
    "scrolled": true
   },
   "outputs": [
    {
     "name": "stdout",
     "output_type": "stream",
     "text": [
      "572694\n",
      "root\n",
      " |-- uid: string (nullable = true)\n",
      " |-- domain: string (nullable = true)\n",
      " |-- count: long (nullable = false)\n",
      "\n",
      "-RECORD 0--------------------------------------\n",
      " uid    | 3a081c72-5c55-4c7b-bf52-b56201d85b55 \n",
      " domain | videograbber.net                     \n",
      " count  | 1                                    \n",
      "-RECORD 1--------------------------------------\n",
      " uid    | 3a48922d-4621-455e-ba68-f273b95807fb \n",
      " domain | umeltsi.ru                           \n",
      " count  | 4                                    \n",
      "-RECORD 2--------------------------------------\n",
      " uid    | 63046a3d-830e-44b3-b580-a16db013234d \n",
      " domain | intvua.com                           \n",
      " count  | 2                                    \n",
      "only showing top 3 rows\n",
      "\n"
     ]
    },
    {
     "data": {
      "text/plain": [
       "webLogsStatsDF = [uid: string, domain: string ... 1 more field]\n"
      ]
     },
     "metadata": {},
     "output_type": "display_data"
    },
    {
     "data": {
      "text/plain": [
       "[uid: string, domain: string ... 1 more field]"
      ]
     },
     "execution_count": 4,
     "metadata": {},
     "output_type": "execute_result"
    }
   ],
   "source": [
    "import org.apache.spark.sql.functions._\n",
    "\n",
    "val webLogsStatsDF = webLogsDF\n",
    "                        .select($\"uid\", explode($\"visits\").as(\"visit\"))\n",
    "                        .withColumn(\"host\", lower(callUDF(\"parse_url\", $\"visit.url\", lit(\"HOST\"))))\n",
    "                        .withColumn(\"domain\", regexp_replace(lower($\"host\"), \"www.\", \"\"))\n",
    "                        .where($\"uid\".isNotNull)\n",
    "                        .groupBy($\"uid\", $\"domain\").count\n",
    "\n",
    "println(webLogsStatsDF.cache.count)\n",
    "webLogsStatsDF.printSchema\n",
    "webLogsStatsDF.show(3, 200, true)"
   ]
  },
  {
   "cell_type": "markdown",
   "metadata": {},
   "source": [
    "# postgreSql"
   ]
  },
  {
   "cell_type": "code",
   "execution_count": 5,
   "metadata": {},
   "outputs": [
    {
     "name": "stdout",
     "output_type": "stream",
     "text": [
      "Using cached version of postgresql-42.2.12.jre6.jar\n"
     ]
    }
   ],
   "source": [
    "%AddJar file:///data/home/alexey.chernyaev2/postgresql-42.2.12.jre6.jar"
   ]
  },
  {
   "cell_type": "code",
   "execution_count": 6,
   "metadata": {
    "scrolled": false
   },
   "outputs": [
    {
     "name": "stdout",
     "output_type": "stream",
     "text": [
      "root\n",
      " |-- domain: string (nullable = true)\n",
      " |-- category: string (nullable = true)\n",
      "\n",
      "+--------------------+--------+\n",
      "|              domain|category|\n",
      "+--------------------+--------+\n",
      "|national-lottery....|gambling|\n",
      "|          rivalo.com|gambling|\n",
      "|             xoso.me|gambling|\n",
      "|         betin.co.ke|gambling|\n",
      "|          skybet.com|gambling|\n",
      "|              fdj.fr|gambling|\n",
      "|     minhngoc.net.vn|gambling|\n",
      "|   hollywoodbets.net|gambling|\n",
      "|           tipico.de|gambling|\n",
      "|       betpawa.co.ke|gambling|\n",
      "|           bet365.it|gambling|\n",
      "|          bet365.com|gambling|\n",
      "|loteriasdominican...|gambling|\n",
      "|            hkjc.com|gambling|\n",
      "|        sunmaker.com|gambling|\n",
      "|     williamhill.com|gambling|\n",
      "|       parimatch.com|gambling|\n",
      "|        freebitco.in|gambling|\n",
      "|   mismarcadores.com|gambling|\n",
      "|      flashscore.com|gambling|\n",
      "+--------------------+--------+\n",
      "only showing top 20 rows\n",
      "\n"
     ]
    },
    {
     "data": {
      "text/plain": [
       "domainCatsDF = [domain: string, category: string]\n"
      ]
     },
     "metadata": {},
     "output_type": "display_data"
    },
    {
     "data": {
      "text/plain": [
       "[domain: string, category: string]"
      ]
     },
     "execution_count": 6,
     "metadata": {},
     "output_type": "execute_result"
    }
   ],
   "source": [
    "val domainCatsDF = spark.read\n",
    "                                .format(\"jdbc\")\n",
    "                                .option(\"driver\", \"org.postgresql.Driver\")\n",
    "                                .option(\"url\", s\"$postgreUrl/labdata\")\n",
    "                                .option(\"dbtable\", \"domain_cats\")\n",
    "                                .option(\"user\", username)\n",
    "                                .option(\"password\", password)\n",
    "                                .load()\n",
    "\n",
    "domainCatsDF.printSchema\n",
    "domainCatsDF.show()"
   ]
  },
  {
   "cell_type": "code",
   "execution_count": 7,
   "metadata": {},
   "outputs": [
    {
     "name": "stdout",
     "output_type": "stream",
     "text": [
      "27802\n",
      "root\n",
      " |-- uid: string (nullable = true)\n",
      " |-- web_arts_and_entertainment: long (nullable = true)\n",
      " |-- web_autos_and_vehicles: long (nullable = true)\n",
      " |-- web_beauty_and_fitness: long (nullable = true)\n",
      " |-- web_books_and_literature: long (nullable = true)\n",
      " |-- web_business_and_industry: long (nullable = true)\n",
      " |-- web_career_and_education: long (nullable = true)\n",
      " |-- web_computer_and_electronics: long (nullable = true)\n",
      " |-- web_finance: long (nullable = true)\n",
      " |-- web_food_and_drink: long (nullable = true)\n",
      " |-- web_gambling: long (nullable = true)\n",
      " |-- web_games: long (nullable = true)\n",
      " |-- web_health: long (nullable = true)\n",
      " |-- web_home_and_garden: long (nullable = true)\n",
      " |-- web_internet_and_telecom: long (nullable = true)\n",
      " |-- web_law_and_government: long (nullable = true)\n",
      " |-- web_news_and_media: long (nullable = true)\n",
      " |-- web_pets_and_animals: long (nullable = true)\n",
      " |-- web_recreation_and_hobbies: long (nullable = true)\n",
      " |-- web_reference: long (nullable = true)\n",
      " |-- web_science: long (nullable = true)\n",
      " |-- web_shopping: long (nullable = true)\n",
      " |-- web_sports: long (nullable = true)\n",
      " |-- web_travel: long (nullable = true)\n",
      "\n",
      "-RECORD 0------------------------------------------------------------\n",
      " uid                          | 5e04693e-e583-48c2-a091-e7046dac9334 \n",
      " web_arts_and_entertainment   | 74                                   \n",
      " web_autos_and_vehicles       | null                                 \n",
      " web_beauty_and_fitness       | null                                 \n",
      " web_books_and_literature     | null                                 \n",
      " web_business_and_industry    | null                                 \n",
      " web_career_and_education     | null                                 \n",
      " web_computer_and_electronics | null                                 \n",
      " web_finance                  | 1                                    \n",
      " web_food_and_drink           | null                                 \n",
      " web_gambling                 | null                                 \n",
      " web_games                    | null                                 \n",
      " web_health                   | 4                                    \n",
      " web_home_and_garden          | null                                 \n",
      " web_internet_and_telecom     | 1                                    \n",
      " web_law_and_government       | null                                 \n",
      " web_news_and_media           | 403                                  \n",
      " web_pets_and_animals         | null                                 \n",
      " web_recreation_and_hobbies   | null                                 \n",
      " web_reference                | 2                                    \n",
      " web_science                  | null                                 \n",
      " web_shopping                 | 194                                  \n",
      " web_sports                   | null                                 \n",
      " web_travel                   | null                                 \n",
      "-RECORD 1------------------------------------------------------------\n",
      " uid                          | 27f0a457-c86b-4d97-9ba9-d9bfd0e22c42 \n",
      " web_arts_and_entertainment   | 12                                   \n",
      " web_autos_and_vehicles       | null                                 \n",
      " web_beauty_and_fitness       | null                                 \n",
      " web_books_and_literature     | null                                 \n",
      " web_business_and_industry    | 4                                    \n",
      " web_career_and_education     | null                                 \n",
      " web_computer_and_electronics | null                                 \n",
      " web_finance                  | null                                 \n",
      " web_food_and_drink           | null                                 \n",
      " web_gambling                 | null                                 \n",
      " web_games                    | null                                 \n",
      " web_health                   | 11                                   \n",
      " web_home_and_garden          | null                                 \n",
      " web_internet_and_telecom     | null                                 \n",
      " web_law_and_government       | null                                 \n",
      " web_news_and_media           | 11                                   \n",
      " web_pets_and_animals         | null                                 \n",
      " web_recreation_and_hobbies   | null                                 \n",
      " web_reference                | null                                 \n",
      " web_science                  | null                                 \n",
      " web_shopping                 | 49                                   \n",
      " web_sports                   | null                                 \n",
      " web_travel                   | null                                 \n",
      "-RECORD 2------------------------------------------------------------\n",
      " uid                          | 6f4d388e-330c-44ba-aeec-a074caa6152c \n",
      " web_arts_and_entertainment   | 1                                    \n",
      " web_autos_and_vehicles       | null                                 \n",
      " web_beauty_and_fitness       | null                                 \n",
      " web_books_and_literature     | null                                 \n",
      " web_business_and_industry    | null                                 \n",
      " web_career_and_education     | null                                 \n",
      " web_computer_and_electronics | null                                 \n",
      " web_finance                  | null                                 \n",
      " web_food_and_drink           | null                                 \n",
      " web_gambling                 | null                                 \n",
      " web_games                    | null                                 \n",
      " web_health                   | null                                 \n",
      " web_home_and_garden          | null                                 \n",
      " web_internet_and_telecom     | null                                 \n",
      " web_law_and_government       | null                                 \n",
      " web_news_and_media           | 4                                    \n",
      " web_pets_and_animals         | null                                 \n",
      " web_recreation_and_hobbies   | null                                 \n",
      " web_reference                | null                                 \n",
      " web_science                  | null                                 \n",
      " web_shopping                 | 6                                    \n",
      " web_sports                   | null                                 \n",
      " web_travel                   | null                                 \n",
      "only showing top 3 rows\n",
      "\n"
     ]
    },
    {
     "data": {
      "text/plain": [
       "webStatsDF = [uid: string, web_arts_and_entertainment: bigint ... 22 more fields]\n"
      ]
     },
     "metadata": {},
     "output_type": "display_data"
    },
    {
     "data": {
      "text/plain": [
       "[uid: string, web_arts_and_entertainment: bigint ... 22 more fields]"
      ]
     },
     "execution_count": 7,
     "metadata": {},
     "output_type": "execute_result"
    }
   ],
   "source": [
    "val webStatsDF = webLogsStatsDF\n",
    "                        .join(domainCatsDF, Seq(\"domain\"), \"left\")\n",
    "                        .withColumn(\"web_cat\", concat(lit(\"web_\"), regexp_replace(lower($\"category\"), \"[ -]\", \"_\")))\n",
    "                        .where($\"web_cat\".isNotNull)\n",
    "                        .groupBy($\"uid\")\n",
    "                        .pivot($\"web_cat\")\n",
    "                        .sum(\"count\")\n",
    "\n",
    "println(webStatsDF.cache.count)\n",
    "webStatsDF.printSchema\n",
    "webStatsDF.show(3, 200, true)\n"
   ]
  },
  {
   "cell_type": "markdown",
   "metadata": {},
   "source": [
    "# ES"
   ]
  },
  {
   "cell_type": "code",
   "execution_count": 8,
   "metadata": {},
   "outputs": [
    {
     "name": "stdout",
     "output_type": "stream",
     "text": [
      "Using cached version of elasticsearch-spark-20_2.11-7.7.0.jar\n"
     ]
    }
   ],
   "source": [
    "%AddJar file:///data/home/alexey.chernyaev2/elasticsearch-spark-20_2.11-7.7.0.jar"
   ]
  },
  {
   "cell_type": "code",
   "execution_count": 9,
   "metadata": {},
   "outputs": [
    {
     "name": "stdout",
     "output_type": "stream",
     "text": [
      "182540\n",
      "root\n",
      " |-- category: string (nullable = true)\n",
      " |-- event_type: string (nullable = true)\n",
      " |-- item_id: string (nullable = true)\n",
      " |-- item_price: long (nullable = true)\n",
      " |-- timestamp: timestamp (nullable = true)\n",
      " |-- uid: string (nullable = true)\n",
      "\n",
      "-RECORD 0------------------------------------------\n",
      " category   | Entertainment-equipment              \n",
      " event_type | buy                                  \n",
      " item_id    | Entertainment-equipment-2            \n",
      " item_price | 2529                                 \n",
      " timestamp  | 2020-01-01 11:00:00                  \n",
      " uid        | 40b29579-e845-45c0-a34d-03630d296a81 \n",
      "-RECORD 1------------------------------------------\n",
      " category   | Everyday-jewelry                     \n",
      " event_type | buy                                  \n",
      " item_id    | Everyday-jewelry-0                   \n",
      " item_price | 4320                                 \n",
      " timestamp  | 2020-01-01 11:01:00                  \n",
      " uid        | null                                 \n",
      "-RECORD 2------------------------------------------\n",
      " category   | Cameras                              \n",
      " event_type | view                                 \n",
      " item_id    | Cameras-1                            \n",
      " item_price | 1856                                 \n",
      " timestamp  | 2020-01-01 11:02:00                  \n",
      " uid        | ab0e7dd1-5899-4889-a609-bdb67ab48bd6 \n",
      "only showing top 3 rows\n",
      "\n"
     ]
    },
    {
     "data": {
      "text/plain": [
       "esOptions = Map(es.nodes.wan.only -> true, es.net.http.auth.user -> alexey.chernyaev2, es.net.http.auth.pass -> fuiBpd2S, es.batch.write.refresh -> false, es.nodes -> 10.0.0.5:9200)\n",
       "visitsDF = [category: string, event_type: string ... 4 more fields]\n"
      ]
     },
     "metadata": {},
     "output_type": "display_data"
    },
    {
     "data": {
      "text/plain": [
       "[category: string, event_type: string ... 4 more fields]"
      ]
     },
     "execution_count": 9,
     "metadata": {},
     "output_type": "execute_result"
    }
   ],
   "source": [
    "\n",
    "val esOptions =\n",
    "  Map(\n",
    "    \"es.nodes\" -> \"10.0.0.5:9200\",\n",
    "    \"es.batch.write.refresh\" -> \"false\",\n",
    "    \"es.nodes.wan.only\" -> \"true\",\n",
    "    \"es.net.http.auth.user\" -> \"alexey.chernyaev2\",\n",
    "    \"es.net.http.auth.pass\" -> password\n",
    "  )\n",
    "var visitsDF = spark.read.format(\"org.elasticsearch.spark.sql\").options(esOptions).load(\"visits*\")\n",
    "\n",
    "println(visitsDF.cache.count)\n",
    "visitsDF.printSchema\n",
    "visitsDF.show(3, 200, true)"
   ]
  },
  {
   "cell_type": "code",
   "execution_count": 13,
   "metadata": {
    "scrolled": true
   },
   "outputs": [
    {
     "name": "stdout",
     "output_type": "stream",
     "text": [
      "86507\n",
      "root\n",
      " |-- uid: string (nullable = true)\n",
      " |-- shop_group: string (nullable = true)\n",
      " |-- count: long (nullable = false)\n",
      "\n",
      "-RECORD 0------------------------------------------\n",
      " uid        | 75fcbe0c-ef8a-452f-8864-ea3a4f376ae2 \n",
      " shop_group | shop_computers                       \n",
      " count      | 1                                    \n",
      "-RECORD 1------------------------------------------\n",
      " uid        | 9e241ecb-af15-49a7-8fef-516aaae0456d \n",
      " shop_group | shop_cameras                         \n",
      " count      | 1                                    \n",
      "-RECORD 2------------------------------------------\n",
      " uid        | 372c086a-c53d-45fd-b947-abc96612030a \n",
      " shop_group | shop_mobile_phones                   \n",
      " count      | 1                                    \n",
      "only showing top 3 rows\n",
      "\n"
     ]
    },
    {
     "data": {
      "text/plain": [
       "visitStatsDF = [uid: string, shop_group: string ... 1 more field]\n"
      ]
     },
     "metadata": {},
     "output_type": "display_data"
    },
    {
     "data": {
      "text/plain": [
       "[uid: string, shop_group: string ... 1 more field]"
      ]
     },
     "execution_count": 13,
     "metadata": {},
     "output_type": "execute_result"
    }
   ],
   "source": [
    "val visitStatsDF = visitsDF\n",
    "                    .filter($\"uid\".isNotNull)\n",
    "                    .withColumn(\"shop_group\", concat(lit(\"shop_\"), regexp_replace(lower($\"category\"), \"[ -]\", \"_\")))\n",
    "                    .groupBy($\"uid\", $\"shop_group\")\n",
    "                    .count()\n",
    "println(visitStatsDF.cache.count)\n",
    "visitStatsDF.printSchema\n",
    "visitStatsDF.show(3, 200, true)\n"
   ]
  },
  {
   "cell_type": "markdown",
   "metadata": {},
   "source": [
    "## Cassandra"
   ]
  },
  {
   "cell_type": "code",
   "execution_count": 11,
   "metadata": {},
   "outputs": [
    {
     "data": {
      "text/plain": [
       "lastException: Throwable = null\n"
      ]
     },
     "metadata": {},
     "output_type": "display_data"
    },
    {
     "data": {
      "text/plain": [
       "Name: Syntax Error.\n",
       "Message: \n",
       "StackTrace: "
      ]
     },
     "execution_count": 11,
     "metadata": {},
     "output_type": "execute_result"
    }
   ],
   "source": [
    "//%AddJar https://repo1.maven.org/maven2/com/datastax/spark/spark-cassandra-connector_2.11/2.4.3/spark-cassandra-connector_2.11-2.4.3.jar"
   ]
  },
  {
   "cell_type": "code",
   "execution_count": 14,
   "metadata": {},
   "outputs": [
    {
     "name": "stdout",
     "output_type": "stream",
     "text": [
      "+--------------------+---+------+\n",
      "|                 uid|age|gender|\n",
      "+--------------------+---+------+\n",
      "|075bdfc4-cfa6-4f0...| 39|     F|\n",
      "|a1096800-f5d8-4f1...| 52|     M|\n",
      "|594d59f5-22db-4c2...| 39|     M|\n",
      "|e60a27f7-9c8e-4c6...| 30|     M|\n",
      "|bf620165-604f-4ea...| 65|     F|\n",
      "|97fd1ca4-b2b6-4f8...| 20|     F|\n",
      "|d219a21c-af6d-484...| 39|     M|\n",
      "|0e38d915-ed29-4ab...| 49|     M|\n",
      "|9f968029-11c0-429...| 39|     F|\n",
      "|1784f7ee-f8fa-419...| 19|     F|\n",
      "|400a54aa-51dd-4e3...| 32|     F|\n",
      "|1ffe78da-81b1-4ea...| 39|     M|\n",
      "|58fd46de-2e9d-4b8...| 26|     M|\n",
      "|d066f4cb-fa3f-4a9...| 30|     F|\n",
      "|8608a863-1abe-47f...| 26|     M|\n",
      "|a4404d1c-9d82-451...| 31|     F|\n",
      "|d226a5bf-287d-47c...| 36|     M|\n",
      "|2d256dd9-771d-4e8...| 29|     M|\n",
      "|b9ad76d6-b20f-4e5...| 34|     F|\n",
      "|eee0b882-a6a8-4f3...| 25|     M|\n",
      "+--------------------+---+------+\n",
      "only showing top 20 rows\n",
      "\n"
     ]
    },
    {
     "data": {
      "text/plain": [
       "tableOpts = Map(table -> clients, keyspace -> labdata)\n",
       "clients = [uid: string, age: int ... 1 more field]\n"
      ]
     },
     "metadata": {},
     "output_type": "display_data"
    },
    {
     "data": {
      "text/plain": [
       "[uid: string, age: int ... 1 more field]"
      ]
     },
     "execution_count": 14,
     "metadata": {},
     "output_type": "execute_result"
    }
   ],
   "source": [
    "\n",
    "val tableOpts = Map(\"table\" -> \"clients\", \"keyspace\" -> \"labdata\")\n",
    "val clients = spark\n",
    "  .read\n",
    "  .format(\"org.apache.spark.sql.cassandra\")\n",
    "  .options(tableOpts)\n",
    "  .load()\n",
    "clients.show()"
   ]
  },
  {
   "cell_type": "code",
   "execution_count": null,
   "metadata": {},
   "outputs": [],
   "source": []
  },
  {
   "cell_type": "code",
   "execution_count": null,
   "metadata": {},
   "outputs": [],
   "source": []
  },
  {
   "cell_type": "code",
   "execution_count": 16,
   "metadata": {
    "scrolled": true
   },
   "outputs": [
    {
     "name": "stdout",
     "output_type": "stream",
     "text": [
      "36138\n",
      "root\n",
      " |-- uid: string (nullable = true)\n",
      " |-- gender: string (nullable = true)\n",
      " |-- age_group: string (nullable = true)\n",
      " |-- shop_cameras: long (nullable = true)\n",
      " |-- shop_clothing: long (nullable = true)\n",
      " |-- shop_computers: long (nullable = true)\n",
      " |-- shop_cosmetics: long (nullable = true)\n",
      " |-- shop_entertainment_equipment: long (nullable = true)\n",
      " |-- shop_everyday_jewelry: long (nullable = true)\n",
      " |-- shop_house_repairs_paint_tools: long (nullable = true)\n",
      " |-- shop_household_appliances: long (nullable = true)\n",
      " |-- shop_household_furniture: long (nullable = true)\n",
      " |-- shop_kitchen_appliances: long (nullable = true)\n",
      " |-- shop_kitchen_utensils: long (nullable = true)\n",
      " |-- shop_luggage: long (nullable = true)\n",
      " |-- shop_mobile_phones: long (nullable = true)\n",
      " |-- shop_shoes: long (nullable = true)\n",
      " |-- shop_sports_equipment: long (nullable = true)\n",
      " |-- shop_toys: long (nullable = true)\n",
      "\n",
      "-RECORD 0--------------------------------------------------------------\n",
      " uid                            | e3f4b2ed-4b09-4acf-b0b4-335e4edf9f70 \n",
      " gender                         | F                                    \n",
      " age_group                      | 35-44                                \n",
      " shop_cameras                   | null                                 \n",
      " shop_clothing                  | null                                 \n",
      " shop_computers                 | null                                 \n",
      " shop_cosmetics                 | null                                 \n",
      " shop_entertainment_equipment   | 1                                    \n",
      " shop_everyday_jewelry          | null                                 \n",
      " shop_house_repairs_paint_tools | null                                 \n",
      " shop_household_appliances      | null                                 \n",
      " shop_household_furniture       | 1                                    \n",
      " shop_kitchen_appliances        | 1                                    \n",
      " shop_kitchen_utensils          | null                                 \n",
      " shop_luggage                   | null                                 \n",
      " shop_mobile_phones             | 1                                    \n",
      " shop_shoes                     | null                                 \n",
      " shop_sports_equipment          | null                                 \n",
      " shop_toys                      | null                                 \n",
      "-RECORD 1--------------------------------------------------------------\n",
      " uid                            | 2f84aa43-f6d3-41b3-ab36-b4f86bd84a91 \n",
      " gender                         | M                                    \n",
      " age_group                      | 18-24                                \n",
      " shop_cameras                   | null                                 \n",
      " shop_clothing                  | null                                 \n",
      " shop_computers                 | null                                 \n",
      " shop_cosmetics                 | null                                 \n",
      " shop_entertainment_equipment   | null                                 \n",
      " shop_everyday_jewelry          | null                                 \n",
      " shop_house_repairs_paint_tools | 1                                    \n",
      " shop_household_appliances      | null                                 \n",
      " shop_household_furniture       | null                                 \n",
      " shop_kitchen_appliances        | 1                                    \n",
      " shop_kitchen_utensils          | null                                 \n",
      " shop_luggage                   | null                                 \n",
      " shop_mobile_phones             | null                                 \n",
      " shop_shoes                     | null                                 \n",
      " shop_sports_equipment          | null                                 \n",
      " shop_toys                      | null                                 \n",
      "-RECORD 2--------------------------------------------------------------\n",
      " uid                            | c4012741-23c7-4b73-88c6-ceb6204404d5 \n",
      " gender                         | F                                    \n",
      " age_group                      | >=55                                 \n",
      " shop_cameras                   | null                                 \n",
      " shop_clothing                  | null                                 \n",
      " shop_computers                 | 1                                    \n",
      " shop_cosmetics                 | null                                 \n",
      " shop_entertainment_equipment   | 1                                    \n",
      " shop_everyday_jewelry          | null                                 \n",
      " shop_house_repairs_paint_tools | null                                 \n",
      " shop_household_appliances      | null                                 \n",
      " shop_household_furniture       | null                                 \n",
      " shop_kitchen_appliances        | null                                 \n",
      " shop_kitchen_utensils          | null                                 \n",
      " shop_luggage                   | null                                 \n",
      " shop_mobile_phones             | 2                                    \n",
      " shop_shoes                     | null                                 \n",
      " shop_sports_equipment          | null                                 \n",
      " shop_toys                      | null                                 \n",
      "only showing top 3 rows\n",
      "\n"
     ]
    },
    {
     "data": {
      "text/plain": [
       "shopStatsDF = [uid: string, gender: string ... 17 more fields]\n"
      ]
     },
     "metadata": {},
     "output_type": "display_data"
    },
    {
     "data": {
      "text/plain": [
       "lastException: Throwable = null\n"
      ]
     },
     "metadata": {},
     "output_type": "display_data"
    },
    {
     "data": {
      "text/plain": [
       "[uid: string, gender: string ... 17 more fields]"
      ]
     },
     "execution_count": 16,
     "metadata": {},
     "output_type": "execute_result"
    }
   ],
   "source": [
    "import org.apache.spark.sql.functions.when\n",
    "\n",
    "val shopStatsDF = clients\n",
    "                        .withColumn(\"age_group\", when($\"age\" >= 55, \">=55\")\n",
    "                                              .when($\"age\" >= 45, \"45-54\")\n",
    "                                              .when($\"age\" >= 35, \"35-44\")\n",
    "                                              .when($\"age\" >= 25, \"25-34\")\n",
    "                                              .when($\"age\" >= 18, \"18-24\"))\n",
    "                        .join(visitStatsDF, Seq(\"uid\"), \"left\")\n",
    "                        .groupBy($\"uid\", $\"gender\", $\"age_group\")\n",
    "                        .pivot($\"shop_group\")\n",
    "                        .sum(\"count\")\n",
    "                        .drop($\"null\")\n",
    "println(shopStatsDF.cache.count)\n",
    "shopStatsDF.printSchema\n",
    "shopStatsDF.show(3, 200, true)\n"
   ]
  },
  {
   "cell_type": "code",
   "execution_count": 17,
   "metadata": {},
   "outputs": [
    {
     "name": "stdout",
     "output_type": "stream",
     "text": [
      "+--------------------+------+---------+------------+-------------+--------------+--------------+----------------------------+---------------------+------------------------------+-------------------------+------------------------+-----------------------+---------------------+------------+------------------+----------+---------------------+---------+\n",
      "|                 uid|gender|age_group|shop_cameras|shop_clothing|shop_computers|shop_cosmetics|shop_entertainment_equipment|shop_everyday_jewelry|shop_house_repairs_paint_tools|shop_household_appliances|shop_household_furniture|shop_kitchen_appliances|shop_kitchen_utensils|shop_luggage|shop_mobile_phones|shop_shoes|shop_sports_equipment|shop_toys|\n",
      "+--------------------+------+---------+------------+-------------+--------------+--------------+----------------------------+---------------------+------------------------------+-------------------------+------------------------+-----------------------+---------------------+------------+------------------+----------+---------------------+---------+\n",
      "|e3f4b2ed-4b09-4ac...|     F|    35-44|        null|         null|          null|          null|                           1|                 null|                          null|                     null|                       1|                      1|                 null|        null|                 1|      null|                 null|     null|\n",
      "|2f84aa43-f6d3-41b...|     M|    18-24|        null|         null|          null|          null|                        null|                 null|                             1|                     null|                    null|                      1|                 null|        null|              null|      null|                 null|     null|\n",
      "|c4012741-23c7-4b7...|     F|     >=55|        null|         null|             1|          null|                           1|                 null|                          null|                     null|                    null|                   null|                 null|        null|                 2|      null|                 null|     null|\n",
      "|eb0eaf9e-ceda-4d6...|     F|    45-54|        null|         null|          null|          null|                        null|                 null|                          null|                     null|                       1|                      1|                 null|        null|                 1|         1|                 null|     null|\n",
      "|d1860ae2-0f5b-49e...|     M|     >=55|        null|         null|          null|          null|                        null|                 null|                          null|                        1|                    null|                   null|                 null|           1|                 1|         1|                 null|     null|\n",
      "|03221206-0365-4fa...|     F|    45-54|        null|            1|          null|          null|                           1|                 null|                          null|                     null|                       1|                   null|                 null|        null|              null|      null|                    1|     null|\n",
      "|6d018f7e-88c9-48d...|     F|    45-54|        null|         null|          null|          null|                           1|                 null|                          null|                     null|                       1|                      1|                 null|        null|              null|      null|                    1|     null|\n",
      "|b7bd3313-57cb-4e8...|     M|    45-54|        null|            1|          null|          null|                        null|                 null|                          null|                     null|                    null|                   null|                 null|        null|              null|      null|                 null|     null|\n",
      "|27deb0ba-a998-4f1...|     M|    25-34|        null|         null|          null|          null|                        null|                 null|                          null|                     null|                    null|                   null|                    1|        null|              null|      null|                 null|     null|\n",
      "|1f2144fc-195a-485...|     F|    45-54|        null|            1|             1|          null|                           1|                 null|                          null|                        1|                    null|                   null|                 null|        null|              null|      null|                 null|     null|\n",
      "|9d8474bf-c4af-49a...|     F|     >=55|           1|         null|             1|          null|                           1|                 null|                          null|                     null|                    null|                   null|                 null|        null|                 1|      null|                 null|     null|\n",
      "|c0117d87-1c4f-445...|     M|    25-34|        null|         null|             1|          null|                        null|                 null|                          null|                     null|                    null|                   null|                 null|        null|              null|      null|                 null|     null|\n",
      "|646501b7-4f4f-4b9...|     F|    35-44|        null|         null|             1|          null|                           1|                 null|                          null|                     null|                       1|                      1|                 null|        null|              null|      null|                 null|     null|\n",
      "|f1a8f7fa-cb8a-40c...|     F|    18-24|           1|         null|             1|          null|                           1|                 null|                          null|                     null|                    null|                   null|                 null|        null|                 1|      null|                 null|     null|\n",
      "|a9292dc8-081a-4ac...|     F|    35-44|        null|         null|             1|          null|                           1|                 null|                          null|                     null|                       1|                      1|                 null|        null|              null|      null|                 null|     null|\n",
      "|cfe2367d-ea94-4d8...|     F|    45-54|           1|            1|             1|          null|                        null|                 null|                          null|                        1|                    null|                   null|                 null|        null|              null|      null|                 null|     null|\n",
      "|de040387-40e5-4a5...|     F|    25-34|        null|            1|             1|          null|                           1|                 null|                          null|                     null|                       1|                   null|                 null|        null|              null|      null|                 null|     null|\n",
      "|9619def5-f8cf-455...|     M|    35-44|        null|         null|          null|          null|                        null|                 null|                          null|                     null|                    null|                      1|                 null|        null|              null|      null|                 null|     null|\n",
      "|cf94307c-b897-4e2...|     M|    45-54|        null|         null|             1|          null|                        null|                 null|                          null|                     null|                    null|                   null|                 null|        null|              null|      null|                    1|     null|\n",
      "|bff3a89a-0b0a-4c9...|     F|    25-34|        null|         null|             1|          null|                           1|                 null|                          null|                     null|                       1|                      1|                 null|        null|              null|      null|                 null|     null|\n",
      "+--------------------+------+---------+------------+-------------+--------------+--------------+----------------------------+---------------------+------------------------------+-------------------------+------------------------+-----------------------+---------------------+------------+------------------+----------+---------------------+---------+\n",
      "only showing top 20 rows\n",
      "\n"
     ]
    }
   ],
   "source": [
    "shopStatsDF.show()"
   ]
  },
  {
   "cell_type": "markdown",
   "metadata": {},
   "source": [
    "# create DataMart"
   ]
  },
  {
   "cell_type": "code",
   "execution_count": null,
   "metadata": {},
   "outputs": [],
   "source": [
    "val datamartDF = shopStatsDF\n",
    "                        .join(webStatsDF, Seq(\"uid\"), \"left\")\n",
    "                        .orderBy($\"uid\")\n",
    "println(datamartDF.cache.count)\n",
    "datamartDF.printSchema\n",
    "datamartDF.show(3, 200, true)\n"
   ]
  },
  {
   "cell_type": "code",
   "execution_count": null,
   "metadata": {},
   "outputs": [],
   "source": [
    "val options = Map(\n",
    "                 \"url\" -> s\"$postgreUrl/$username\",\n",
    "                 \"user\" -> username,\n",
    "                 \"password\" -> password,\n",
    "                 \"mode\" -> \"overwrite\",\n",
    "                 \"driver\" -> \"org.postgresql.Driver\",\n",
    "                 \"dbtable\" -> \"clients\")\n",
    "\n",
    "datamartDF.write.format(\"jdbc\").options(options).mode(\"overwrite\").save()"
   ]
  },
  {
   "cell_type": "code",
   "execution_count": null,
   "metadata": {},
   "outputs": [],
   "source": []
  }
 ],
 "metadata": {
  "kernelspec": {
   "display_name": "Apache Toree - Scala",
   "language": "scala",
   "name": "apache_toree_scala"
  },
  "language_info": {
   "codemirror_mode": "text/x-scala",
   "file_extension": ".scala",
   "mimetype": "text/x-scala",
   "name": "scala",
   "pygments_lexer": "scala",
   "version": "2.11.12"
  }
 },
 "nbformat": 4,
 "nbformat_minor": 2
}
