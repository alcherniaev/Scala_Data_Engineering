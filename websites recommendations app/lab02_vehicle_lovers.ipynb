{
 "cells": [
  {
   "cell_type": "code",
   "execution_count": 1,
   "metadata": {},
   "outputs": [],
   "source": [
    "  // обрезать после домена ?\n",
    "\n",
    "\n",
    "import org.apache.spark.sql._\n",
    "import org.apache.spark.ml._\n",
    "import java.io._\n",
    "import play.api.libs.json._\n",
    "import org.apache.spark.sql.Row\n",
    "import org.apache.spark.sql.functions._"
   ]
  },
  {
   "cell_type": "code",
   "execution_count": 2,
   "metadata": {},
   "outputs": [],
   "source": [
    "import java.net.URLDecoder.decode"
   ]
  },
  {
   "cell_type": "code",
   "execution_count": 3,
   "metadata": {},
   "outputs": [
    {
     "data": {
      "text/plain": [
       "Waiting for a Spark session to start..."
      ]
     },
     "metadata": {},
     "output_type": "display_data"
    },
    {
     "data": {
      "text/plain": [
       "vehicleUsers = [autousers: array<string>]\n"
      ]
     },
     "metadata": {},
     "output_type": "display_data"
    },
    {
     "data": {
      "text/plain": [
       "[autousers: array<string>]"
      ]
     },
     "execution_count": 3,
     "metadata": {},
     "output_type": "execute_result"
    }
   ],
   "source": [
    "val vehicleUsers = spark.read.json(\"/labs/laba02/autousers.json\").toDF()"
   ]
  },
  {
   "cell_type": "code",
   "execution_count": 4,
   "metadata": {},
   "outputs": [
    {
     "data": {
      "text/plain": [
       "logs = [value: string]\n"
      ]
     },
     "metadata": {},
     "output_type": "display_data"
    },
    {
     "data": {
      "text/plain": [
       "[value: string]"
      ]
     },
     "execution_count": 4,
     "metadata": {},
     "output_type": "execute_result"
    }
   ],
   "source": [
    "val logs = spark.read.option(\"delimiter\", \"\\t\").textFile(\"/labs/laba02/logs\")"
   ]
  },
  {
   "cell_type": "code",
   "execution_count": 5,
   "metadata": {},
   "outputs": [
    {
     "name": "stdout",
     "output_type": "stream",
     "text": [
      "+-----------------------------------------------------------------------------------------------------+\n",
      "|value                                                                                                |\n",
      "+-----------------------------------------------------------------------------------------------------+\n",
      "|258131083251\t1423724291.637\thttp%3A%2F%2Fwww.zakon.kz%2F                                             |\n",
      "|258131083251\t1423724290.637                                                                          |\n",
      "|182984926014\t1423724291.666\thttp%3A%2F%2Fwww.bmwclub.ru%2Fvb%2Fshowthread.php%3Ft%3D875590%26page%3D5|\n",
      "+-----------------------------------------------------------------------------------------------------+\n",
      "only showing top 3 rows\n",
      "\n"
     ]
    }
   ],
   "source": [
    "logs.show(3, truncate=false)"
   ]
  },
  {
   "cell_type": "code",
   "execution_count": 6,
   "metadata": {},
   "outputs": [
    {
     "name": "stdout",
     "output_type": "stream",
     "text": [
      "+---------------------------------------------------------------------------------------------------------+\n",
      "|value                                                                                                    |\n",
      "+---------------------------------------------------------------------------------------------------------+\n",
      "|[258131083251, 1423724291.637, http%3A%2F%2Fwww.zakon.kz%2F]                                             |\n",
      "|[258131083251, 1423724290.637]                                                                           |\n",
      "|[182984926014, 1423724291.666, http%3A%2F%2Fwww.bmwclub.ru%2Fvb%2Fshowthread.php%3Ft%3D875590%26page%3D5]|\n",
      "+---------------------------------------------------------------------------------------------------------+\n",
      "only showing top 3 rows\n",
      "\n"
     ]
    },
    {
     "data": {
      "text/plain": [
       "col_ = split(value, \t) AS `value`\n",
       "logs_splited = [value: array<string>]\n"
      ]
     },
     "metadata": {},
     "output_type": "display_data"
    },
    {
     "data": {
      "text/plain": [
       "[value: array<string>]"
      ]
     },
     "execution_count": 6,
     "metadata": {},
     "output_type": "execute_result"
    }
   ],
   "source": [
    "// split df to array rows\n",
    "\n",
    "val col_ = split(col(\"value\"), \"\\t\").alias(\"value\")\n",
    "val logs_splited = logs.select(col_)\n",
    "logs_splited.show(3, truncate=false)"
   ]
  },
  {
   "cell_type": "code",
   "execution_count": 7,
   "metadata": {},
   "outputs": [
    {
     "data": {
      "text/plain": [
       "logs_df = [UID: string, Timestamp: timestamp ... 1 more field]\n"
      ]
     },
     "metadata": {},
     "output_type": "display_data"
    },
    {
     "data": {
      "text/plain": [
       "[UID: string, Timestamp: timestamp ... 1 more field]"
      ]
     },
     "execution_count": 7,
     "metadata": {},
     "output_type": "execute_result"
    }
   ],
   "source": [
    "// selecting columns by index of arrays\n",
    "\n",
    "val logs_df = logs_splited.withColumn(\"UID\", $\"value\"(0))\n",
    "                    .withColumn(\"Timestamp\", $\"value\"(1))\n",
    "                    .withColumn(\"URL\", $\"value\"(2))\n",
    "                    .withColumn(\"Timestamp\", to_timestamp(from_unixtime($\"Timestamp\")))\n",
    "                    .select(\"UID\",\"Timestamp\", \"URL\")\n",
    "                    .filter($\"URL\".like(\"%http%\"))\n",
    "//                    .filter($\"URL\".like(\"%http_://%\"))\n"
   ]
  },
  {
   "cell_type": "code",
   "execution_count": 12,
   "metadata": {},
   "outputs": [
    {
     "data": {
      "text/plain": [
       "6571047"
      ]
     },
     "execution_count": 12,
     "metadata": {},
     "output_type": "execute_result"
    }
   ],
   "source": [
    "logs_df.select($\"URL\").count()"
   ]
  },
  {
   "cell_type": "code",
   "execution_count": 25,
   "metadata": {},
   "outputs": [
    {
     "data": {
      "text/plain": [
       "logs_df_replaced = [UID: string, Timestamp: timestamp ... 1 more field]\n"
      ]
     },
     "metadata": {},
     "output_type": "display_data"
    },
    {
     "data": {
      "text/plain": [
       "[UID: string, Timestamp: timestamp ... 1 more field]"
      ]
     },
     "execution_count": 25,
     "metadata": {},
     "output_type": "execute_result"
    }
   ],
   "source": [
    "val logs_df_replaced = logs_df.withColumn(\"URL\", regexp_replace($\"URL\", lit(\"u0\"), lit(\"\")))withColumn(\"URL\", regexp_replace($\"URL\", lit(\"u2\"), lit(\"\")))"
   ]
  },
  {
   "cell_type": "code",
   "execution_count": 26,
   "metadata": {},
   "outputs": [
    {
     "data": {
      "text/plain": [
       "0"
      ]
     },
     "execution_count": 26,
     "metadata": {},
     "output_type": "execute_result"
    }
   ],
   "source": [
    "logs_df_replaced.select($\"URL\").filter($\"URL\".like(\"%u[02]%\")).count()"
   ]
  },
  {
   "cell_type": "code",
   "execution_count": null,
   "metadata": {},
   "outputs": [],
   "source": []
  },
  {
   "cell_type": "code",
   "execution_count": null,
   "metadata": {},
   "outputs": [],
   "source": []
  },
  {
   "cell_type": "code",
   "execution_count": 18,
   "metadata": {},
   "outputs": [
    {
     "data": {
      "text/plain": [
       "val url = \"http%3A%2F%2Finixi.ru%2Fc246-7497.html\"\n",
       "val s = java.net.URLDecoder.decode(url, \"UTF-8\")\n"
      ]
     },
     "metadata": {},
     "output_type": "display_data"
    }
   ],
   "source": [
    "// encoding example\n",
    "\"\"\"val url = \"http%3A%2F%2Finixi.ru%2Fc246-7497.html\"\n",
    "val s = java.net.URLDecoder.decode(url, \"UTF-8\")\"\"\""
   ]
  },
  {
   "cell_type": "code",
   "execution_count": 27,
   "metadata": {},
   "outputs": [
    {
     "name": "stdout",
     "output_type": "stream",
     "text": [
      "+------------+-------------------+-------------------------------------------------------+\n",
      "|UID         |Timestamp          |URL                                                    |\n",
      "+------------+-------------------+-------------------------------------------------------+\n",
      "|258131083251|2015-02-12 09:58:11|http://www.zakon.kz/                                   |\n",
      "|182984926014|2015-02-12 09:58:11|http://www.bmwclub.ru/vb/showthread.php?t=875590&page=5|\n",
      "|182984926014|2015-02-12 09:58:10|http://www.bmwclub.ru/vb/showthread.php?t=875590&page=4|\n",
      "|289380960531|2015-02-12 09:58:11|http://www.bmwclub.ru/vb/forumdisplay.php?f=128        |\n",
      "|289380960531|2015-02-12 09:58:10|http://www.bmwclub.ru/vb/                              |\n",
      "|85356233460 |2015-02-12 09:58:10|http://www.wmmail.ru/index.php?cf=usf-userfing         |\n",
      "|204109491902|2015-02-12 09:58:11|https://vk.com/id21743084                              |\n",
      "|204109491902|2015-02-12 09:58:10|https://vk.com/feed?section=updates                    |\n",
      "|302580370974|2015-02-12 09:58:11|http://www.novayagazeta.ru/                            |\n",
      "|160372190500|2015-02-12 09:58:11|http://forum.krasmama.ru/viewforum.php?f=247           |\n",
      "|160372190500|2015-02-12 09:58:10|http://forum.krasmama.ru/viewforum.php?f=117           |\n",
      "|310139244463|2015-02-12 09:58:12|http://smotri.com/broadcast/list/erotic/               |\n",
      "|310139244463|2015-02-12 09:58:11|http://smotri.com/broadcast/list/                      |\n",
      "|282764127635|2015-02-12 09:58:12|http://www.psychologies.ru/sexuality/                  |\n",
      "|253243488436|2015-02-12 09:58:12|http://www.echo.msk.ru/blog/adme/1491686-echo/         |\n",
      "|253243488436|2015-02-12 09:58:11|http://www.echo.msk.ru/                                |\n",
      "|85356233460 |2015-02-12 09:58:11|http://www.wmmail.ru/index.php?cf=usf-userfing         |\n",
      "|95786660366 |2015-02-12 09:58:12|http://echo.msk.ru/                                    |\n",
      "|198930780414|2015-02-12 09:58:12|http://echo.msk.ru/blog/                               |\n",
      "|310152901199|2015-02-12 09:58:12|http://smotri.com/video/view/?id=v9069473e29#as        |\n",
      "+------------+-------------------+-------------------------------------------------------+\n",
      "only showing top 20 rows\n",
      "\n"
     ]
    },
    {
     "data": {
      "text/plain": [
       "urlDecoder = UserDefinedFunction(<function1>,StringType,Some(List(StringType)))\n",
       "logs_df_udf = [UID: string, Timestamp: timestamp ... 1 more field]\n"
      ]
     },
     "metadata": {},
     "output_type": "display_data"
    },
    {
     "data": {
      "text/plain": [
       "[UID: string, Timestamp: timestamp ... 1 more field]"
      ]
     },
     "execution_count": 27,
     "metadata": {},
     "output_type": "execute_result"
    }
   ],
   "source": [
    "import org.apache.spark.sql.functions.{col, udf}\n",
    "val urlDecoder = udf((s: String) => java.net.URLDecoder.decode(s, \"UTF-8\"))\n",
    "\n",
    "\n",
    "val logs_df_udf = logs_df_replaced.filter($\"URL\".like(\"%http%\")).withColumn(\"URL\", urlDecoder(col(\"URL\")) as \"URL\")\n",
    "logs_df_udf.show(truncate=false)"
   ]
  },
  {
   "cell_type": "code",
   "execution_count": 35,
   "metadata": {},
   "outputs": [
    {
     "name": "stdout",
     "output_type": "stream",
     "text": [
      "+------------+-------------------+-------------------------------------------------------+\n",
      "|UID         |Timestamp          |URL                                                    |\n",
      "+------------+-------------------+-------------------------------------------------------+\n",
      "|258131083251|2015-02-12 09:58:11|http://www.zakon.kz/                                   |\n",
      "|182984926014|2015-02-12 09:58:11|http://www.bmwclub.ru/vb/showthread.php?t=875590&page=5|\n",
      "|182984926014|2015-02-12 09:58:10|http://www.bmwclub.ru/vb/showthread.php?t=875590&page=4|\n",
      "|289380960531|2015-02-12 09:58:11|http://www.bmwclub.ru/vb/forumdisplay.php?f=128        |\n",
      "|289380960531|2015-02-12 09:58:10|http://www.bmwclub.ru/vb/                              |\n",
      "+------------+-------------------+-------------------------------------------------------+\n",
      "only showing top 5 rows\n",
      "\n"
     ]
    },
    {
     "data": {
      "text/plain": [
       "logs_df_domen = [UID: string, Timestamp: timestamp ... 1 more field]\n"
      ]
     },
     "metadata": {},
     "output_type": "display_data"
    },
    {
     "data": {
      "text/plain": [
       "[UID: string, Timestamp: timestamp ... 1 more field]"
      ]
     },
     "execution_count": 35,
     "metadata": {},
     "output_type": "execute_result"
    }
   ],
   "source": [
    "val logs_df_domen = logs_df_udf.filter(($\"URL\".like(\"%http://%\")) || ($\"URL\".like(\"%https://%\")))\n",
    "logs_df_domen.show(5, false)\n"
   ]
  },
  {
   "cell_type": "code",
   "execution_count": 42,
   "metadata": {},
   "outputs": [
    {
     "name": "stdout",
     "output_type": "stream",
     "text": [
      "+------------+-------------------+----------+\n",
      "|         UID|          Timestamp|       URL|\n",
      "+------------+-------------------+----------+\n",
      "|258131083251|2015-02-12 09:58:11|  zakon.kz|\n",
      "|182984926014|2015-02-12 09:58:11|bmwclub.ru|\n",
      "|182984926014|2015-02-12 09:58:10|bmwclub.ru|\n",
      "|289380960531|2015-02-12 09:58:11|bmwclub.ru|\n",
      "|289380960531|2015-02-12 09:58:10|bmwclub.ru|\n",
      "+------------+-------------------+----------+\n",
      "only showing top 5 rows\n",
      "\n"
     ]
    },
    {
     "data": {
      "text/plain": [
       "logs_decoded = [UID: string, Timestamp: timestamp ... 1 more field]\n"
      ]
     },
     "metadata": {},
     "output_type": "display_data"
    },
    {
     "data": {
      "text/plain": [
       "lastException: Throwable = null\n",
       "<console>:118: warning: a pure expression does nothing in statement position; you may be omitting necessary parentheses\n",
       "\"\"\"\n",
       "^\n"
      ]
     },
     "metadata": {},
     "output_type": "display_data"
    },
    {
     "data": {
      "text/plain": [
       "[UID: string, Timestamp: timestamp ... 1 more field]"
      ]
     },
     "execution_count": 42,
     "metadata": {},
     "output_type": "execute_result"
    }
   ],
   "source": [
    "// extracting neat URL\n",
    "\n",
    "val logs_decoded = logs_df_domen.withColumn(\"URL\", lower(callUDF(\"parse_url\", $\"URL\", lit(\"HOST\"))))\n",
    "                               .withColumn(\"URL\", regexp_replace(lower($\"URL\"), \"www.\", \"\"))\n",
    "logs_decoded.show(5)"
   ]
  },
  {
   "cell_type": "code",
   "execution_count": 11,
   "metadata": {},
   "outputs": [
    {
     "name": "stdout",
     "output_type": "stream",
     "text": [
      "+---+---------+---+\n",
      "|UID|Timestamp|URL|\n",
      "+---+---------+---+\n",
      "+---+---------+---+\n",
      "\n"
     ]
    },
    {
     "data": {
      "text/plain": [
       "substrDel = substring_index(URL, ., 1)\n",
       "logs_df_clean = [UID: string, Timestamp: timestamp ... 1 more field]\n"
      ]
     },
     "metadata": {},
     "output_type": "display_data"
    },
    {
     "data": {
      "text/plain": [
       "[UID: string, Timestamp: timestamp ... 1 more field]"
      ]
     },
     "execution_count": 11,
     "metadata": {},
     "output_type": "execute_result"
    }
   ],
   "source": [
    "// extracting neat URL\n",
    "\"\"\"\n",
    "val substrDel = substring_index($\"URL\", \".\", 1)\n",
    "val logs_df_clean = logs_df.withColumn(\"URL\", substring_index(substring(regexp_replace($\"URL\",substrDel , lit(\"\")), 2, 999), \"%\", 1))\n",
    "\n",
    "logs_df_clean.show(numRows=5, truncate=200 /*, vertical=true*/)\"\"\""
   ]
  },
  {
   "cell_type": "code",
   "execution_count": 43,
   "metadata": {},
   "outputs": [
    {
     "name": "stdout",
     "output_type": "stream",
     "text": [
      "root\n",
      " |-- UID: string (nullable = true)\n",
      " |-- Timestamp: timestamp (nullable = true)\n",
      " |-- URL: string (nullable = true)\n",
      "\n"
     ]
    }
   ],
   "source": [
    "logs_decoded.printSchema()"
   ]
  },
  {
   "cell_type": "code",
   "execution_count": 44,
   "metadata": {},
   "outputs": [
    {
     "name": "stdout",
     "output_type": "stream",
     "text": [
      "+------------+\n",
      "|   autousers|\n",
      "+------------+\n",
      "|100341861572|\n",
      "|100473724387|\n",
      "|100528753939|\n",
      "+------------+\n",
      "only showing top 3 rows\n",
      "\n"
     ]
    },
    {
     "data": {
      "text/plain": [
       "vehicleUsers_df = [autousers: string]\n"
      ]
     },
     "metadata": {},
     "output_type": "display_data"
    },
    {
     "data": {
      "text/plain": [
       "[autousers: string]"
      ]
     },
     "execution_count": 44,
     "metadata": {},
     "output_type": "execute_result"
    }
   ],
   "source": [
    "val vehicleUsers_df = vehicleUsers.select(explode($\"autousers\").alias(\"autousers\"))\n",
    "vehicleUsers_df.show(3)"
   ]
  },
  {
   "cell_type": "code",
   "execution_count": 45,
   "metadata": {},
   "outputs": [
    {
     "data": {
      "text/plain": [
       "100000"
      ]
     },
     "execution_count": 45,
     "metadata": {},
     "output_type": "execute_result"
    }
   ],
   "source": [
    "logs_decoded.select($\"UID\").distinct.count()"
   ]
  },
  {
   "cell_type": "code",
   "execution_count": 46,
   "metadata": {},
   "outputs": [
    {
     "data": {
      "text/plain": [
       "5209"
      ]
     },
     "execution_count": 46,
     "metadata": {},
     "output_type": "execute_result"
    }
   ],
   "source": [
    "vehicleUsers_df.select(\"autousers\").distinct().count()"
   ]
  },
  {
   "cell_type": "code",
   "execution_count": null,
   "metadata": {},
   "outputs": [
    {
     "name": "stdout",
     "output_type": "stream",
     "text": [
      "+------------+-------------------+--------------+------------+\n",
      "|         UID|          Timestamp|           URL|   autousers|\n",
      "+------------+-------------------+--------------+------------+\n",
      "|182984926014|2015-02-12 09:58:11|    bmwclub.ru|182984926014|\n",
      "|182984926014|2015-02-12 09:58:10|    bmwclub.ru|182984926014|\n",
      "|289380960531|2015-02-12 09:58:11|    bmwclub.ru|289380960531|\n",
      "|289380960531|2015-02-12 09:58:10|    bmwclub.ru|289380960531|\n",
      "|289380960531|2015-02-12 09:58:15|    bmwclub.ru|289380960531|\n",
      "|289380960531|2015-02-12 09:58:14|    bmwclub.ru|289380960531|\n",
      "|216661893822|2015-02-12 09:58:19|avto-russia.ru|216661893822|\n",
      "|216661893822|2015-02-12 09:58:18|avto-russia.ru|216661893822|\n",
      "|220450986911|2015-02-12 09:58:19|    bmwclub.ru|220450986911|\n",
      "|220450986911|2015-02-12 09:58:18|    bmwclub.ru|220450986911|\n",
      "| 44329087557|2015-02-12 09:58:20|      inixi.ru| 44329087557|\n",
      "| 44329087557|2015-02-12 09:58:19|      inixi.ru| 44329087557|\n",
      "| 10823573029|2015-02-12 09:58:21|       cars.ru| 10823573029|\n",
      "| 10823573029|2015-02-12 09:58:20|       cars.ru| 10823573029|\n",
      "|176946872244|2015-02-12 09:58:22|    bmwclub.ru|176946872244|\n",
      "|176946872244|2015-02-12 09:58:21|    bmwclub.ru|176946872244|\n",
      "|310152775071|2015-02-12 09:58:24|    bmwclub.ru|310152775071|\n",
      "|310152775071|2015-02-12 09:58:23|    bmwclub.ru|310152775071|\n",
      "|220450986911|2015-02-12 09:58:24|    bmwclub.ru|220450986911|\n",
      "|220450986911|2015-02-12 09:58:23|    bmwclub.ru|220450986911|\n",
      "+------------+-------------------+--------------+------------+\n",
      "only showing top 20 rows\n",
      "\n"
     ]
    }
   ],
   "source": [
    "val joined_df = logs_decoded.join(vehicleUsers_df, $\"UID\" === $\"autousers\")\n",
    "joined_df.show()\n",
    "joined_df.count()"
   ]
  },
  {
   "cell_type": "code",
   "execution_count": null,
   "metadata": {},
   "outputs": [],
   "source": []
  }
 ],
 "metadata": {
  "kernelspec": {
   "display_name": "Apache Toree - Scala",
   "language": "scala",
   "name": "apache_toree_scala"
  },
  "language_info": {
   "codemirror_mode": "text/x-scala",
   "file_extension": ".scala",
   "mimetype": "text/x-scala",
   "name": "scala",
   "pygments_lexer": "scala",
   "version": "2.11.12"
  }
 },
 "nbformat": 4,
 "nbformat_minor": 2
}
