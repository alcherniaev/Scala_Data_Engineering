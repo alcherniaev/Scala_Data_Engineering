{
 "cells": [
  {
   "cell_type": "code",
   "execution_count": 3,
   "metadata": {},
   "outputs": [],
   "source": [
    "import org.apache.spark.sql._\n",
    "import org.apache.spark.ml._\n",
    "import java.io._\n",
    "import play.api.libs.json._\n",
    "import org.apache.spark.sql.Row\n",
    "import org.apache.spark.sql.functions._"
   ]
  },
  {
   "cell_type": "code",
   "execution_count": 4,
   "metadata": {},
   "outputs": [
    {
     "data": {
      "text/plain": [
       "Waiting for a Spark session to start..."
      ]
     },
     "metadata": {},
     "output_type": "display_data"
    },
    {
     "data": {
      "text/plain": [
       "vehicleUsers = [autousers: array<string>]\n"
      ]
     },
     "metadata": {},
     "output_type": "display_data"
    },
    {
     "data": {
      "text/plain": [
       "[autousers: array<string>]"
      ]
     },
     "execution_count": 4,
     "metadata": {},
     "output_type": "execute_result"
    }
   ],
   "source": [
    "val vehicleUsers = spark.read.json(\"/labs/laba02/autousers.json\").toDF()"
   ]
  },
  {
   "cell_type": "code",
   "execution_count": 5,
   "metadata": {},
   "outputs": [
    {
     "name": "stdout",
     "output_type": "stream",
     "text": [
      "root\n",
      " |-- autousers: array (nullable = true)\n",
      " |    |-- element: string (containsNull = true)\n",
      "\n"
     ]
    }
   ],
   "source": [
    "vehicleUsers.printSchema()"
   ]
  },
  {
   "cell_type": "code",
   "execution_count": 6,
   "metadata": {},
   "outputs": [
    {
     "name": "stdout",
     "output_type": "stream",
     "text": [
      "-RECORD 0---------------------------------------------------------------------------------------------------------\n",
      " autousers | [100341861572, 100473724387, 100528753939, 101182896723, 101818209438, 101886368239, 102535398052... \n",
      "\n"
     ]
    }
   ],
   "source": [
    "vehicleUsers.show(numRows = 5, truncate = 100, vertical=true)"
   ]
  },
  {
   "cell_type": "code",
   "execution_count": 7,
   "metadata": {},
   "outputs": [
    {
     "data": {
      "text/plain": [
       "logs = [value: string]\n"
      ]
     },
     "metadata": {},
     "output_type": "display_data"
    },
    {
     "data": {
      "text/plain": [
       "[value: string]"
      ]
     },
     "execution_count": 7,
     "metadata": {},
     "output_type": "execute_result"
    }
   ],
   "source": [
    "val logs = spark.read.option(\"delimiter\", \"\\t\").textFile(\"/labs/laba02/logs\")"
   ]
  },
  {
   "cell_type": "code",
   "execution_count": 8,
   "metadata": {},
   "outputs": [
    {
     "name": "stdout",
     "output_type": "stream",
     "text": [
      "-RECORD 0-----------------------------------------------------------------------------------------------------\n",
      " value | 258131083251\t1423724291.637\thttp%3A%2F%2Fwww.zakon.kz%2F                                             \n",
      "-RECORD 1-----------------------------------------------------------------------------------------------------\n",
      " value | 258131083251\t1423724290.637                                                                          \n",
      "-RECORD 2-----------------------------------------------------------------------------------------------------\n",
      " value | 182984926014\t1423724291.666\thttp%3A%2F%2Fwww.bmwclub.ru%2Fvb%2Fshowthread.php%3Ft%3D875590%26page... \n",
      "-RECORD 3-----------------------------------------------------------------------------------------------------\n",
      " value | 182984926014\t1423724290.666\thttp%3A%2F%2Fwww.bmwclub.ru%2Fvb%2Fshowthread.php%3Ft%3D875590%26page... \n",
      "-RECORD 4-----------------------------------------------------------------------------------------------------\n",
      " value | 289380960531\t1423724291.723\thttp%3A%2F%2Fwww.bmwclub.ru%2Fvb%2Fforumdisplay.php%3Ff%3D128            \n",
      "only showing top 5 rows\n",
      "\n"
     ]
    }
   ],
   "source": [
    "logs.show(numRows = 5, truncate = 100, vertical=true)"
   ]
  },
  {
   "cell_type": "code",
   "execution_count": 9,
   "metadata": {},
   "outputs": [
    {
     "name": "stdout",
     "output_type": "stream",
     "text": [
      "+--------------------+\n",
      "|               value|\n",
      "+--------------------+\n",
      "|258131083251\t1423...|\n",
      "|258131083251\t1423...|\n",
      "|182984926014\t1423...|\n",
      "|182984926014\t1423...|\n",
      "|289380960531\t1423...|\n",
      "|289380960531\t1423...|\n",
      "|85356233460\t14237...|\n",
      "|204109491902\t1423...|\n",
      "|204109491902\t1423...|\n",
      "|302580370974\t1423...|\n",
      "+--------------------+\n",
      "only showing top 10 rows\n",
      "\n"
     ]
    }
   ],
   "source": [
    "logs.show(10)"
   ]
  },
  {
   "cell_type": "code",
   "execution_count": 10,
   "metadata": {},
   "outputs": [
    {
     "data": {
      "text/plain": [
       "Name: Syntax Error.\n",
       "Message: \n",
       "StackTrace: "
      ]
     },
     "execution_count": 10,
     "metadata": {},
     "output_type": "execute_result"
    }
   ],
   "source": [
    "// val logs = logs.map(line => (line.split(\"\\t\")(1).split(\" \").flatMap(word => word), line.split(\"\\t\")(0))).map(word => (word, 1)).reduceByKey(_ + _)\n"
   ]
  },
  {
   "cell_type": "code",
   "execution_count": 10,
   "metadata": {},
   "outputs": [
    {
     "name": "stdout",
     "output_type": "stream",
     "text": [
      "+-----------------------------------------------------------------------------------------------------+\n",
      "|value                                                                                                |\n",
      "+-----------------------------------------------------------------------------------------------------+\n",
      "|258131083251\t1423724291.637\thttp%3A%2F%2Fwww.zakon.kz%2F                                             |\n",
      "|258131083251\t1423724290.637                                                                          |\n",
      "|182984926014\t1423724291.666\thttp%3A%2F%2Fwww.bmwclub.ru%2Fvb%2Fshowthread.php%3Ft%3D875590%26page%3D5|\n",
      "+-----------------------------------------------------------------------------------------------------+\n",
      "only showing top 3 rows\n",
      "\n"
     ]
    }
   ],
   "source": [
    "logs.show(3, truncate=false)"
   ]
  },
  {
   "cell_type": "code",
   "execution_count": 16,
   "metadata": {},
   "outputs": [
    {
     "name": "stdout",
     "output_type": "stream",
     "text": [
      "+---------------------------------------------------------------------------------------------------------+\n",
      "|value                                                                                                    |\n",
      "+---------------------------------------------------------------------------------------------------------+\n",
      "|[258131083251, 1423724291.637, http%3A%2F%2Fwww.zakon.kz%2F]                                             |\n",
      "|[258131083251, 1423724290.637]                                                                           |\n",
      "|[182984926014, 1423724291.666, http%3A%2F%2Fwww.bmwclub.ru%2Fvb%2Fshowthread.php%3Ft%3D875590%26page%3D5]|\n",
      "+---------------------------------------------------------------------------------------------------------+\n",
      "only showing top 3 rows\n",
      "\n"
     ]
    },
    {
     "data": {
      "text/plain": [
       "col_ = split(value, \t) AS `value`\n",
       "logs_splited = [value: array<string>]\n"
      ]
     },
     "metadata": {},
     "output_type": "display_data"
    },
    {
     "data": {
      "text/plain": [
       "[value: array<string>]"
      ]
     },
     "execution_count": 16,
     "metadata": {},
     "output_type": "execute_result"
    }
   ],
   "source": [
    "val col_ = split(col(\"value\"), \"\\t\").alias(\"value\")\n",
    "val logs_splited = logs.select(col_)\n",
    "logs_splited.show(3, truncate=false)"
   ]
  },
  {
   "cell_type": "code",
   "execution_count": 30,
   "metadata": {},
   "outputs": [
    {
     "name": "stdout",
     "output_type": "stream",
     "text": [
      "+------------+--------------+-------------------------------------------------------------------------+\n",
      "|UID         |Timestamp     |URL                                                                      |\n",
      "+------------+--------------+-------------------------------------------------------------------------+\n",
      "|258131083251|1423724291.637|http%3A%2F%2Fwww.zakon.kz%2F                                             |\n",
      "|258131083251|1423724290.637|null                                                                     |\n",
      "|182984926014|1423724291.666|http%3A%2F%2Fwww.bmwclub.ru%2Fvb%2Fshowthread.php%3Ft%3D875590%26page%3D5|\n",
      "|182984926014|1423724290.666|http%3A%2F%2Fwww.bmwclub.ru%2Fvb%2Fshowthread.php%3Ft%3D875590%26page%3D4|\n",
      "|289380960531|1423724291.723|http%3A%2F%2Fwww.bmwclub.ru%2Fvb%2Fforumdisplay.php%3Ff%3D128            |\n",
      "|289380960531|1423724290.723|http%3A%2F%2Fwww.bmwclub.ru%2Fvb%2F                                      |\n",
      "|85356233460 |1423724290.923|http%3A//www.wmmail.ru/index.php%3Fcf%3Dusf-userfing                     |\n",
      "|204109491902|1423724291.935|https%3A%2F%2Fvk.com%2Fid21743084                                        |\n",
      "|204109491902|1423724290.935|https%3A%2F%2Fvk.com%2Ffeed%3Fsection%3Dupdates                          |\n",
      "|302580370974|1423724291.839|http%3A%2F%2Fwww.novayagazeta.ru%2F                                      |\n",
      "+------------+--------------+-------------------------------------------------------------------------+\n",
      "only showing top 10 rows\n",
      "\n"
     ]
    }
   ],
   "source": [
    "logs_splited.withColumn(\"UID\", $\"value\"(0))\n",
    "            .withColumn(\"Timestamp\", $\"value\"(1))\n",
    "            .withColumn(\"URL\", $\"value\"(2))\n",
    "            .select(\"UID\",\"Timestamp\", \"URL\")\n",
    "            .show(10, truncate=false)"
   ]
  },
  {
   "cell_type": "code",
   "execution_count": 18,
   "metadata": {},
   "outputs": [
    {
     "name": "stdout",
     "output_type": "stream",
     "text": [
      "+---+--------------------+\n",
      "|pos|                 col|\n",
      "+---+--------------------+\n",
      "|  0|        258131083251|\n",
      "|  1|      1423724291.637|\n",
      "|  2|http%3A%2F%2Fwww....|\n",
      "|  0|        258131083251|\n",
      "|  1|      1423724290.637|\n",
      "|  0|        182984926014|\n",
      "|  1|      1423724291.666|\n",
      "|  2|http%3A%2F%2Fwww....|\n",
      "|  0|        182984926014|\n",
      "|  1|      1423724290.666|\n",
      "|  2|http%3A%2F%2Fwww....|\n",
      "|  0|        289380960531|\n",
      "|  1|      1423724291.723|\n",
      "|  2|http%3A%2F%2Fwww....|\n",
      "|  0|        289380960531|\n",
      "|  1|      1423724290.723|\n",
      "|  2|http%3A%2F%2Fwww....|\n",
      "|  0|         85356233460|\n",
      "|  1|      1423724290.923|\n",
      "|  2|http%3A//www.wmma...|\n",
      "+---+--------------------+\n",
      "only showing top 20 rows\n",
      "\n"
     ]
    }
   ],
   "source": [
    "logs_splited.select(posexplode($\"value\")).show()"
   ]
  },
  {
   "cell_type": "code",
   "execution_count": null,
   "metadata": {},
   "outputs": [],
   "source": [
    "DF.withColumn(\"IP Address\",split(col(\"value\"),\" - - \")(0)).\n",
    "withColumn(\"temp1\",split(col(\"value\"),\" - - \")(1)).\n",
    "withColumn(\"Time\",concat(split(col(\"temp1\"),\" \")(0),split(col(\"temp1\"),\" \")(1))).\n",
    "withColumn(\"col3\",substring(split(col(\"temp1\"),\" \")(2),2,3)).\n",
    "withColumn(\"Col4\",split(col(\"temp1\"),\" \")(3)).\n",
    "select(col(\"IP Address\"),col(\"Time\"),col(\"col3\"),col(\"col4\")).show"
   ]
  },
  {
   "cell_type": "code",
   "execution_count": null,
   "metadata": {},
   "outputs": [],
   "source": []
  },
  {
   "cell_type": "code",
   "execution_count": null,
   "metadata": {},
   "outputs": [],
   "source": []
  },
  {
   "cell_type": "code",
   "execution_count": null,
   "metadata": {},
   "outputs": [],
   "source": []
  },
  {
   "cell_type": "code",
   "execution_count": 1,
   "metadata": {},
   "outputs": [
    {
     "data": {
      "text/plain": [
       "Name: Syntax Error.\n",
       "Message: \n",
       "StackTrace: "
      ]
     },
     "execution_count": 1,
     "metadata": {},
     "output_type": "execute_result"
    }
   ],
   "source": [
    "// Создаем новую колонку, разибая наши данные по \\t\n",
    "//val jsonStrings: Column = split(col(\"value\"), \"\\t\").alias(\"value\")\n",
    "\n",
    "// Используем функцию explode для того, чтобы развернуть массив мехом наружу и используем темную магию \n",
    "// для превращения DataFrame в Dataset[String]\n",
    "//val splited: Dataset[String] = raw.select(explode(jsonStrings)).as[String]"
   ]
  },
  {
   "cell_type": "code",
   "execution_count": 15,
   "metadata": {},
   "outputs": [
    {
     "name": "stdout",
     "output_type": "stream",
     "text": [
      "-RECORD 0--------------------------------------------------------------------------\n",
      " value | 258131083251                                                              \n",
      "-RECORD 1--------------------------------------------------------------------------\n",
      " value | 1423724291.637                                                            \n",
      "-RECORD 2--------------------------------------------------------------------------\n",
      " value | http%3A%2F%2Fwww.zakon.kz%2F                                              \n",
      "-RECORD 3--------------------------------------------------------------------------\n",
      " value | 258131083251                                                              \n",
      "-RECORD 4--------------------------------------------------------------------------\n",
      " value | 1423724290.637                                                            \n",
      "-RECORD 5--------------------------------------------------------------------------\n",
      " value | 182984926014                                                              \n",
      "-RECORD 6--------------------------------------------------------------------------\n",
      " value | 1423724291.666                                                            \n",
      "-RECORD 7--------------------------------------------------------------------------\n",
      " value | http%3A%2F%2Fwww.bmwclub.ru%2Fvb%2Fshowthread.php%3Ft%3D875590%26page%3D5 \n",
      "-RECORD 8--------------------------------------------------------------------------\n",
      " value | 182984926014                                                              \n",
      "-RECORD 9--------------------------------------------------------------------------\n",
      " value | 1423724290.666                                                            \n",
      "-RECORD 10-------------------------------------------------------------------------\n",
      " value | http%3A%2F%2Fwww.bmwclub.ru%2Fvb%2Fshowthread.php%3Ft%3D875590%26page%3D4 \n",
      "-RECORD 11-------------------------------------------------------------------------\n",
      " value | 289380960531                                                              \n",
      "-RECORD 12-------------------------------------------------------------------------\n",
      " value | 1423724291.723                                                            \n",
      "-RECORD 13-------------------------------------------------------------------------\n",
      " value | http%3A%2F%2Fwww.bmwclub.ru%2Fvb%2Fforumdisplay.php%3Ff%3D128             \n",
      "-RECORD 14-------------------------------------------------------------------------\n",
      " value | 289380960531                                                              \n",
      "-RECORD 15-------------------------------------------------------------------------\n",
      " value | 1423724290.723                                                            \n",
      "-RECORD 16-------------------------------------------------------------------------\n",
      " value | http%3A%2F%2Fwww.bmwclub.ru%2Fvb%2F                                       \n",
      "-RECORD 17-------------------------------------------------------------------------\n",
      " value | 85356233460                                                               \n",
      "-RECORD 18-------------------------------------------------------------------------\n",
      " value | 1423724290.923                                                            \n",
      "-RECORD 19-------------------------------------------------------------------------\n",
      " value | http%3A//www.wmmail.ru/index.php%3Fcf%3Dusf-userfing                      \n",
      "only showing top 20 rows\n",
      "\n"
     ]
    }
   ],
   "source": [
    "logs.select(explode(split(col(\"value\"), \"\\t\")).alias(\"value\")).show(numRows = 20, truncate = 100, vertical=true)"
   ]
  },
  {
   "cell_type": "code",
   "execution_count": 16,
   "metadata": {},
   "outputs": [
    {
     "data": {
      "text/plain": [
       "Name: org.apache.spark.sql.AnalysisException\n",
       "Message: The number of aliases supplied in the AS clause does not match the number of columns output by the UDTF expected 1 aliases but got x,y,z ;\n",
       "StackTrace:   at org.apache.spark.sql.catalyst.analysis.CheckAnalysis$class.failAnalysis(CheckAnalysis.scala:43)\n",
       "  at org.apache.spark.sql.catalyst.analysis.Analyzer.failAnalysis(Analyzer.scala:95)\n",
       "  at org.apache.spark.sql.catalyst.analysis.Analyzer$ResolveGenerate$.makeGeneratorOutput(Analyzer.scala:1931)\n",
       "  at org.apache.spark.sql.catalyst.analysis.Analyzer$ExtractGenerator$$anonfun$apply$23$$anonfun$70.apply(Analyzer.scala:1878)\n",
       "  at org.apache.spark.sql.catalyst.analysis.Analyzer$ExtractGenerator$$anonfun$apply$23$$anonfun$70.apply(Analyzer.scala:1866)\n",
       "  at scala.collection.TraversableLike$$anonfun$flatMap$1.apply(TraversableLike.scala:241)\n",
       "  at scala.collection.TraversableLike$$anonfun$flatMap$1.apply(TraversableLike.scala:241)\n",
       "  at scala.collection.mutable.ResizableArray$class.foreach(ResizableArray.scala:59)\n",
       "  at scala.collection.mutable.ArrayBuffer.foreach(ArrayBuffer.scala:48)\n",
       "  at scala.collection.TraversableLike$class.flatMap(TraversableLike.scala:241)\n",
       "  at scala.collection.AbstractTraversable.flatMap(Traversable.scala:104)\n",
       "  at org.apache.spark.sql.catalyst.analysis.Analyzer$ExtractGenerator$$anonfun$apply$23.applyOrElse(Analyzer.scala:1866)\n",
       "  at org.apache.spark.sql.catalyst.analysis.Analyzer$ExtractGenerator$$anonfun$apply$23.applyOrElse(Analyzer.scala:1849)\n",
       "  at org.apache.spark.sql.catalyst.plans.logical.AnalysisHelper$$anonfun$resolveOperatorsUp$1$$anonfun$apply$1.apply(AnalysisHelper.scala:90)\n",
       "  at org.apache.spark.sql.catalyst.plans.logical.AnalysisHelper$$anonfun$resolveOperatorsUp$1$$anonfun$apply$1.apply(AnalysisHelper.scala:90)\n",
       "  at org.apache.spark.sql.catalyst.trees.CurrentOrigin$.withOrigin(TreeNode.scala:69)\n",
       "  at org.apache.spark.sql.catalyst.plans.logical.AnalysisHelper$$anonfun$resolveOperatorsUp$1.apply(AnalysisHelper.scala:89)\n",
       "  at org.apache.spark.sql.catalyst.plans.logical.AnalysisHelper$$anonfun$resolveOperatorsUp$1.apply(AnalysisHelper.scala:86)\n",
       "  at org.apache.spark.sql.catalyst.plans.logical.AnalysisHelper$.allowInvokingTransformsInAnalyzer(AnalysisHelper.scala:194)\n",
       "  at org.apache.spark.sql.catalyst.plans.logical.AnalysisHelper$class.resolveOperatorsUp(AnalysisHelper.scala:86)\n",
       "  at org.apache.spark.sql.catalyst.plans.logical.LogicalPlan.resolveOperatorsUp(LogicalPlan.scala:29)\n",
       "  at org.apache.spark.sql.catalyst.analysis.Analyzer$ExtractGenerator$.apply(Analyzer.scala:1849)\n",
       "  at org.apache.spark.sql.catalyst.analysis.Analyzer$ExtractGenerator$.apply(Analyzer.scala:1802)\n",
       "  at org.apache.spark.sql.catalyst.rules.RuleExecutor$$anonfun$execute$1$$anonfun$apply$1.apply(RuleExecutor.scala:87)\n",
       "  at org.apache.spark.sql.catalyst.rules.RuleExecutor$$anonfun$execute$1$$anonfun$apply$1.apply(RuleExecutor.scala:84)\n",
       "  at scala.collection.LinearSeqOptimized$class.foldLeft(LinearSeqOptimized.scala:124)\n",
       "  at scala.collection.immutable.List.foldLeft(List.scala:84)\n",
       "  at org.apache.spark.sql.catalyst.rules.RuleExecutor$$anonfun$execute$1.apply(RuleExecutor.scala:84)\n",
       "  at org.apache.spark.sql.catalyst.rules.RuleExecutor$$anonfun$execute$1.apply(RuleExecutor.scala:76)\n",
       "  at scala.collection.immutable.List.foreach(List.scala:392)\n",
       "  at org.apache.spark.sql.catalyst.rules.RuleExecutor.execute(RuleExecutor.scala:76)\n",
       "  at org.apache.spark.sql.catalyst.analysis.Analyzer.org$apache$spark$sql$catalyst$analysis$Analyzer$$executeSameContext(Analyzer.scala:127)\n",
       "  at org.apache.spark.sql.catalyst.analysis.Analyzer.execute(Analyzer.scala:121)\n",
       "  at org.apache.spark.sql.catalyst.analysis.Analyzer$$anonfun$executeAndCheck$1.apply(Analyzer.scala:106)\n",
       "  at org.apache.spark.sql.catalyst.analysis.Analyzer$$anonfun$executeAndCheck$1.apply(Analyzer.scala:105)\n",
       "  at org.apache.spark.sql.catalyst.plans.logical.AnalysisHelper$.markInAnalyzer(AnalysisHelper.scala:201)\n",
       "  at org.apache.spark.sql.catalyst.analysis.Analyzer.executeAndCheck(Analyzer.scala:105)\n",
       "  at org.apache.spark.sql.execution.QueryExecution.analyzed$lzycompute(QueryExecution.scala:58)\n",
       "  at org.apache.spark.sql.execution.QueryExecution.analyzed(QueryExecution.scala:56)\n",
       "  at org.apache.spark.sql.execution.QueryExecution.assertAnalyzed(QueryExecution.scala:48)\n",
       "  at org.apache.spark.sql.Dataset$.ofRows(Dataset.scala:78)\n",
       "  at org.apache.spark.sql.Dataset.org$apache$spark$sql$Dataset$$withPlan(Dataset.scala:3412)\n",
       "  at org.apache.spark.sql.Dataset.select(Dataset.scala:1340)"
      ]
     },
     "execution_count": 16,
     "metadata": {},
     "output_type": "execute_result"
    }
   ],
   "source": [
    "logs.select(explode(split(col(\"value\"), \"\\t\").alias(\"value\")) as (Seq(\"x\", \"y\", \"z\"))).show()"
   ]
  },
  {
   "cell_type": "code",
   "execution_count": 2,
   "metadata": {},
   "outputs": [
    {
     "data": {
      "text/plain": [
       "Name: Compile Error\n",
       "Message: <console>:26: error: not found: value logs\n",
       "       logs.printSchema()\n",
       "       ^\n",
       "\n",
       "StackTrace: "
      ]
     },
     "execution_count": 2,
     "metadata": {},
     "output_type": "execute_result"
    }
   ],
   "source": [
    "logs.printSchema()"
   ]
  },
  {
   "cell_type": "code",
   "execution_count": 18,
   "metadata": {},
   "outputs": [
    {
     "name": "stdout",
     "output_type": "stream",
     "text": [
      "+------------+\n",
      "|         col|\n",
      "+------------+\n",
      "|100341861572|\n",
      "|100473724387|\n",
      "|100528753939|\n",
      "|101182896723|\n",
      "|101818209438|\n",
      "|101886368239|\n",
      "|102535398052|\n",
      "|103624582558|\n",
      "|103753741251|\n",
      "|104091409587|\n",
      "|104619031972|\n",
      "|104636088851|\n",
      "|104684233907|\n",
      "|104979586580|\n",
      "|105019547390|\n",
      "|105036954964|\n",
      "|105393450179|\n",
      "|105489980463|\n",
      "| 10565067157|\n",
      "|105794662484|\n",
      "+------------+\n",
      "only showing top 20 rows\n",
      "\n"
     ]
    }
   ],
   "source": [
    "vehicleUsers.select(explode($\"autousers\")).show()"
   ]
  },
  {
   "cell_type": "code",
   "execution_count": 58,
   "metadata": {},
   "outputs": [
    {
     "name": "stdout",
     "output_type": "stream",
     "text": [
      "+--------------------+\n",
      "|           autousers|\n",
      "+--------------------+\n",
      "|[100341861572, 10...|\n",
      "+--------------------+\n",
      "\n"
     ]
    }
   ],
   "source": [
    "vehicleUsers.select($\"autousers\").show()"
   ]
  },
  {
   "cell_type": "code",
   "execution_count": null,
   "metadata": {},
   "outputs": [],
   "source": [
    "import org.apache.spark.sql.functions._\n",
    "appActiveTime.withColumn(\"data\", explode($\"data\"))\n",
    "       .select(\"data.*\")\n",
    "       .show(false)"
   ]
  }
 ],
 "metadata": {
  "kernelspec": {
   "display_name": "Apache Toree - Scala",
   "language": "scala",
   "name": "apache_toree_scala"
  },
  "language_info": {
   "codemirror_mode": "text/x-scala",
   "file_extension": ".scala",
   "mimetype": "text/x-scala",
   "name": "scala",
   "pygments_lexer": "scala",
   "version": "2.11.12"
  }
 },
 "nbformat": 4,
 "nbformat_minor": 2
}
