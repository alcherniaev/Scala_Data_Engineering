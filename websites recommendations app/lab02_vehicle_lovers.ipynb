{
 "cells": [
  {
   "cell_type": "code",
   "execution_count": 1,
   "metadata": {},
   "outputs": [],
   "source": [
    "import org.apache.spark.sql._\n",
    "import org.apache.spark.ml._\n",
    "import java.io._\n",
    "import play.api.libs.json._\n",
    "import org.apache.spark.sql.Row\n",
    "import org.apache.spark.sql.functions._"
   ]
  },
  {
   "cell_type": "code",
   "execution_count": 2,
   "metadata": {},
   "outputs": [
    {
     "data": {
      "text/plain": [
       "Waiting for a Spark session to start..."
      ]
     },
     "metadata": {},
     "output_type": "display_data"
    },
    {
     "data": {
      "text/plain": [
       "vehicleUsers = [autousers: array<string>]\n"
      ]
     },
     "metadata": {},
     "output_type": "display_data"
    },
    {
     "data": {
      "text/plain": [
       "[autousers: array<string>]"
      ]
     },
     "execution_count": 2,
     "metadata": {},
     "output_type": "execute_result"
    }
   ],
   "source": [
    "val vehicleUsers = spark.read.json(\"/labs/laba02/autousers.json\").toDF()"
   ]
  },
  {
   "cell_type": "code",
   "execution_count": 3,
   "metadata": {},
   "outputs": [
    {
     "data": {
      "text/plain": [
       "logs = [value: string]\n"
      ]
     },
     "metadata": {},
     "output_type": "display_data"
    },
    {
     "data": {
      "text/plain": [
       "[value: string]"
      ]
     },
     "execution_count": 3,
     "metadata": {},
     "output_type": "execute_result"
    }
   ],
   "source": [
    "val logs = spark.read.option(\"delimiter\", \"\\t\").textFile(\"/labs/laba02/logs\")"
   ]
  },
  {
   "cell_type": "code",
   "execution_count": 4,
   "metadata": {},
   "outputs": [
    {
     "name": "stdout",
     "output_type": "stream",
     "text": [
      "+-----------------------------------------------------------------------------------------------------+\n",
      "|value                                                                                                |\n",
      "+-----------------------------------------------------------------------------------------------------+\n",
      "|258131083251\t1423724291.637\thttp%3A%2F%2Fwww.zakon.kz%2F                                             |\n",
      "|258131083251\t1423724290.637                                                                          |\n",
      "|182984926014\t1423724291.666\thttp%3A%2F%2Fwww.bmwclub.ru%2Fvb%2Fshowthread.php%3Ft%3D875590%26page%3D5|\n",
      "+-----------------------------------------------------------------------------------------------------+\n",
      "only showing top 3 rows\n",
      "\n"
     ]
    }
   ],
   "source": [
    "logs.show(3, truncate=false)"
   ]
  },
  {
   "cell_type": "code",
   "execution_count": 5,
   "metadata": {},
   "outputs": [
    {
     "name": "stdout",
     "output_type": "stream",
     "text": [
      "+---------------------------------------------------------------------------------------------------------+\n",
      "|value                                                                                                    |\n",
      "+---------------------------------------------------------------------------------------------------------+\n",
      "|[258131083251, 1423724291.637, http%3A%2F%2Fwww.zakon.kz%2F]                                             |\n",
      "|[258131083251, 1423724290.637]                                                                           |\n",
      "|[182984926014, 1423724291.666, http%3A%2F%2Fwww.bmwclub.ru%2Fvb%2Fshowthread.php%3Ft%3D875590%26page%3D5]|\n",
      "+---------------------------------------------------------------------------------------------------------+\n",
      "only showing top 3 rows\n",
      "\n"
     ]
    },
    {
     "data": {
      "text/plain": [
       "col_ = split(value, \t) AS `value`\n",
       "logs_splited = [value: array<string>]\n"
      ]
     },
     "metadata": {},
     "output_type": "display_data"
    },
    {
     "data": {
      "text/plain": [
       "[value: array<string>]"
      ]
     },
     "execution_count": 5,
     "metadata": {},
     "output_type": "execute_result"
    }
   ],
   "source": [
    "// split df to array rows\n",
    "\n",
    "val col_ = split(col(\"value\"), \"\\t\").alias(\"value\")\n",
    "val logs_splited = logs.select(col_)\n",
    "logs_splited.show(3, truncate=false)"
   ]
  },
  {
   "cell_type": "code",
   "execution_count": 17,
   "metadata": {},
   "outputs": [
    {
     "data": {
      "text/plain": [
       "logs_df = [UID: string, Timestamp: timestamp ... 1 more field]\n"
      ]
     },
     "metadata": {},
     "output_type": "display_data"
    },
    {
     "data": {
      "text/plain": [
       "[UID: string, Timestamp: timestamp ... 1 more field]"
      ]
     },
     "execution_count": 17,
     "metadata": {},
     "output_type": "execute_result"
    }
   ],
   "source": [
    "// selecting columns by index of arrays\n",
    "\n",
    "val logs_df = logs_splited.withColumn(\"UID\", $\"value\"(0))\n",
    "                    .withColumn(\"Timestamp\", $\"value\"(1))\n",
    "                    .withColumn(\"URL\", $\"value\"(2))\n",
    "                    .withColumn(\"Timestamp\", to_timestamp(from_unixtime($\"Timestamp\")))\n",
    "                    .select(\"UID\",\"Timestamp\", \"URL\")\n",
    "                    .filter($\"URL\".like(\"http%\"))\n"
   ]
  },
  {
   "cell_type": "code",
   "execution_count": 16,
   "metadata": {},
   "outputs": [
    {
     "name": "stdout",
     "output_type": "stream",
     "text": [
      "+------------+-------------------+-------------------------------------------------------------------------+\n",
      "|UID         |Timestamp          |URL                                                                      |\n",
      "+------------+-------------------+-------------------------------------------------------------------------+\n",
      "|258131083251|2015-02-12 09:58:11|http%3A%2F%2Fwww.zakon.kz%2F                                             |\n",
      "|258131083251|2015-02-12 09:58:10|null                                                                     |\n",
      "|182984926014|2015-02-12 09:58:11|http%3A%2F%2Fwww.bmwclub.ru%2Fvb%2Fshowthread.php%3Ft%3D875590%26page%3D5|\n",
      "|182984926014|2015-02-12 09:58:10|http%3A%2F%2Fwww.bmwclub.ru%2Fvb%2Fshowthread.php%3Ft%3D875590%26page%3D4|\n",
      "|289380960531|2015-02-12 09:58:11|http%3A%2F%2Fwww.bmwclub.ru%2Fvb%2Fforumdisplay.php%3Ff%3D128            |\n",
      "+------------+-------------------+-------------------------------------------------------------------------+\n",
      "only showing top 5 rows\n",
      "\n"
     ]
    }
   ],
   "source": [
    "logs_df.show(5, truncate=false)"
   ]
  },
  {
   "cell_type": "code",
   "execution_count": 33,
   "metadata": {},
   "outputs": [
    {
     "name": "stdout",
     "output_type": "stream",
     "text": [
      "+------------+-------------------+----------+\n",
      "|         UID|          Timestamp|       URL|\n",
      "+------------+-------------------+----------+\n",
      "|258131083251|2015-02-12 09:58:11|  zakon.kz|\n",
      "|182984926014|2015-02-12 09:58:11|bmwclub.ru|\n",
      "|182984926014|2015-02-12 09:58:10|bmwclub.ru|\n",
      "|289380960531|2015-02-12 09:58:11|bmwclub.ru|\n",
      "|289380960531|2015-02-12 09:58:10|bmwclub.ru|\n",
      "+------------+-------------------+----------+\n",
      "only showing top 5 rows\n",
      "\n"
     ]
    },
    {
     "data": {
      "text/plain": [
       "substrDel = substring_index(URL, ., 1)\n",
       "logs_df_clean = [UID: string, Timestamp: timestamp ... 1 more field]\n"
      ]
     },
     "metadata": {},
     "output_type": "display_data"
    },
    {
     "data": {
      "text/plain": [
       "[UID: string, Timestamp: timestamp ... 1 more field]"
      ]
     },
     "execution_count": 33,
     "metadata": {},
     "output_type": "execute_result"
    }
   ],
   "source": [
    "// extracting neat URL\n",
    "\n",
    "val substrDel = substring_index($\"URL\", \".\", 1)\n",
    "val logs_df_clean = logs_df.withColumn(\"URL\", substring_index(substring(regexp_replace($\"URL\",substrDel , lit(\"\")), 2, 999), \"%\", 1))\n",
    "\n",
    "logs_df_clean.show(numRows=5, truncate=200 /*, vertical=true*/)"
   ]
  },
  {
   "cell_type": "code",
   "execution_count": 34,
   "metadata": {},
   "outputs": [
    {
     "data": {
      "text/plain": [
       "Name: Syntax Error.\n",
       "Message: \n",
       "StackTrace: "
      ]
     },
     "execution_count": 34,
     "metadata": {},
     "output_type": "execute_result"
    }
   ],
   "source": [
    "//logs_df.withColumn(\"URL\", trim(LEADING, lit(\"http\"),  $\"URL\")).show(3)"
   ]
  },
  {
   "cell_type": "code",
   "execution_count": 36,
   "metadata": {},
   "outputs": [
    {
     "name": "stdout",
     "output_type": "stream",
     "text": [
      "root\n",
      " |-- UID: string (nullable = true)\n",
      " |-- Timestamp: timestamp (nullable = true)\n",
      " |-- URL: string (nullable = true)\n",
      "\n"
     ]
    }
   ],
   "source": [
    "logs_df_clean.printSchema()"
   ]
  },
  {
   "cell_type": "code",
   "execution_count": 37,
   "metadata": {},
   "outputs": [
    {
     "name": "stdout",
     "output_type": "stream",
     "text": [
      "+------------+\n",
      "|   autousers|\n",
      "+------------+\n",
      "|100341861572|\n",
      "|100473724387|\n",
      "|100528753939|\n",
      "+------------+\n",
      "only showing top 3 rows\n",
      "\n"
     ]
    },
    {
     "data": {
      "text/plain": [
       "vehicleUsers_df = [autousers: string]\n"
      ]
     },
     "metadata": {},
     "output_type": "display_data"
    },
    {
     "data": {
      "text/plain": [
       "[autousers: string]"
      ]
     },
     "execution_count": 37,
     "metadata": {},
     "output_type": "execute_result"
    }
   ],
   "source": [
    "val vehicleUsers_df = vehicleUsers.select(explode($\"autousers\").alias(\"autousers\"))\n",
    "vehicleUsers_df.show(3)"
   ]
  },
  {
   "cell_type": "code",
   "execution_count": 38,
   "metadata": {},
   "outputs": [
    {
     "data": {
      "text/plain": [
       "100000"
      ]
     },
     "execution_count": 38,
     "metadata": {},
     "output_type": "execute_result"
    }
   ],
   "source": [
    "logs_df_clean.select($\"UID\").distinct.count()"
   ]
  },
  {
   "cell_type": "code",
   "execution_count": 40,
   "metadata": {},
   "outputs": [
    {
     "data": {
      "text/plain": [
       "5209"
      ]
     },
     "execution_count": 40,
     "metadata": {},
     "output_type": "execute_result"
    }
   ],
   "source": [
    "vehicleUsers_df.select(\"autousers\").distinct().count()"
   ]
  },
  {
   "cell_type": "code",
   "execution_count": null,
   "metadata": {},
   "outputs": [],
   "source": []
  }
 ],
 "metadata": {
  "kernelspec": {
   "display_name": "Apache Toree - Scala",
   "language": "scala",
   "name": "apache_toree_scala"
  },
  "language_info": {
   "codemirror_mode": "text/x-scala",
   "file_extension": ".scala",
   "mimetype": "text/x-scala",
   "name": "scala",
   "pygments_lexer": "scala",
   "version": "2.11.12"
  }
 },
 "nbformat": 4,
 "nbformat_minor": 2
}
