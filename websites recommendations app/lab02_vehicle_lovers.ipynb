{
 "cells": [
  {
   "cell_type": "code",
   "execution_count": 1,
   "metadata": {},
   "outputs": [],
   "source": [
    "  // обрезать после домена ?\n",
    "\n",
    "\n",
    "import org.apache.spark.sql._\n",
    "import org.apache.spark.ml._\n",
    "import java.io._\n",
    "import play.api.libs.json._\n",
    "import org.apache.spark.sql.Row\n",
    "import org.apache.spark.sql.functions._\n",
    "import java.net.URLDecoder.decode"
   ]
  },
  {
   "cell_type": "code",
   "execution_count": 2,
   "metadata": {},
   "outputs": [
    {
     "data": {
      "text/plain": [
       "vehicleUsers = [autousers: array<string>]\n"
      ]
     },
     "metadata": {},
     "output_type": "display_data"
    },
    {
     "data": {
      "text/plain": [
       "[autousers: array<string>]"
      ]
     },
     "execution_count": 2,
     "metadata": {},
     "output_type": "execute_result"
    }
   ],
   "source": [
    "val vehicleUsers = spark.read.json(\"/labs/laba02/autousers.json\").toDF()"
   ]
  },
  {
   "cell_type": "code",
   "execution_count": 3,
   "metadata": {},
   "outputs": [
    {
     "data": {
      "text/plain": [
       "logs = [value: string]\n"
      ]
     },
     "metadata": {},
     "output_type": "display_data"
    },
    {
     "data": {
      "text/plain": [
       "[value: string]"
      ]
     },
     "execution_count": 3,
     "metadata": {},
     "output_type": "execute_result"
    }
   ],
   "source": [
    "val logs = spark.read.option(\"delimiter\", \"\\t\").textFile(\"/labs/laba02/logs\")"
   ]
  },
  {
   "cell_type": "code",
   "execution_count": 4,
   "metadata": {},
   "outputs": [
    {
     "name": "stdout",
     "output_type": "stream",
     "text": [
      "+-----------------------------------------------------------------------------------------------------+\n",
      "|value                                                                                                |\n",
      "+-----------------------------------------------------------------------------------------------------+\n",
      "|258131083251\t1423724291.637\thttp%3A%2F%2Fwww.zakon.kz%2F                                             |\n",
      "|258131083251\t1423724290.637                                                                          |\n",
      "|182984926014\t1423724291.666\thttp%3A%2F%2Fwww.bmwclub.ru%2Fvb%2Fshowthread.php%3Ft%3D875590%26page%3D5|\n",
      "+-----------------------------------------------------------------------------------------------------+\n",
      "only showing top 3 rows\n",
      "\n"
     ]
    }
   ],
   "source": [
    "logs.show(3, truncate=false)"
   ]
  },
  {
   "cell_type": "code",
   "execution_count": 5,
   "metadata": {},
   "outputs": [
    {
     "name": "stdout",
     "output_type": "stream",
     "text": [
      "+---------------------------------------------------------------------------------------------------------+\n",
      "|value                                                                                                    |\n",
      "+---------------------------------------------------------------------------------------------------------+\n",
      "|[258131083251, 1423724291.637, http%3A%2F%2Fwww.zakon.kz%2F]                                             |\n",
      "|[258131083251, 1423724290.637]                                                                           |\n",
      "|[182984926014, 1423724291.666, http%3A%2F%2Fwww.bmwclub.ru%2Fvb%2Fshowthread.php%3Ft%3D875590%26page%3D5]|\n",
      "+---------------------------------------------------------------------------------------------------------+\n",
      "only showing top 3 rows\n",
      "\n"
     ]
    },
    {
     "data": {
      "text/plain": [
       "col_ = split(value, \t) AS `value`\n",
       "logs_splited = [value: array<string>]\n"
      ]
     },
     "metadata": {},
     "output_type": "display_data"
    },
    {
     "data": {
      "text/plain": [
       "[value: array<string>]"
      ]
     },
     "execution_count": 5,
     "metadata": {},
     "output_type": "execute_result"
    }
   ],
   "source": [
    "// split df to array rows\n",
    "\n",
    "val col_ = split(col(\"value\"), \"\\t\").alias(\"value\")\n",
    "val logs_splited = logs.select(col_)\n",
    "logs_splited.show(3, truncate=false)"
   ]
  },
  {
   "cell_type": "code",
   "execution_count": 6,
   "metadata": {},
   "outputs": [
    {
     "data": {
      "text/plain": [
       "logs_df = [UID: string, Timestamp: timestamp ... 1 more field]\n"
      ]
     },
     "metadata": {},
     "output_type": "display_data"
    },
    {
     "data": {
      "text/plain": [
       "[UID: string, Timestamp: timestamp ... 1 more field]"
      ]
     },
     "execution_count": 6,
     "metadata": {},
     "output_type": "execute_result"
    }
   ],
   "source": [
    "// selecting columns by index of arrays\n",
    "\n",
    "val logs_df = logs_splited.withColumn(\"UID\", $\"value\"(0))\n",
    "                    .withColumn(\"Timestamp\", $\"value\"(1))\n",
    "                    .withColumn(\"URL\", $\"value\"(2))\n",
    "                    .withColumn(\"Timestamp\", to_timestamp(from_unixtime($\"Timestamp\")))\n",
    "                    .select(\"UID\",\"Timestamp\", \"URL\")\n",
    "                    .filter($\"URL\".like(\"%http%\"))\n",
    "//                    .filter($\"URL\".like(\"%http_://%\"))\n"
   ]
  },
  {
   "cell_type": "code",
   "execution_count": 7,
   "metadata": {},
   "outputs": [
    {
     "data": {
      "text/plain": [
       "Name: Syntax Error.\n",
       "Message: \n",
       "StackTrace: "
      ]
     },
     "execution_count": 7,
     "metadata": {},
     "output_type": "execute_result"
    }
   ],
   "source": [
    "// logs_df.select($\"URL\").count()"
   ]
  },
  {
   "cell_type": "code",
   "execution_count": 8,
   "metadata": {},
   "outputs": [
    {
     "data": {
      "text/plain": [
       "logs_df_replaced = [UID: string, Timestamp: timestamp ... 1 more field]\n"
      ]
     },
     "metadata": {},
     "output_type": "display_data"
    },
    {
     "data": {
      "text/plain": [
       "[UID: string, Timestamp: timestamp ... 1 more field]"
      ]
     },
     "execution_count": 8,
     "metadata": {},
     "output_type": "execute_result"
    }
   ],
   "source": [
    "val logs_df_replaced = logs_df.withColumn(\"URL\", regexp_replace($\"URL\", lit(\"u0\"), lit(\"\")))withColumn(\"URL\", regexp_replace($\"URL\", lit(\"u2\"), lit(\"\")))"
   ]
  },
  {
   "cell_type": "code",
   "execution_count": 9,
   "metadata": {},
   "outputs": [
    {
     "data": {
      "text/plain": [
       "Name: Syntax Error.\n",
       "Message: \n",
       "StackTrace: "
      ]
     },
     "execution_count": 9,
     "metadata": {},
     "output_type": "execute_result"
    }
   ],
   "source": [
    "// logs_df_replaced.select($\"URL\").filter($\"URL\".like(\"%u[02]%\")).count()"
   ]
  },
  {
   "cell_type": "code",
   "execution_count": 10,
   "metadata": {},
   "outputs": [
    {
     "data": {
      "text/plain": [
       "val url = \"http%3A%2F%2Finixi.ru%2Fc246-7497.html\"\n",
       "val s = java.net.URLDecoder.decode(url, \"UTF-8\")\n"
      ]
     },
     "metadata": {},
     "output_type": "display_data"
    }
   ],
   "source": [
    "// encoding example\n",
    "\"\"\"val url = \"http%3A%2F%2Finixi.ru%2Fc246-7497.html\"\n",
    "val s = java.net.URLDecoder.decode(url, \"UTF-8\")\"\"\""
   ]
  },
  {
   "cell_type": "code",
   "execution_count": 11,
   "metadata": {},
   "outputs": [
    {
     "name": "stdout",
     "output_type": "stream",
     "text": [
      "+------------+-------------------+-------------------------------------------------------+\n",
      "|UID         |Timestamp          |URL                                                    |\n",
      "+------------+-------------------+-------------------------------------------------------+\n",
      "|258131083251|2015-02-12 09:58:11|http://www.zakon.kz/                                   |\n",
      "|182984926014|2015-02-12 09:58:11|http://www.bmwclub.ru/vb/showthread.php?t=875590&page=5|\n",
      "|182984926014|2015-02-12 09:58:10|http://www.bmwclub.ru/vb/showthread.php?t=875590&page=4|\n",
      "|289380960531|2015-02-12 09:58:11|http://www.bmwclub.ru/vb/forumdisplay.php?f=128        |\n",
      "|289380960531|2015-02-12 09:58:10|http://www.bmwclub.ru/vb/                              |\n",
      "|85356233460 |2015-02-12 09:58:10|http://www.wmmail.ru/index.php?cf=usf-userfing         |\n",
      "|204109491902|2015-02-12 09:58:11|https://vk.com/id21743084                              |\n",
      "|204109491902|2015-02-12 09:58:10|https://vk.com/feed?section=updates                    |\n",
      "|302580370974|2015-02-12 09:58:11|http://www.novayagazeta.ru/                            |\n",
      "|160372190500|2015-02-12 09:58:11|http://forum.krasmama.ru/viewforum.php?f=247           |\n",
      "|160372190500|2015-02-12 09:58:10|http://forum.krasmama.ru/viewforum.php?f=117           |\n",
      "|310139244463|2015-02-12 09:58:12|http://smotri.com/broadcast/list/erotic/               |\n",
      "|310139244463|2015-02-12 09:58:11|http://smotri.com/broadcast/list/                      |\n",
      "|282764127635|2015-02-12 09:58:12|http://www.psychologies.ru/sexuality/                  |\n",
      "|253243488436|2015-02-12 09:58:12|http://www.echo.msk.ru/blog/adme/1491686-echo/         |\n",
      "|253243488436|2015-02-12 09:58:11|http://www.echo.msk.ru/                                |\n",
      "|85356233460 |2015-02-12 09:58:11|http://www.wmmail.ru/index.php?cf=usf-userfing         |\n",
      "|95786660366 |2015-02-12 09:58:12|http://echo.msk.ru/                                    |\n",
      "|198930780414|2015-02-12 09:58:12|http://echo.msk.ru/blog/                               |\n",
      "|310152901199|2015-02-12 09:58:12|http://smotri.com/video/view/?id=v9069473e29#as        |\n",
      "+------------+-------------------+-------------------------------------------------------+\n",
      "only showing top 20 rows\n",
      "\n"
     ]
    },
    {
     "data": {
      "text/plain": [
       "urlDecoder = UserDefinedFunction(<function1>,StringType,Some(List(StringType)))\n",
       "logs_df_udf = [UID: string, Timestamp: timestamp ... 1 more field]\n"
      ]
     },
     "metadata": {},
     "output_type": "display_data"
    },
    {
     "data": {
      "text/plain": [
       "[UID: string, Timestamp: timestamp ... 1 more field]"
      ]
     },
     "execution_count": 11,
     "metadata": {},
     "output_type": "execute_result"
    }
   ],
   "source": [
    "import org.apache.spark.sql.functions.{col, udf}\n",
    "val urlDecoder = udf((s: String) => java.net.URLDecoder.decode(s, \"UTF-8\"))\n",
    "\n",
    "\n",
    "val logs_df_udf = logs_df_replaced.filter($\"URL\".like(\"%http%\")).withColumn(\"URL\", urlDecoder(col(\"URL\")) as \"URL\")\n",
    "logs_df_udf.show(truncate=false)"
   ]
  },
  {
   "cell_type": "code",
   "execution_count": 12,
   "metadata": {},
   "outputs": [
    {
     "name": "stdout",
     "output_type": "stream",
     "text": [
      "+------------+-------------------+-------------------------------------------------------+\n",
      "|UID         |Timestamp          |URL                                                    |\n",
      "+------------+-------------------+-------------------------------------------------------+\n",
      "|258131083251|2015-02-12 09:58:11|http://www.zakon.kz/                                   |\n",
      "|182984926014|2015-02-12 09:58:11|http://www.bmwclub.ru/vb/showthread.php?t=875590&page=5|\n",
      "|182984926014|2015-02-12 09:58:10|http://www.bmwclub.ru/vb/showthread.php?t=875590&page=4|\n",
      "|289380960531|2015-02-12 09:58:11|http://www.bmwclub.ru/vb/forumdisplay.php?f=128        |\n",
      "|289380960531|2015-02-12 09:58:10|http://www.bmwclub.ru/vb/                              |\n",
      "+------------+-------------------+-------------------------------------------------------+\n",
      "only showing top 5 rows\n",
      "\n"
     ]
    },
    {
     "data": {
      "text/plain": [
       "logs_df_domen = [UID: string, Timestamp: timestamp ... 1 more field]\n"
      ]
     },
     "metadata": {},
     "output_type": "display_data"
    },
    {
     "data": {
      "text/plain": [
       "[UID: string, Timestamp: timestamp ... 1 more field]"
      ]
     },
     "execution_count": 12,
     "metadata": {},
     "output_type": "execute_result"
    }
   ],
   "source": [
    "val logs_df_domen = logs_df_udf.filter(($\"URL\".like(\"%http://%\")) || ($\"URL\".like(\"%https://%\")))\n",
    "logs_df_domen.show(5, false)\n"
   ]
  },
  {
   "cell_type": "code",
   "execution_count": 13,
   "metadata": {},
   "outputs": [
    {
     "name": "stdout",
     "output_type": "stream",
     "text": [
      "+------------+-------------------+----------+\n",
      "|         UID|          Timestamp|       URL|\n",
      "+------------+-------------------+----------+\n",
      "|258131083251|2015-02-12 09:58:11|  zakon.kz|\n",
      "|182984926014|2015-02-12 09:58:11|bmwclub.ru|\n",
      "|182984926014|2015-02-12 09:58:10|bmwclub.ru|\n",
      "|289380960531|2015-02-12 09:58:11|bmwclub.ru|\n",
      "|289380960531|2015-02-12 09:58:10|bmwclub.ru|\n",
      "+------------+-------------------+----------+\n",
      "only showing top 5 rows\n",
      "\n"
     ]
    },
    {
     "data": {
      "text/plain": [
       "logs_decoded = [UID: string, Timestamp: timestamp ... 1 more field]\n"
      ]
     },
     "metadata": {},
     "output_type": "display_data"
    },
    {
     "data": {
      "text/plain": [
       "[UID: string, Timestamp: timestamp ... 1 more field]"
      ]
     },
     "execution_count": 13,
     "metadata": {},
     "output_type": "execute_result"
    }
   ],
   "source": [
    "// extracting neat URL\n",
    "\n",
    "val logs_decoded = logs_df_domen.withColumn(\"URL\", lower(callUDF(\"parse_url\", $\"URL\", lit(\"HOST\"))))\n",
    "                               .withColumn(\"URL\", regexp_replace(lower($\"URL\"), \"www.\", \"\"))\n",
    "logs_decoded.show(5)"
   ]
  },
  {
   "cell_type": "code",
   "execution_count": 14,
   "metadata": {},
   "outputs": [
    {
     "data": {
      "text/plain": [
       "\"\n",
       "val substrDel = substring_index($\"URL\", \".\", 1)\n",
       "val logs_df_clean = logs_df.withColumn(\"URL\", substring_index(substring(regexp_replace($\"URL\",substrDel , lit(\"\")), 2, 999), \"%\", 1))\n",
       "logs_df_clean.show(numRows=5, truncate=200 /*, vertical=true*/)\"\n"
      ]
     },
     "metadata": {},
     "output_type": "display_data"
    }
   ],
   "source": [
    "// extracting neat URL\n",
    "\"\"\"\n",
    "val substrDel = substring_index($\"URL\", \".\", 1)\n",
    "val logs_df_clean = logs_df.withColumn(\"URL\", substring_index(substring(regexp_replace($\"URL\",substrDel , lit(\"\")), 2, 999), \"%\", 1))\n",
    "\n",
    "logs_df_clean.show(numRows=5, truncate=200 /*, vertical=true*/)\"\"\""
   ]
  },
  {
   "cell_type": "code",
   "execution_count": 15,
   "metadata": {},
   "outputs": [
    {
     "name": "stdout",
     "output_type": "stream",
     "text": [
      "root\n",
      " |-- UID: string (nullable = true)\n",
      " |-- Timestamp: timestamp (nullable = true)\n",
      " |-- URL: string (nullable = true)\n",
      "\n"
     ]
    }
   ],
   "source": [
    "logs_decoded.printSchema()"
   ]
  },
  {
   "cell_type": "code",
   "execution_count": 16,
   "metadata": {},
   "outputs": [
    {
     "name": "stdout",
     "output_type": "stream",
     "text": [
      "+------------+\n",
      "|   autousers|\n",
      "+------------+\n",
      "|100341861572|\n",
      "|100473724387|\n",
      "|100528753939|\n",
      "+------------+\n",
      "only showing top 3 rows\n",
      "\n"
     ]
    },
    {
     "data": {
      "text/plain": [
       "vehicleUsers_df = [autousers: string]\n"
      ]
     },
     "metadata": {},
     "output_type": "display_data"
    },
    {
     "data": {
      "text/plain": [
       "[autousers: string]"
      ]
     },
     "execution_count": 16,
     "metadata": {},
     "output_type": "execute_result"
    }
   ],
   "source": [
    "val vehicleUsers_df = vehicleUsers.select(explode($\"autousers\").alias(\"autousers\"))\n",
    "vehicleUsers_df.show(3)"
   ]
  },
  {
   "cell_type": "code",
   "execution_count": 17,
   "metadata": {},
   "outputs": [
    {
     "data": {
      "text/plain": [
       "100000"
      ]
     },
     "execution_count": 17,
     "metadata": {},
     "output_type": "execute_result"
    }
   ],
   "source": [
    "logs_decoded.select($\"UID\").distinct.count()"
   ]
  },
  {
   "cell_type": "code",
   "execution_count": 18,
   "metadata": {},
   "outputs": [
    {
     "data": {
      "text/plain": [
       "5209"
      ]
     },
     "execution_count": 18,
     "metadata": {},
     "output_type": "execute_result"
    }
   ],
   "source": [
    "vehicleUsers_df.select(\"autousers\").distinct().count()"
   ]
  },
  {
   "cell_type": "code",
   "execution_count": 19,
   "metadata": {},
   "outputs": [
    {
     "name": "stdout",
     "output_type": "stream",
     "text": [
      "+------------+-------------------+-----------------+------------+\n",
      "|         UID|          Timestamp|              URL|   autousers|\n",
      "+------------+-------------------+-----------------+------------+\n",
      "|258131083251|2015-02-12 09:58:11|         zakon.kz|        null|\n",
      "|182984926014|2015-02-12 09:58:11|       bmwclub.ru|182984926014|\n",
      "|182984926014|2015-02-12 09:58:10|       bmwclub.ru|182984926014|\n",
      "|289380960531|2015-02-12 09:58:11|       bmwclub.ru|289380960531|\n",
      "|289380960531|2015-02-12 09:58:10|       bmwclub.ru|289380960531|\n",
      "| 85356233460|2015-02-12 09:58:10|        wmmail.ru|        null|\n",
      "|204109491902|2015-02-12 09:58:11|           vk.com|        null|\n",
      "|204109491902|2015-02-12 09:58:10|           vk.com|        null|\n",
      "|302580370974|2015-02-12 09:58:11|  novayagazeta.ru|        null|\n",
      "|160372190500|2015-02-12 09:58:11|forum.krasmama.ru|        null|\n",
      "|160372190500|2015-02-12 09:58:10|forum.krasmama.ru|        null|\n",
      "|310139244463|2015-02-12 09:58:12|       smotri.com|        null|\n",
      "|310139244463|2015-02-12 09:58:11|       smotri.com|        null|\n",
      "|282764127635|2015-02-12 09:58:12|  psychologies.ru|        null|\n",
      "|253243488436|2015-02-12 09:58:12|      echo.msk.ru|        null|\n",
      "|253243488436|2015-02-12 09:58:11|      echo.msk.ru|        null|\n",
      "| 85356233460|2015-02-12 09:58:11|        wmmail.ru|        null|\n",
      "| 95786660366|2015-02-12 09:58:12|      echo.msk.ru|        null|\n",
      "|198930780414|2015-02-12 09:58:12|      echo.msk.ru|        null|\n",
      "|310152901199|2015-02-12 09:58:12|       smotri.com|        null|\n",
      "+------------+-------------------+-----------------+------------+\n",
      "only showing top 20 rows\n",
      "\n"
     ]
    },
    {
     "data": {
      "text/plain": [
       "joined_df = [UID: string, Timestamp: timestamp ... 2 more fields]\n"
      ]
     },
     "metadata": {},
     "output_type": "display_data"
    },
    {
     "data": {
      "text/plain": [
       "6571047"
      ]
     },
     "execution_count": 19,
     "metadata": {},
     "output_type": "execute_result"
    }
   ],
   "source": [
    "val joined_df = logs_decoded.join(vehicleUsers_df, $\"UID\" === $\"autousers\", \"left\")\n",
    "joined_df.show()\n",
    "joined_df.count()"
   ]
  },
  {
   "cell_type": "code",
   "execution_count": 51,
   "metadata": {},
   "outputs": [
    {
     "name": "stdout",
     "output_type": "stream",
     "text": [
      "+-----------+-------------------+----------+-----------+\n",
      "|        UID|          Timestamp|       URL|  autousers|\n",
      "+-----------+-------------------+----------+-----------+\n",
      "|99751967102|2015-02-12 15:23:02|bmwclub.ru|99751967102|\n",
      "|99751967102|2015-02-12 16:23:16|bmwclub.ru|99751967102|\n",
      "|99751967102|2015-02-12 15:17:12|bmwclub.ru|99751967102|\n",
      "|99751967102|2015-02-12 16:25:10|bmwclub.ru|99751967102|\n",
      "|99751967102|2015-02-12 16:23:29|bmwclub.ru|99751967102|\n",
      "|99751967102|2015-02-12 16:23:30|bmwclub.ru|99751967102|\n",
      "|99751967102|2015-02-12 16:23:17|bmwclub.ru|99751967102|\n",
      "|99751967102|2015-02-12 16:23:34|bmwclub.ru|99751967102|\n",
      "|99751967102|2015-02-12 16:23:33|bmwclub.ru|99751967102|\n",
      "|99751967102|2015-02-12 16:25:09|bmwclub.ru|99751967102|\n",
      "+-----------+-------------------+----------+-----------+\n",
      "only showing top 10 rows\n",
      "\n",
      "+------------+-------------------+--------------+------------+\n",
      "|         UID|          Timestamp|           URL|   autousers|\n",
      "+------------+-------------------+--------------+------------+\n",
      "|100341861572|2015-02-12 19:52:15|avto-russia.ru|100341861572|\n",
      "|100341861572|2015-02-12 21:00:02|avto-russia.ru|100341861572|\n",
      "|100341861572|2015-02-12 19:52:16|avto-russia.ru|100341861572|\n",
      "|100341861572|2015-02-12 22:08:27|avto-russia.ru|100341861572|\n",
      "|100341861572|2015-02-12 21:00:03|avto-russia.ru|100341861572|\n",
      "|100341861572|2015-02-12 20:36:38|avto-russia.ru|100341861572|\n",
      "|100341861572|2015-02-12 21:25:55|avto-russia.ru|100341861572|\n",
      "|100341861572|2015-02-12 20:26:48|avto-russia.ru|100341861572|\n",
      "|100341861572|2015-02-12 20:26:47|avto-russia.ru|100341861572|\n",
      "|100341861572|2015-02-12 22:08:26|avto-russia.ru|100341861572|\n",
      "+------------+-------------------+--------------+------------+\n",
      "only showing top 10 rows\n",
      "\n"
     ]
    }
   ],
   "source": [
    "joined_df.orderBy($\"UID\".desc).show(10)\n",
    "joined_df.orderBy($\"UID\".asc).show(10)"
   ]
  },
  {
   "cell_type": "code",
   "execution_count": 20,
   "metadata": {},
   "outputs": [
    {
     "data": {
      "text/plain": [
       "joined_df_int = [UID: bigint, Timestamp: timestamp ... 2 more fields]\n"
      ]
     },
     "metadata": {},
     "output_type": "display_data"
    },
    {
     "data": {
      "text/plain": [
       "[UID: bigint, Timestamp: timestamp ... 2 more fields]"
      ]
     },
     "execution_count": 20,
     "metadata": {},
     "output_type": "execute_result"
    }
   ],
   "source": [
    "// to int val joined_df_int = \n",
    "val joined_df_int = joined_df.withColumn(\"UID\", $\"UID\".cast(\"long\"))"
   ]
  },
  {
   "cell_type": "code",
   "execution_count": 62,
   "metadata": {},
   "outputs": [
    {
     "name": "stdout",
     "output_type": "stream",
     "text": [
      "+-----------------+---------+\n",
      "|              URL|Auto-flag|\n",
      "+-----------------+---------+\n",
      "|         zakon.kz|        0|\n",
      "|       bmwclub.ru|        1|\n",
      "|       bmwclub.ru|        1|\n",
      "|       bmwclub.ru|        1|\n",
      "|       bmwclub.ru|        1|\n",
      "|        wmmail.ru|        0|\n",
      "|           vk.com|        0|\n",
      "|           vk.com|        0|\n",
      "|  novayagazeta.ru|        0|\n",
      "|forum.krasmama.ru|        0|\n",
      "|forum.krasmama.ru|        0|\n",
      "|       smotri.com|        0|\n",
      "|       smotri.com|        0|\n",
      "|  psychologies.ru|        0|\n",
      "|      echo.msk.ru|        0|\n",
      "|      echo.msk.ru|        0|\n",
      "|        wmmail.ru|        0|\n",
      "|      echo.msk.ru|        0|\n",
      "|      echo.msk.ru|        0|\n",
      "|       smotri.com|        0|\n",
      "+-----------------+---------+\n",
      "only showing top 20 rows\n",
      "\n"
     ]
    },
    {
     "data": {
      "text/plain": [
       "joined_df_two_cols = [URL: string, Auto-flag: int]\n"
      ]
     },
     "metadata": {},
     "output_type": "display_data"
    },
    {
     "data": {
      "text/plain": [
       "[URL: string, Auto-flag: int]"
      ]
     },
     "execution_count": 62,
     "metadata": {},
     "output_type": "execute_result"
    }
   ],
   "source": [
    "val joined_df_two_cols = joined_df_int.withColumn(\"Auto-flag\", when($\"autousers\".isNotNull, 1).otherwise(0))\n",
    "                                .select($\"URL\", $\"Auto-flag\")\n",
    "    joined_df_two_cols.show()         "
   ]
  },
  {
   "cell_type": "code",
   "execution_count": 29,
   "metadata": {},
   "outputs": [
    {
     "data": {
      "text/plain": [
       "window = org.apache.spark.sql.expressions.WindowSpec@4fe2e31d\n"
      ]
     },
     "metadata": {},
     "output_type": "display_data"
    },
    {
     "data": {
      "text/plain": [
       "org.apache.spark.sql.expressions.WindowSpec@4fe2e31d"
      ]
     },
     "execution_count": 29,
     "metadata": {},
     "output_type": "execute_result"
    }
   ],
   "source": [
    "import org.apache.spark.sql.expressions.Window\n",
    "\n",
    "val window = Window.partitionBy(\"URL\")"
   ]
  },
  {
   "cell_type": "code",
   "execution_count": 66,
   "metadata": {},
   "outputs": [
    {
     "data": {
      "text/plain": [
       "laba02_domains = [domain: string, relevance: double]\n"
      ]
     },
     "metadata": {},
     "output_type": "display_data"
    },
    {
     "data": {
      "text/plain": [
       "[domain: string, relevance: double]"
      ]
     },
     "execution_count": 66,
     "metadata": {},
     "output_type": "execute_result"
    }
   ],
   "source": [
    "val laba02_domains = joined_df_two_cols.withColumn(\"P_domain_and_driver_sqrt\", sum($\"Auto-flag\").over(window))\n",
    "                          .withColumn(\"P_domain_and_driver_sqrt\", $\"P_domain_and_driver_sqrt\" * $\"P_domain_and_driver_sqrt\")\n",
    "                          .withColumn(\"P_domain\", count($\"URL\").over(window))\n",
    "                          .withColumn(\"P_driver\", sum($\"Auto-flag\").over(Window.partitionBy()))\n",
    "                          .withColumn(\"relevance\", round($\"P_domain_and_driver_sqrt\" / ($\"P_domain\" * $\"P_driver\"), 4))\n",
    "                          .select($\"URL\".as(\"domain\"), $\"relevance\")\n",
    "                          .orderBy($\"relevance\".desc)"
   ]
  },
  {
   "cell_type": "code",
   "execution_count": 67,
   "metadata": {},
   "outputs": [
    {
     "name": "stdout",
     "output_type": "stream",
     "text": [
      "+-------------------+---------+\n",
      "|             domain|relevance|\n",
      "+-------------------+---------+\n",
      "|     avto-russia.ru|   0.3593|\n",
      "|         bmwclub.ru|     0.31|\n",
      "|            cars.ru|   0.2065|\n",
      "|     auto.yandex.ru|   0.0026|\n",
      "|       passat-b5.ru|   0.0026|\n",
      "|             as8.ru|   0.0015|\n",
      "|      avtogermes.ru|   0.0013|\n",
      "|         club-fx.ru|   0.0011|\n",
      "|      spravka003.ru|    0.001|\n",
      "|       car-total.ru|   9.0E-4|\n",
      "|         e36club.ru|   7.0E-4|\n",
      "|           eleks.ru|   6.0E-4|\n",
      "|          yandex.ru|   6.0E-4|\n",
      "|stonerrock.borda.ru|   6.0E-4|\n",
      "|        e38-club.ru|   6.0E-4|\n",
      "| shop.kalyan-hut.ru|   6.0E-4|\n",
      "|            vwts.ru|   5.0E-4|\n",
      "| forums.warforge.ru|   5.0E-4|\n",
      "|     se7enkills.net|   4.0E-4|\n",
      "|           inixi.ru|   4.0E-4|\n",
      "+-------------------+---------+\n",
      "only showing top 20 rows\n",
      "\n"
     ]
    }
   ],
   "source": [
    "laba02_domains.distinct.show()"
   ]
  },
  {
   "cell_type": "code",
   "execution_count": null,
   "metadata": {},
   "outputs": [],
   "source": []
  },
  {
   "cell_type": "code",
   "execution_count": null,
   "metadata": {},
   "outputs": [],
   "source": []
  },
  {
   "cell_type": "code",
   "execution_count": null,
   "metadata": {},
   "outputs": [],
   "source": []
  },
  {
   "cell_type": "markdown",
   "metadata": {},
   "source": [
    "### testing data"
   ]
  },
  {
   "cell_type": "code",
   "execution_count": 22,
   "metadata": {},
   "outputs": [
    {
     "data": {
      "text/plain": [
       "someDF = [URL: string, Auto-flag: int]\n"
      ]
     },
     "metadata": {},
     "output_type": "display_data"
    },
    {
     "data": {
      "text/plain": [
       "[URL: string, Auto-flag: int]"
      ]
     },
     "execution_count": 22,
     "metadata": {},
     "output_type": "execute_result"
    }
   ],
   "source": [
    "val someDF = Seq(\n",
    "  (\"cars.ru\", 1),\n",
    "  (\"auto.ru\", 1),\n",
    "  (\"ya.ru\", 1),\n",
    "    (\"ya.ru\", 0),\n",
    "    (\"auto.ru\", 0),\n",
    "    (\"ya.ru\", 0),\n",
    "    (\"market.ya.ru\", 0),\n",
    "    (\"auto.ru\", 1),\n",
    "    (\"cars.ru\", 1),\n",
    "    (\"ya.ru\", 1)\n",
    ").toDF(\"URL\", \"Auto-flag\")"
   ]
  },
  {
   "cell_type": "code",
   "execution_count": 23,
   "metadata": {
    "scrolled": true
   },
   "outputs": [
    {
     "name": "stdout",
     "output_type": "stream",
     "text": [
      "+------------+---------+\n",
      "|         URL|Auto-flag|\n",
      "+------------+---------+\n",
      "|     cars.ru|        1|\n",
      "|     auto.ru|        1|\n",
      "|       ya.ru|        1|\n",
      "|       ya.ru|        0|\n",
      "|     auto.ru|        0|\n",
      "|       ya.ru|        0|\n",
      "|market.ya.ru|        0|\n",
      "|     auto.ru|        1|\n",
      "|     cars.ru|        1|\n",
      "|       ya.ru|        1|\n",
      "+------------+---------+\n",
      "\n"
     ]
    }
   ],
   "source": [
    "someDF.show()"
   ]
  },
  {
   "cell_type": "code",
   "execution_count": 56,
   "metadata": {},
   "outputs": [
    {
     "name": "stdout",
     "output_type": "stream",
     "text": [
      "+------------+---------+\n",
      "|         URL|relevance|\n",
      "+------------+---------+\n",
      "|     cars.ru|   0.3333|\n",
      "|     cars.ru|   0.3333|\n",
      "|     auto.ru|   0.2222|\n",
      "|     auto.ru|   0.2222|\n",
      "|     auto.ru|   0.2222|\n",
      "|       ya.ru|   0.1667|\n",
      "|       ya.ru|   0.1667|\n",
      "|       ya.ru|   0.1667|\n",
      "|       ya.ru|   0.1667|\n",
      "|market.ya.ru|      0.0|\n",
      "+------------+---------+\n",
      "\n"
     ]
    }
   ],
   "source": [
    "someDF.withColumn(\"P_domain_and_driver_sqrt\", sum($\"Auto-flag\").over(window))\n",
    "      .withColumn(\"P_domain_and_driver_sqrt\", $\"P_domain_and_driver_sqrt\" * $\"P_domain_and_driver_sqrt\")\n",
    "      .withColumn(\"P_domain\", count($\"URL\").over(window))\n",
    "      .withColumn(\"P_driver\", sum($\"Auto-flag\").over(Window.partitionBy()))\n",
    "      .withColumn(\"relevance\", round($\"P_domain_and_driver_sqrt\" / ($\"P_domain\" * $\"P_driver\"), 4))\n",
    "      .select($\"URL\", $\"relevance\")\n",
    "      .orderBy($\"relevance\".desc).show()\n"
   ]
  }
 ],
 "metadata": {
  "kernelspec": {
   "display_name": "Apache Toree - Scala",
   "language": "scala",
   "name": "apache_toree_scala"
  },
  "language_info": {
   "codemirror_mode": "text/x-scala",
   "file_extension": ".scala",
   "mimetype": "text/x-scala",
   "name": "scala",
   "pygments_lexer": "scala",
   "version": "2.11.12"
  }
 },
 "nbformat": 4,
 "nbformat_minor": 2
}
